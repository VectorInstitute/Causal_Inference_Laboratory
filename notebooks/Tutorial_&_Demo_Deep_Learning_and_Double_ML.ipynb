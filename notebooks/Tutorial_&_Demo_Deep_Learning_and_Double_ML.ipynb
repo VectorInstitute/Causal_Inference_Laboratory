{
  "nbformat": 4,
  "nbformat_minor": 0,
  "metadata": {
    "colab": {
      "provenance": []
    },
    "kernelspec": {
      "name": "python3",
      "display_name": "Python 3"
    },
    "language_info": {
      "name": "python"
    }
  },
  "cells": [
    {
      "cell_type": "markdown",
      "source": [
        "# Causal inference via Deep Learning\n",
        "\n",
        "In this tutorial, we will demo causal inference (CI) based on deep learning (DL) models and other models tailored for CI, including\n",
        "- TAR-Net [1]\n",
        "- Dragon-Net [2]\n",
        "- Double ML [3]\n",
        "\n",
        "\n",
        "\n",
        "[1] U. Shalit, F. D. Johansson, and D. Sontag, “Estimating individual treatment effect: generalization bounds and algorithms,” in ICML 2017.\n",
        "\n",
        "[2] C. Shi, D. Blei, and V. Veitch, “Adapting neural networks for the estimation of treatment effects,” in NeurIPS 2019.\n",
        "\n",
        "[3] V. Chernozhukov, D. Chetverikov, M. Demirer, E. Duflo, C. Hansen, W. Newey, and J. Robins, ”Double/debiased machine learning for treatment and structural parameters,” The Econometrics Journal, vol. 21, no. 1, pp. C1–C68, 01 2018."
      ],
      "metadata": {
        "id": "jlTN1rkvTnAM"
      }
    },
    {
      "cell_type": "code",
      "execution_count": null,
      "metadata": {
        "id": "Vd7mfQP0Tjwp"
      },
      "outputs": [],
      "source": [
        "import numpy as np\n",
        "import tensorflow\n",
        "import os\n"
      ]
    },
    {
      "cell_type": "markdown",
      "source": [
        "# Download the dataset"
      ],
      "metadata": {
        "id": "qg0MznhgZTm1"
      }
    },
    {
      "cell_type": "code",
      "source": [
        "!mkdir -p datasets/IHDP-100 \n",
        "!wget -P /content/datasets/IHDP-100 https://www.fredjo.com/files/ihdp_npci_1-100.train.npz\n",
        "!wget -P /content/datasets/IHDP-100 https://www.fredjo.com/files/ihdp_npci_1-100.test.npz"
      ],
      "metadata": {
        "colab": {
          "base_uri": "https://localhost:8080/"
        },
        "id": "8Dmi3SMVZXdY",
        "outputId": "246b751d-04f9-4431-b4a7-853e6f371acb"
      },
      "execution_count": null,
      "outputs": [
        {
          "output_type": "stream",
          "name": "stdout",
          "text": [
            "--2023-05-04 20:30:29--  https://www.fredjo.com/files/ihdp_npci_1-100.train.npz\n",
            "Resolving www.fredjo.com (www.fredjo.com)... 185.199.108.153, 185.199.109.153, 185.199.110.153, ...\n",
            "Connecting to www.fredjo.com (www.fredjo.com)|185.199.108.153|:443... connected.\n",
            "HTTP request sent, awaiting response... 200 OK\n",
            "Length: 16129570 (15M) [application/octet-stream]\n",
            "Saving to: ‘/content/datasets/IHDP-100/ihdp_npci_1-100.train.npz’\n",
            "\n",
            "ihdp_npci_1-100.tra 100%[===================>]  15.38M  --.-KB/s    in 0.1s    \n",
            "\n",
            "2023-05-04 20:30:29 (114 MB/s) - ‘/content/datasets/IHDP-100/ihdp_npci_1-100.train.npz’ saved [16129570/16129570]\n",
            "\n",
            "--2023-05-04 20:30:30--  https://www.fredjo.com/files/ihdp_npci_1-100.test.npz\n",
            "Resolving www.fredjo.com (www.fredjo.com)... 185.199.108.153, 185.199.109.153, 185.199.110.153, ...\n",
            "Connecting to www.fredjo.com (www.fredjo.com)|185.199.108.153|:443... connected.\n",
            "HTTP request sent, awaiting response... 200 OK\n",
            "Length: 1801570 (1.7M) [application/octet-stream]\n",
            "Saving to: ‘/content/datasets/IHDP-100/ihdp_npci_1-100.test.npz’\n",
            "\n",
            "ihdp_npci_1-100.tes 100%[===================>]   1.72M  --.-KB/s    in 0.07s   \n",
            "\n",
            "2023-05-04 20:30:30 (23.2 MB/s) - ‘/content/datasets/IHDP-100/ihdp_npci_1-100.test.npz’ saved [1801570/1801570]\n",
            "\n"
          ]
        }
      ]
    },
    {
      "cell_type": "code",
      "source": [
        "def _show_details(dataset_name, split, data):\n",
        "  print('========================================================')\n",
        "  print(f\"The details of the {split} split of {dataset_name} dataset:\")\n",
        "  for k in data.keys():\n",
        "    print(k, data[k].shape, data[k].dtype)\n",
        "  print('========================================================')\n",
        "\n",
        "def load_dataset(dataset_name = 'IHDP-100', split = 'train', details = False):\n",
        "  dataset_path = os.path.join(datasets_folder, dataset_name)\n",
        "  dataset_filename = None\n",
        "  if dataset_name == 'IHDP-100':\n",
        "    dataset_filename = f'ihdp_npci_1-100.{split}.npz'\n",
        "  elif dataset_name == 'IHDP-1000':\n",
        "    dataset_filename = f'ihdp_npci_1-1000.{split}.npz'\n",
        "  elif dataset_name == 'Jobs':\n",
        "    dataset_filename = f'jobs_DW_bin.new.10.{split}.npz'\n",
        "  else:\n",
        "    print(\"The given dataset is not supported. Use IHDP-100 by default.\")\n",
        "    dataset_filename = f'ihdp_npci_1-100.{split}.npz'\n",
        "\n",
        "  data = None\n",
        "  try:\n",
        "    data = np.load(os.path.join(dataset_path, dataset_filename))\n",
        "    if details: _show_details(dataset_name, split, data)\n",
        "  except FileNotFoundError:\n",
        "    print(f'Cannot find the file of the {split} split of dataset {dataset_name}.')\n",
        "  except:\n",
        "    print(\"Loading dataset failed.\")\n",
        "\n",
        "  return data\n",
        "\n",
        "datasets_folder = '/content/datasets'\n",
        "dataset_name = 'IHDP-100'\n",
        "\n",
        "training_data = load_dataset('IHDP-100', 'train', True)\n",
        "test_data = load_dataset('IHDP-100', 'test', True)"
      ],
      "metadata": {
        "colab": {
          "base_uri": "https://localhost:8080/"
        },
        "id": "Llf_v_SNa19V",
        "outputId": "d9da87df-3ade-451f-cafa-2fd54c2ead68"
      },
      "execution_count": null,
      "outputs": [
        {
          "output_type": "stream",
          "name": "stdout",
          "text": [
            "========================================================\n",
            "The details of the train split of IHDP-100 dataset:\n",
            "ate () int64\n",
            "mu1 (672, 100) float64\n",
            "mu0 (672, 100) float64\n",
            "yadd () int64\n",
            "yf (672, 100) float64\n",
            "ycf (672, 100) float64\n",
            "t (672, 100) float64\n",
            "x (672, 25, 100) float64\n",
            "ymul () int64\n",
            "========================================================\n",
            "========================================================\n",
            "The details of the test split of IHDP-100 dataset:\n",
            "ate () int64\n",
            "mu1 (75, 100) float64\n",
            "mu0 (75, 100) float64\n",
            "yadd () int64\n",
            "yf (75, 100) float64\n",
            "ycf (75, 100) float64\n",
            "t (75, 100) float64\n",
            "x (75, 25, 100) float64\n",
            "ymul () int64\n",
            "========================================================\n"
          ]
        }
      ]
    },
    {
      "cell_type": "code",
      "source": [
        "print(training_data['ymul'])"
      ],
      "metadata": {
        "colab": {
          "base_uri": "https://localhost:8080/"
        },
        "id": "f0FyxgoqfLEZ",
        "outputId": "90dc47da-9ea0-4fd0-f157-6554218a673e"
      },
      "execution_count": null,
      "outputs": [
        {
          "output_type": "stream",
          "name": "stdout",
          "text": [
            "1\n"
          ]
        }
      ]
    }
  ]
}