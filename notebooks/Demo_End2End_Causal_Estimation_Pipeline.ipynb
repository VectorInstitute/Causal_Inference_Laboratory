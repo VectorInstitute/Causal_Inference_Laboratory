{
  "cells": [
    {
      "cell_type": "markdown",
      "metadata": {
        "id": "view-in-github",
        "colab_type": "text"
      },
      "source": [
        "<a href=\"https://colab.research.google.com/github/VectorInstitute/Causal_Inference_Laboratory/blob/main/notebooks/Demo_End2End_Causal_Estimation_Pipeline.ipynb\" target=\"_parent\"><img src=\"https://colab.research.google.com/assets/colab-badge.svg\" alt=\"Open In Colab\"/></a>"
      ]
    },
    {
      "cell_type": "markdown",
      "source": [
        "# Preparation\n",
        "\n",
        "## Upload Code\n",
        "\n",
        "Run this code to clone the repository and prepare it. \n"
      ],
      "metadata": {
        "id": "WWXJoMBul0VW"
      }
    },
    {
      "cell_type": "code",
      "source": [
        "!git clone https://github.com/VectorInstitute/Causal_Inference_Laboratory.git\n",
        "!mv Causal_Inference_Laboratory code\n",
        "!mv code/data ./data\n",
        "!mv code/utils ./utils\n",
        "!mv code/models ./models\n",
        "!mv code/estimation_results ./estimation_results"
      ],
      "metadata": {
        "colab": {
          "base_uri": "https://localhost:8080/"
        },
        "id": "ND9rTitGpFpp",
        "outputId": "9d179e9f-14ef-49a0-9c02-632a21458e0f"
      },
      "execution_count": 1,
      "outputs": [
        {
          "output_type": "stream",
          "name": "stdout",
          "text": [
            "Cloning into 'Causal_Inference_Laboratory'...\n",
            "remote: Enumerating objects: 247, done.\u001b[K\n",
            "remote: Counting objects: 100% (247/247), done.\u001b[K\n",
            "remote: Compressing objects: 100% (208/208), done.\u001b[K\n",
            "remote: Total 247 (delta 86), reused 176 (delta 35), pack-reused 0\u001b[K\n",
            "Receiving objects: 100% (247/247), 21.33 MiB | 10.17 MiB/s, done.\n",
            "Resolving deltas: 100% (86/86), done.\n"
          ]
        }
      ]
    },
    {
      "cell_type": "code",
      "source": [
        "!pip install xgboost==1.3.3"
      ],
      "metadata": {
        "colab": {
          "base_uri": "https://localhost:8080/"
        },
        "id": "UtP3r5ybskjO",
        "outputId": "206a308a-76d4-4ceb-95d4-be5d871fe35f"
      },
      "execution_count": 2,
      "outputs": [
        {
          "output_type": "stream",
          "name": "stdout",
          "text": [
            "Looking in indexes: https://pypi.org/simple, https://us-python.pkg.dev/colab-wheels/public/simple/\n",
            "Collecting xgboost==1.3.3\n",
            "  Downloading xgboost-1.3.3-py3-none-manylinux2010_x86_64.whl (157.5 MB)\n",
            "\u001b[2K     \u001b[90m━━━━━━━━━━━━━━━━━━━━━━━━━━━━━━━━━━━━━━━\u001b[0m \u001b[32m157.5/157.5 MB\u001b[0m \u001b[31m5.2 MB/s\u001b[0m eta \u001b[36m0:00:00\u001b[0m\n",
            "\u001b[?25hRequirement already satisfied: numpy in /usr/local/lib/python3.10/dist-packages (from xgboost==1.3.3) (1.22.4)\n",
            "Requirement already satisfied: scipy in /usr/local/lib/python3.10/dist-packages (from xgboost==1.3.3) (1.10.1)\n",
            "Installing collected packages: xgboost\n",
            "  Attempting uninstall: xgboost\n",
            "    Found existing installation: xgboost 1.7.5\n",
            "    Uninstalling xgboost-1.7.5:\n",
            "      Successfully uninstalled xgboost-1.7.5\n",
            "Successfully installed xgboost-1.3.3\n"
          ]
        }
      ]
    },
    {
      "cell_type": "markdown",
      "metadata": {
        "id": "aYyfPzSok-1d"
      },
      "source": [
        "## Imports"
      ]
    },
    {
      "cell_type": "code",
      "execution_count": 3,
      "metadata": {
        "id": "zKhGq-ljk-1g"
      },
      "outputs": [],
      "source": [
        "import os\n",
        "import tensorflow as tf\n",
        "import numpy as np\n",
        "import pandas as pd\n",
        "import time\n",
        "from sklearn.model_selection import train_test_split\n",
        "\n",
        "import utils.estimators as models\n",
        "import utils.preprocessing as helper\n",
        "from utils.preprocessing import sys_config\n",
        "import utils.metrics as metrics\n",
        "from utils.evaluation import *\n",
        "\n",
        "import warnings\n",
        "warnings.filterwarnings('ignore')"
      ]
    },
    {
      "cell_type": "code",
      "execution_count": 4,
      "metadata": {
        "id": "ACFe3LMek-1i"
      },
      "outputs": [],
      "source": [
        "datasets_folder = sys_config[\"datasets_folder\"]\n",
        "results_folder = sys_config[\"results_folder\"]\n",
        "\n",
        "seed = 0\n",
        "np.random.seed(seed)"
      ]
    },
    {
      "cell_type": "markdown",
      "metadata": {
        "id": "pNPhsTZVk-1i"
      },
      "source": [
        "# Description of datasets\n",
        "We briefly discuss the datasets here.\n",
        "\n",
        "## Jobs\n",
        "Jobs is a dataset derived from LaLonde [2] where the original data set has job\n",
        "training as the treatment and income and employment status after training as\n",
        "outcomes. The Jobs dataset is proposed in [3] using the LaLonde experimental\n",
        "sample (297 treated, 425 control) and the PSID comparison group (2490 control).\n",
        "\n",
        "\n",
        "\n",
        "\n",
        "The Jobs datasets are already split into the train (2570 for each realization)\n",
        "and test (642 for each realization) splits in a 80/20 split. Each `.npz` file\n",
        "contains the following keys: x, t, yf, ate, which are respectively\n",
        "covariates, treatment, factual outcome, and average treatment effect (scalar).\n",
        "- Jobs: 10 realizations of the Jobs dataset (included in our repo);\n",
        "\n",
        "## Twins\n",
        "\n",
        "TWINS [4]. The dataset is from the data of twin births in the USA between 1989-1991 [5] about the effect of the relative weight of each of the twins on the morality of them. The treatment is whether the twin is born heavier than the other twin (T = 1 means heavier) and the outcomes are the first-year mortality of the twins. It has 23968 units (11984 treated, 11984 control) and 46 covariates relating to the parents, the pregnancy and birth."
      ]
    },
    {
      "cell_type": "code",
      "execution_count": 9,
      "metadata": {
        "id": "j-pxJ4fHk-1j"
      },
      "outputs": [],
      "source": [
        "dataset_name = \"Jobs\" #@param [\"Jobs\", \"TWINS\"]\n",
        "if dataset_name == \"Jobs\":\n",
        "  x_all, t_all, yf_all = helper.load_Jobs_observational(\n",
        "              datasets_folder, dataset_name, details=False\n",
        "          )\n",
        "\n",
        "  x_test_all, t_test_all, yf_test_all = helper.load_Jobs_out_of_sample(\n",
        "      datasets_folder, dataset_name, details=False\n",
        "  )\n",
        "elif dataset_name == \"TWINS\":\n",
        "  x_all, t_all, yf_all = helper.load_TWINS_observational(\n",
        "            datasets_folder, dataset_name, details=False\n",
        "        )\n",
        "  x_test_all, t_test_all, yf_test_all = helper.load_TWINS_out_of_sample(\n",
        "      datasets_folder, dataset_name, details=False\n",
        "  )"
      ]
    },
    {
      "cell_type": "markdown",
      "metadata": {
        "id": "b1_a0EeWk-1l"
      },
      "source": [
        "## Estimation\n",
        "\n",
        "Run and save estimatotion results using a specified estimator. Pre-trained estimation results are already provided, so to save time, you can skip the 2 cells below and proceed to Evaluation."
      ]
    },
    {
      "cell_type": "code",
      "execution_count": 8,
      "metadata": {
        "id": "t-zbX9PZk-1l"
      },
      "outputs": [],
      "source": [
        "def estimate(estimator_name):\n",
        "    num_realizations = x_all.shape[-1]\n",
        "    print(\"Numer of realizations:\", num_realizations)\n",
        "    y0_in_all, y1_in_all, y0_out_all, y1_out_all = [], [], [], []\n",
        "    ate_in_all, ate_out_all = [], []\n",
        "    for i in range(num_realizations):\n",
        "        text = f\" Estimation of realization {i} via {estimator_name}\"\n",
        "        print(f\"{text:-^79}\")\n",
        "        x, t, yf = x_all[:, :, i], t_all[:, i], yf_all[:, i]\n",
        "        x_test = x_test_all[:, :, i]\n",
        "        # train the estimator and predict for this realization\n",
        "        (\n",
        "            y0_in,\n",
        "            y1_in,\n",
        "            ate_in,\n",
        "            y0_out,\n",
        "            y1_out,\n",
        "            ate_out,\n",
        "        ) = models.train_and_evaluate(x, t, yf, x_test, estimator_name)\n",
        "        y0_in_all.append(y0_in)\n",
        "        y1_in_all.append(y1_in)\n",
        "        ate_in_all.append(ate_in)\n",
        "        y0_out_all.append(y0_out)\n",
        "        y1_out_all.append(y1_out)\n",
        "        ate_out_all.append(ate_out)\n",
        "    # follow the dimension order of the dataset,\n",
        "    # i.e., realizations are captured by the last index\n",
        "    y0_in_all = np.squeeze(np.array(y0_in_all).transpose()).reshape((-1, num_realizations))\n",
        "    y1_in_all = np.squeeze(np.array(y1_in_all).transpose()).reshape((-1, num_realizations))\n",
        "    y0_out_all = np.squeeze(np.array(y0_out_all).transpose()).reshape((-1, num_realizations))\n",
        "    y1_out_all = np.squeeze(np.array(y1_out_all).transpose()).reshape((-1, num_realizations))\n",
        "    ate_in_all = np.array(ate_in_all).reshape((num_realizations,))\n",
        "    ate_out_all = np.array(ate_out_all).reshape((num_realizations,))\n",
        "\n",
        "    # save estimation results\n",
        "    estimation_result_folder = os.path.join(\n",
        "        results_folder, dataset_name, estimator_name\n",
        "    )\n",
        "    print(f\"Saving {estimation_result_folder}.\")\n",
        "    helper.save_in_and_out_results(\n",
        "        estimation_result_folder,\n",
        "        y0_in_all,\n",
        "        y1_in_all,\n",
        "        ate_in_all,\n",
        "        y0_out_all,\n",
        "        y1_out_all,\n",
        "        ate_out_all,\n",
        "    )"
      ]
    },
    {
      "cell_type": "code",
      "source": [
        "estimate(estimator)"
      ],
      "metadata": {
        "id": "utH9AdZeWyx6"
      },
      "execution_count": null,
      "outputs": []
    },
    {
      "cell_type": "markdown",
      "metadata": {
        "id": "YmAydp3Vk-1o"
      },
      "source": [
        "## Evalutation\n",
        " [6]\n",
        "![image.png](data:image/png;base64,iVBORw0KGgoAAAANSUhEUgAAA5AAAAIICAYAAAAYDgG+AAAAAXNSR0IArs4c6QAAAARnQU1BAACxjwv8YQUAAAAJcEhZcwAADsMAAA7DAcdvqGQAAP+lSURBVHhe7J0JvE1V+8eXUtGo6Y1mzZRCE9JASdFIGmiSZtWraEQjmtAoDTQQStGskQZFpagUjWh6aVRSNP3Xf3+fu/e1Heecu8+95957XL/v53O4Z5999tl77bXWfn7redazqvkAJ4QQQgghhBBClMBK4f9CCCGEEEIIIURWJCCFEEIIIYQQQiRCAlIIIYQQQgghRCIkIIUQQgghhBBCJEICUgghhBBCCCFEIiQghRBCCCGEEEIkQgJSCCGEEEIIIUQiJCCFEEIIIYQQQiRCAlIIIYQQQgghRCIkIIUQQgghhBBCJEICUgghhBBCCCFEIiQghRBCCCGEEEIkQgJSCCGEEEIIIUQiJCCFEEIIIYQQQiRCAlIIIYQQQgghRCIkIIUQQgghhBBCJEICUgghhBBCCCFEIiQghRBCCCGEEEIkQgJSCCGEEEIIIUQiJCCFEEIIIYQQQiRCAlIIIYQQQgghRCKq+YDwbyGEEEJUAJ988ol76KGH3FtvveXmz5/vzjnnHNepU6fwU+e+//57+/zZZ591ixcvdnXr1nW9e/e2/4UQQojKRAJSCCGEqGD++usvt2DBAtexY0c3depUt8kmm7jJkye71Vdf3T7/999/7fNLLrnENWjQwB166KFu4403dqussop9LoQQQlQWCmEVQgghKphVV13VVa9e3a277rquW7dubtasWW706NHhp86tvPLKbq211nLrr7++22uvvdwWW2wh8SiEEKIgkIAUQgghKoF3333X7b777ha+iudxyJAhbuHCheGnzn3xxRduww03dLVq1Qq3CCGEEJWPBKQQQghRCTD/EQG5zjrruHPPPdcE45gxY1w0s4R5khtssIEEpBBCiIJCAlIIIYSoYJjjiGDcZpttXLVq1dwJJ5zg1lhjDTd27Fj3008/mYj88ssvTUCuvfba4beEEEKIykcCUgghhKhg5s2bZ57FmjVr2vuNNtrIROT06dPd888/b6GsiEzmQTIfUgghhCgUJCCFEEKICuaDDz5wO+ywg1tttdXsPf8ffvjhJihZuoP5kTVq1LA5kEIIIUQhIQEphBBCVDDvv/++23bbbYsFJGGsW265pTvyyCPd22+/7YYPH25iEs+kEEIIUUhIQAohhBAVyN9//+1+/vln8y6ylEcEcx0PPPBA8zy+/PLLFrqq+Y9CCCEKDQlIIYQQKyTMN+zRo4ebP39+uKVi+PDDDy1JTjT/MWKllVZy9evXNxHJsh4ITLYJIYQQhUS14CFWlC9cCCGEqMKQlIbkNF999ZUlqhk1apRlPH3zzTdd7dq1w73Kj//9738WmvrII4+4b775xjVp0sTdcsstbosttgj3cO7//u//3AsvvOBeeukld+qpp9o8SSGEEKKQkIAUQgixQvDxxx+7gQMHuu+//97ttNNO7rHHHjPv49SpUytEQCIO//rrL3vx6CVEFU9jqpfxn3/+sdeqq64qD6QQQoiCQwJSCCHECgeex2OOOcbNmDGjwgSkEEIIURXQ0KYQQgghhBBCiERIQAohhBBCCCGESIQEpBBCCCGEEEKIREhACiGEEEIIIYRIhASkEEIIIYQQQohEKAurEEKIFY7yyMI6dOhQN2nSpPBdxVCnTh3XoUMHt8suu4RbhBBCiPJFAlIIIcQKR74FJI/Syy+/3N1yyy3ut99+s22s43jOOee4NdZYw94nJVovcvHixXYsznXu3Llu9uzZ9nectdde211xxRX2O/xevmGdzJtuusk1b97cHXjggeFWIYQQKzJ5E5CTr6nmml0evglpN2yWG3NC3fDdEiZfUyfYd174LuTqSc73bhq+KRQmu77Vmrle9nc7N+LrMa7jpvamROaNau/qdBxb9KYgr00IIVZcysMD+cUXX7jTTz/dvfrqq+7ff/91K6+8sjv33HPdlVdeGe6RDB7LvBCS//zzj/v7779NUC5atMjNmjXLvfLKK+6ZZ55xn3zyie1/+OGHu+uuu87tsMMO9j5ffPXVV3buP//8s/3NtXTu3Dn8VIiqCW3v448/dnfffbcNoCxcuNA1bNjQHX/88W7LLbcM9xJixaZc50COnTzT/RL+vYRpbtLYFPGYZ375cKQb9Gz5/oYQQggRZ6uttnK9e/d2m2yyib1HRD788MNu4sSJbp111kn8qlWrllt33XXd+uuv7zbaaCO36aab2rF33HFH16ZNG3f11Ve75557zt14441m0HL8Dz74wAzffPHRRx/ZtdSvX9/dcccdbvjw4e7xxx9311xzjYlaIaoq//vf/yyagMGSgQMHuq5du7rXXnvNXXzxxe7zzz8P9xJixaZ8k+gMnuCmLg7/jpgz0016L/w73/wy0428YH9Xr0EnN2FZ5SqEEEKUG9WqVXP77bef69atm6tZs6Ztmzdvnhmjc+bMsfdlBa8mIbEIxx49erjRo0e7nXfe2U2YMMF+K1/8/vvvdvz//ve/buONNzbx+sgjj7jtt9/e/fHHH+FeQlQ9+vfvb+KRdrXeeuu5Fi1auPbt27uXX37Z2hmh5UKs6JRzFtYRbvKH4Z8hv0yf5MLAzrwz+bb6rtNNwUM0fF+Z1D5uTHEYksJXhRCisMA7GIWJ8sonhHoecsghJij5DcJkCQX99ddfwz3yx+677+4GDBjg/vzzT5sjmc0LyTUTjkdIbEnssccerkGDBm6VVVYJtxTN6Tz66KNt3mVJUKYLFiyoNG8lv4/QJex3eQLhjkDJdh/FslC3qW/8nwnK9JdffimxTuLRv/TSS5eab7zddtu5zTbbzL333nv2O0Ks6JSPgKzdzrU7kj/muQnTZtumIha7qRMHFf15blfXtegvIYQQARg/y5vBuzyByMITOH36dJun+MMPP5hBOXnyZNuG0MtH+VevXt2S6eC1A373+eefd/fee2+53N/GjRu7gw46yH333XcZj88cynfeecfdeeedNlezPEG8TZkyxcL/vv3223BrxYIQe/rpp92oUaNsDmehg7jBg8y8O+om90skhyRTDKQwnznTAAnC/Nprr3VvvPFG1vJt3bq1hW7Hk1Lh+eeV78EmIZZXyieJTocRbkyj7q79ZfPs77mjO7qi9ASTXd86zVyvYHPH0WNc/aPbhwlqAtIkmvnlw7Fu0MBBbsSzE9xMcyvWdvVaNHMtj+zqep3V0tWubrs5981I136zTuk9m0v9fsA/89zkR4a6ofeMcM+8PNO8lXWbtHNtOqYc00hJojN7qGs0bZAbcEPw/TcDYVy7nmvDuVzd1TXdwHYqJnMSndgx7dzauPmPLXvM7pd3dS3T5XRYONONvWmA6z9sqJv8OefexXW5qLvr2mia61I3KoM+bpLv6eT3XHGhWTP5n4QbGMgYsEDYGyOpca9COhAyb775pnlMOBYPTuZibb755jYvqyLh93nwYyBwTSQ7ieaYZYPR45kzZ7o111zTwu6ikMLKhrLFqEbI4A1aaaWV3GqrrWZeHTJu8jr00EPDvUU+oQ4xJ/H999+3NhF5IrgH1A9CQwnbzFeiDELeSLzBnCpo1KiR69evnzvggANMZOYT6tLXX39t555a16lz7777rnv00Uftt/fff39r04AhjYDO5rnJxAYbbOC22WYbt/rqq4dbisCIZ34m4a9NmjQJty4N58p8MgQv5U8758UcUJIBRf0M+zEfk/PjnNmH69t2221L7Acod+ZuMp+UhEkcu1D5/vvvbYCBOtipUycLnfzyyy9N7NP/RWWEV5s5svRpXFcchBPCnT6f/YB7gyeZ41U23EO8e9Q5/uYcEWQINe4nc32jegl8xv2nH+dv9qcctt56a6vn8TbE8ajHjz32mHnJd9ttt6WOBZQfyXFuv/12165dOws3T90nHZwvS/Tceuut1j907NixYJ4nQlQaQYPKC5OudgjRoleHEX7qk13D9139M/PDnT4b4lvatka+/7RJvk+0P6+rJ4U7FbFoch8fCKAln6e8ap8wxs8N9/Vfj/Dt0uxjr+Bcivf7LfjNFrXT78erSR8/6bdwXyN+jo180yYZvlu7ox/zdfiVkLkj2y35fKlrix3zyJ6+zwnJj2nn3yTNvsGrbouWvlHx++A6wq+IFZPAMPaffPKJDx54vk2bNr5GjRpWN/g7MKrCvTLz2Wef+Z122skHD2x7NWvWzN91110+eJCHe1QcP/zwgx82bJgPjAK/1157+QceeCD8JDtjxozxgXHrA2PZB0ZDuLVyCYwc/9prr/lTTjnF77vvvv6www7zRx11lJ0jZRwYej4wTsK9xfIO97t///5+rbXWsvYXGKv+yCOP9IEg8oFBHO5V/syZM8dffPHFPjCc/R9//BFuLeLtt9/2m222mW/durU//fTTfbdu3fyFF17oTz31VF+vXj0fCDnfoUMH2x4Yzz4QhT4QxVZXTzjhBDt2HPqXgw46yD/44IPhlvQEQsLOKTDkfWCM26thw4b+qquuWqqfob3Qb9EPcT70A5dddpkPxEK4R3amTZtm5/z444/7P//8M9xaWPz+++9+yJAhVr70vRETJkywe3HwwQf7QGT5QABbX0GdCoRluNcSFi5c6Hv16mX3c/PNN/dHHHGEldWnn34a7lG5UP6cT+fOnX0gFu2aAiHszz77bP/yyy8vc38C4eZfeukl37JlS7/22mv75s2bW718+umnl6nHQDned999Vo6zZs0Kty4Nx3zmmWf8aaed5qdPnx5uzQxt+N1337V6R/uYPXt2+IkQKzblJiDnFotF53tOLNpniajq7scvyiYgp/r+DcPtDXv68T8UbV0UHHOJUGzphyzpZ434ObQbWSwbQ+b6McVirbbvePdUP//vYPPf8/34q5sWf6/2peP9oqIvBKScYyDqhkwL1fD8pcVco4FTi7aHJBKQvOLH/GF8lmPO98+ctURs1j5hiJ8alsv8yf19m9pLvicBKSIwUkeOHGkGBXVjzTXX9OPGjbOHYib4zg033OA32GAD+85KK63k77333vDT0oFhwwO/NEYzBulNN93kt9pqK1+nTh0/dOjQ8JPscJ177723P+aYY/znn38ebq1cvvzySxPB2223nR81apQZ31999ZV/8cUX/RlnnGEG4j777BPuLaoCDIB06dLFxCPtCTF5ySWX+O+++y7co3zBqKb9MmiRrh2ce+65JhBfeeUVO6dFixZZ/4DA23XXXc1wf/311639/v3333Y8joOwOfnkk/1PP/0UHqnI2L788sttYGTx4sXh1uzQBnbccUcb5Oratav9fhz6jD59+tiAy8MPP+znzZsXfpIMRMngwYNNpBSKkIrD9U2ZMsXKcvTo0Tb4F4fPETC1a9f26623nr/xxhsz9qOUP8dikILBQ8o29XiFAG0CMUZ7YAAhk9gD9mVQgTb0xhtvWP3LBsL6vPPO84MGDcq4L/W8d+/eVld//fXXcOuyUJ4MPjLQwYu/S/MME6IqUn5JdLapXxxCOW7KtODfX9zUiWFI55GNXd0aNVyNhkVvl+HNca5/mKm15dldXMswPLTGNm1d+w5Ffzs3wc37MfwzCe+NcH2Gh+l1Du7j+pzWyNUi+qF6Ldfywj6ue9Enbt61YzNmcO1yxyDXpWGtoje1mrouF3Qs+jtg2rTZpUres9QxN2jpOp4dSOSQpY75zTg3dHD0rosbNLCLaxSWS60m3d3t/doUvREiBiE/gcFq4aeESRLmdt999xWHtKaD8EoyzdWtW7c41LUsa+QFD1ybi8T8suCBHG5NTiAaLdyI0NtcIHSO+S6XXXaZhUYVAs8++6x7++23XWCYW1a/LbbYwhIzEFbYs2dP27Y8zNcSySF0kGUAWIgfCFF+8MEHbRmO8pgPmQrz6l544QULn6VNxyFEnaQgLM0RCDT3n//8xwVCzsIEScjDHFHCH/keIXuEDBISSQjhXnvtZW0zHhZKeODIkSNtuQP6myTQtxDmS5/02WefWdhmnKeeesqu4YYbbrDQRPqyXCA8kmv78ccfbe4b4aCFBH0yoc6UbbNmzZYJqaQPJ1zzwAMPtPvFXF3uSzooJ0I4jz32WHfKKadY/5IkRLOiIQSX5Wh4NhGeyisdtI8XX3zR6iNJbSif1HDpVJhmsdNOO1k4a6a5voRHkySK0GjqfzoC+9i+T32m/GnD9NWEwRPSKsSKTvkIyB3qutqurmt8QtHbac9OdbPdTDdpcNH72rvXCz6t4+psW/R+GZr0dHOLvKNufOc6bt7Hk924UYNcj44tXfdHwn1yZPb0SQ4ZC41aBQI2/Nuo0dL1D3/P+9tdm1DPLU1L17TB0h/U3qx++FdAqR5Kyx6z7raNw78C4secM2PJHM8T2rhmKXMu67bo5JZITyGWwMOXByBJATACSebBgzMTGDMYLTxgIwHJ+9KCYLrrrrtKzBCZDX4/ntAgCcwPwsglFXtSY7a8YR4aZUB2yNSywDg5//zzZZxUMWh/tL1zzjmnWMB988037uabb7Z2yABLecEcT9aHJLkOIopziUOyllatWtl8ujgM9CAGmZdHP5BqtHPOtCnmQMYFytixY23JDzLDJoV2TdISxA7iiPX2orbBgAvvu3TpYudRWhC8lD3HQkgWEgzY0S8g1BHk6UBokdWXsuZ+8koFsXXTTTdZ4ib2ZS5loYJYps4xT5F5+lz/77//Hn5aBHWMZxHzlY877ji7h0ng2CSVYh4o4jBdf0o5RvPiJ02alHYghzbK/NmGDRva/Fn6ZwY4OFf6byFWdMpHQJrNWds12rulvXUvTghE5CQ3ruida7/T0qOg6SCBTt+O9V2dVWq6OvWaubYdz3EDRhUlvSkN8+YsSbFTt3b6Tjo7tVzNGuGfeSP5Med9HRuh27bOkqRAEbWR7EKkB2MCowLjjhTkgweHozkp8NB96aWXzHuH164swhEwkMnESEIeRtp5pRoKZSGJIC2taC0P8NZg1JNkhOyQqR7ZevXqmZclm4dYLH8gtvAys7YcSZ0AEUBCHRJDlRcYunhw8CymikTAC3rSSSeF75aA4MSwx1uHGEwVIxjl1N14ZAJte9y4cSZUS0rSFYc+BvFI4igE6+uvv27Jb4iCoC/Cm8YgUFlApO6yyy4WBcG1FQqUIeWMiERApgr8CMoTYYiY+fTTT03ExIURx8FDR5TG4YcfXqKXrhAgARJtgr7urbfeWmadVDIGk/SJwYOk4jGCuo6nmuNmal8830gAhchMzRTMIAODeZQz5zFo0CB31VVXuauvvtrqaC71W4iqSvmFsAbUrRcFsY50g24aF3oAW7pG9dK6+IpZ/E5f16ZBe9fLBGNtV++47u72kePdjB9muRHFIaxCiFxgMWSMEEZoH3roobQLm+MtJIQSIzDbWm+M2D7++ONmEJ9wwgm2hABehCeeeCLcw1n4z2233WZGIPtjLBO2RLhaBOLuq6++cn369DGBS5gf58m+mdbMY2Qazwmj0mRrxDAkfXskFDGmyNzHAutkgTzqqKPMsxHBccnEiWFCpkhGmjEMCPHDiOO3040wE3pIOBPHo3zwbnJ8wgO5Voxe9snGkUceaaPfGCysC8iC1fG1xvjsoosuWsbbyrUhxgkNpAwJ5SKTJlkBU0fYEaiMqp999tnFZdq0aVPXu3fvZQwlBAJemTPPPNONGDHCDGwMUIQsZRpBGV1//fV2zRhde++9txlVSdYTFEUweEDdRyghmqinzzzzjJVjeXkhaXcYyKlLEkQgOtKFd9M3EErKgNNWW221jMGMIN5nn32sLkYQhkgIZRSqmwuENLZt29b6HAab7rjjDisb2hqiKZOwygVEBe0Iz2qhePm5P3jY8DDSrrLBvaCfpW+in46H+vbt29cGCcjeWsiexzgMpOCBpH5xzz/55JPiPhxP3+WXX+4uueSSEsslHZQBx+U4mQQk3kcicxCEqf3iWWedZaHTeEDpY+n7eFYwQEJkC98VYkWnXAWk26axi2YJTnhxQvhXU1c/a3/wi5twby83OXzXbtgkN2Nkf9f1uJau3galb7S1t1wS4Dn28/jalMsHtTaI+Renp5lvGTy4l7+rEhUJo9KE4mCsYYQg7uJgVCHMeKiSUj2T9xGjh4cqI7QYkKxbhpjkoYqgZL4j8ABHtGD0AAYB3hDEG2A0YzgwV4e/SWGPGMPQY+4i8x4jgyKC92PGjHHXXXedGZuIR5YCwNDAowdcG4YD14IoYhQ5mveEh5V9u3Xr5h555BEzEDjHDz/80EbvMYCvuOIKE59x8NqS+h3D9vTTT7cwYAQagjISaQgDhHk28OYw15HrxQDktzt06OBeeeWVYjGGMRkve7YTGnjeeefZSDzXRDlixF944YVmNEblxHWSbh4DCDHMXDsEPEIXTzBp6xGMwMg64p9yHjJkiHnEuDYMbIw57ilMmzbN5pEy8MB5MEjA+V1wwQW2f+o9EumhzGhblBlzYIE2x+AJXrfyAOOZAZpMRjhheenEGV4xRCSev3TL9nAt1FP6kgjqD31DtPZlLnAOtD88UrTdJ5980h188MEWtkq9ywfMjUPEU58LxcNPNAblRhkjELNBWTMQhFDEsxbNG6Ttcp8ZeFoePI8R1CHuOdEuDKIx6MX/eIjPOOMMC8fN9hzKBt+hbjOol23Rf7yUeM5TvdL0sQw0MpjKfFNeeCUp5yOOOCIvAxpCLO+USytotGYYl1m7rmucmijnhGj+YW1Xt4H9kcJ8NzfmGGm8bUw4LZ7hpiadA/nP0jHtdRs0c43Cv93EqW7pKdu/uLGnVLNOp1q1Oq7Xy4U1yR5q1Gu8ZI7jIxPcpJRpHLNfHJF+HUwhYvDwYy4QdZ1kOvEHJ4YM4gHPQqa5OICBFwke5kAhHEm8gZDiYYzIAH4Dz0X0sMUQRPREnhC8WogQjGqEEIYRBtBhhx1mf2NQpHpJeZCzD/PHmFeJ0MOrgyC7//77bR8M25YtW1roG4IrLnAwwhDOJ554onkLGXlmTS9ELS88cRyfuS9x8OKwADueHObXcL0INzxxeJLw2iFUTzvttPAb6aE88CJy/pQx54aIxfvC+mIY+/Hz5W+8DQhqPLMnn3yyjYAzws51U5YIZa4jOhaj5Xgno8ECzpWyIAkJwgDhj+hm9B/RjueYa0AYUqZ4RFgEv1evXpYw4p577jHD+9RTT7X7QhngPeX+Uv6I6ZKgzDmX0r4QsFUhuRBlhveagZaojdGOuD8Yu/mE+sC8Y+oc9y0piFrqCYMpCMjUtQYzQd1lUIf6VhoIaaTd0k/Qp+Chis+vzAbtn4EjvO+ZiNoN0QmF4jmnrOmDEZBJrjXy/tPe6RcYwEIQMziXSWhTNgj7QrnmOIh6RDF9LiHL9D08E+hfiIKgvdA38SxgcAHB2b17d+urGBQjYiITlCnfRZRSBumgvlJu9C3x8qFfpR6ne0k8ClFEubSEJXMM67lGrcI/Qxo1IsFONtZ1dWJrOI8ZO87N45mweLYbe1EvtySoalnqbhPzMk6Z6ZCBi38JxWDDTq7XCeEvv3iO63JZeNxgr3nP9nf977NPnGvSw7VvkffJjmVn03au64VRyQ11XS8Y6mZatljOv5frdHo0w1SIzPCgxnhFyCH2GL3G0OThyQLUiC+8ejy4M8GoLaPGiJ5oIe/IeONBnSlDYBwe7GQLRKDgoYyHBCF+8BAy54S5UXEwhPF6xudzEVbJQx2jNw7b0hllXFuU/IPwOJKIRNeL9wQjE8M7AiOP9xjIGBbxcD7ELsdhTmNSuAckVMFTiwhESPAbeHURpQj5CDymeGO4R3g542GIeA4xpvBich8od+a08R2yEKYuHM59x2CjnCIvMPeb8wHmXjK4gJF07rnnWtZHvBx4MNmHMF2MVV6cR3QufF4SeETxahKGm+uLQQ2uMelC6HgOuFcMPuT7lU2gJIW6xgAGgzlR2dMOyPKYz/nBgCjlPuWyiDznwiARhjXtIZ5lNRt4aBD7pTGw6TcYUGJ+H8egjsUjB0qCARFC0rO1Q9opgoHzpP9JAvvRN+b6yiRYUmFf6ivXnAS8aoSvc0+JdiAag74y2/cpVwboiO7g90qCvoZ6Hr+eJC++w3dzgbpCH0y0BP0e7Zwwf64xAq8f9ZioEyIq6H8Z4GPgCw9lJujb6MsQ6JxfOujreSEyk9Y1IUQR5TyUUsPVbbB0btA2uxf7ATNQy7U8pU/xEiDTbmzr6qxSzVWruZVrf9vkQCQu8UhO/WzpoM3a9WJextvauprBg7rmugPCcNjart0dY12fFkUibPK14XGr1XR12vQt2qd2RzdiVPclxygoariWlwfn36To3bzhp7r660bnP9TV7NzRhSmLhMgKIZMYIjzwERJ4GjC4Mb7SpfpPBQFJmCdztzAuCcXk4Y8wwYBIEh7GbyN2MKBTRSLiFgFDSFY6YzRV3EZGeFKjMBvRCHM6gwMDFJEW94RF3twoMUpSOBZlTVgs3khEMCKaUEbEVvQbiEGWHkAApC5fwLkyUk9ZcQ4YQXhKI6MoFQwvvF+EdDHSnyqGUo1/7iNCAuON82JOZPQiCRMhuxh70SBCNhAjnD/75voiUUt8gKEkmLuEGMNbm+9XaqhbaaG+4GlhIIa6AAzgILLzCYNE1I34oEdJ4N3iPKjbDDhk8mylgvhNum8c+gxEDglTGExhoIMyYQ4k25OAyKA9pKv3cehb8MYlEXhcD6KLUPdcXlwH7SXJb7APwiXp/eH8idigTVBGDEQRZZHaJ8ZBoNKuKZts+0UwYEP4erpry/bCK4h3N1fo/3lRDxCFDFzF6xGDfcyFJWKCkGaEJGXMQGK2ckNkU0bcx0z3gt/hGNSJ1P5QCJGdchaQJNJpHPM4dnSNE8yHrrFbTzdu+gjX/dB64XfruqYdurrbJ8x1s57t6aJp+2NHTVh63l/D7m7MuD6uS5PIAA6+12qRW7QwfLtmU9fzhWlu0shgnxbRsYO9mrRzXW8Y42bMHOE6xryfBQfn/+wMN+bqLq6plWNtV+9QymWaG39120B6C1EyPJCZd8gDO0o2Q5IZjE2ETBJjBiFF6CJJBRCPGAB4vZLCb0fhmoX+4KY8CJ3C68m1RhkQOXe8chiurN9YEng+SNgQB6MOQU94KSGqGIisXxbNP0TE4RHCACpJIHNOCE7+55UKRiSigGNhMKXbJw6/jXjEa0N9YV5Q6guPACGxSeA+R+eWy4vvUdZJ4RoRyoS85fsVDVbkA8IREf+ULwIZgZpLGyoPKGdEG/Wa+p7L+q+Ik1zuUwRtgoEsDH6EP+0AzxIDJ3igk/QPe+65p4XkJ5l/mUREAaKUQS76uFxeCN/x48fnNKCVtNxou7RxRCGhrPRL6QbZ4uDdI7qB+c9JBD6DUCyfku7aSnox4JQrlDOvDTfc0KJP8Bxmg76LwU76xSTlxv0u6Z4n2UcIkULQAEVV4OsRvl1wO7mlzvXxk8LNQgQGjT/ppJP8m2++GW4JqsvXX/uNN97Yr7zyyr5Ro0b+9NNP95dccon//fffwz28v+OOO3wgcHxgoPjAoAi3ej9v3jx//fXX+wMPPNA/9thjfvHixbb9gQcesH1btWpl7+G7777znTp1sno5atQoHwgC2x4YAT4wlu0c7r33XtuWSmAs+cBYsr8DsekPO+wwX6dOHT906FDbFvHII4/4wDDyW265ZbiliNdff903bdrUb7755v7tt98Ot3ofGKQ+EGx27SeeeGK4tQiuZ5NNNvGbbrppuKWIwGDzw4YN87vvvrs/+OCD/eDBg/3w4cN9ly5d/MUXX1x8ntngfPr06RO+W5ann37ab7bZZlZWHBc+/vhjHwgNHxjGdh/TERiqfsGCBf7DDz/0zZo184Gg9QMHDvR///13uEcRXPe1115r192xY0d7D6eeeqr95oABA+y+RHBNvXv39oG48VdeeaUPBGX4yRK4R5RNvN6kg/Lv27evv+aaa3J+8b3AIPd//PFHeLSqAfeHOhQYzv7ss8+2cswn3BvaViAy/JQpU8Kt2fntt9+svANj2l944YU+MOzDT0omEH9+t9128z/99FO4pWR+/vlnaxPU1+j66V9OOeUUa9OdO3f2P/74o23PB7T3Aw44wAeiNdxSuQRC3e+6667WzpJAm7z00kutbGivVaFNPPHEE37bbbf1gXj0M2fODLdmhn7u6KOPtv4ytY+L89prr9mz7f7770/bd0Eglq0+UOep+0KI5JS7B1JUEIsXOZsSCUeWNM9UrEgE7dxGwxm9jiB1Pxk42U4GUl6M/ibxsJC9k2QreM8Y8cdrlglGdaMR8rgniW18l7BLMoqmplEHRsHjcxErk2huKPMl8XZQTlwDoVUkm0kyT4wkHpQbI/zpwFMQjb5HiUvwTBGiRpgwiYvwYqZCyCZeI8Jc8WAREkcIYuq+lD3lzLlyLYR3ZYP7Sj3heCSxiLI+xiEcNhDWJc4fou6xT2lfSbxQyxPcCzz4LONCKB5zv/BE5hsyexKOjYcnCdQZohE4F7yAuZwTHiQ8Y/F+JhvsS/g2bYkETdFvMc+ZRF6cO14t+oCo30iFOZMk7cLDRrvK5vWjDpE4K2nCmoqA6AbaI17FJOCtJcSUsibLdbbQbqJLiGQgczQhtUQUFBrcL+YW0y/R/6XL+JsK9YSkZXjIo2dLOrjXXDP1KdP9JryV+fv0ndmeY0KIZZGAXG6Y7PqGYRb2On1kmAQoYOFsN+7uQS5aKKXNoU3DTLdCFIU2Yuinzusj6QSGCA9hQqGYXxKH70WGW2SY8Z6wRgQNYayEvQJGPsIS4r9DeGf0YMb4wYjjxfkQ9snxSMKCIY2I5bvM/yM0EuOROXDAftmMQ0gnMvgeBm10HRGZjNxM27leMh5yPiSuIQkK2VtJAJR0/iNzlygD1pxMN1cIYxiDBqMwConFoGJOEIYQocYYg8w1pSw4FnMREZbML2RfBgE4RwxGBF/8ugn9YgkP1s4k+U8qqWXEfSMTIgKW5VbIzEpyk+j+cr5cC8ctKeyM5UtYPoV1B3N98T2yc2Yzlpc3EOTMJUUEkJU3l1DRpPCciOaW0WaTwIAO7ZC5j9TXbAZ6KuyPMU7bLgnmXbN8SRROH68/nDfhlmT7pY4zty617wIGTchEijggEzHtM5tIol9BVBDiHCWAqmxoYwjlpElcmINLu6ZN8r1McDyW+qA8GBCgP003+FTZcE9IgMSzhr4mSTIh5u/T9xICnq1+8nziPmcbMIgGPKiHSaZuCCGWIAG53NDItekXpRYKuKdTmAQoeK21lWt74zTbXLtFf9fnOMlHUQSGF+IHw59R3rjIwrhEqCA+WHMt7m3A6GTkPxJtUYZT6hujtYzqckyMQLwneBB4mPMwZh4M2xn9xkvJ8RGSJFrAkImWZGCeGvO++JslOPCIIpYQN3i1WNoAgQucB8YfRhZGahy+DwgZBFgE+/FC5GKgRHBtfIf/KY+4cGI7ZcZ34qIZo40lL1jSgnlapJDnOq655hoTVhMnTswoPiPwtCDumFdF8gvmSuEZ4pxZfgMRjSeC47JUSPQdPFSUCQYzSXdYngNPKFk8ydDKQAD3BGOJ+WPcC64DbyeeSM6LsmEpEK4Xj2mUvZDyjMoGozMu0rnXeDQRy5QBiSu4X2R/pb5gxHE8Pi/J+KJucC3Uh1xffC/J3K3lBeb14XmjTBmMYPCmvMCTTZ1jTmNJUBdIroRBj6DNZekPIKKAOphtaQXqIXWdNU1JUEMdSue957cRpAgsMm6mE8DUbeoVv4sQKAkGbdiPrJ+F4m2ibnP+iDtEdTYQg3gf6Zcpm2yDDvT1iE0Sz3Bfaae050KC+s+zCc9xlGArnyKO/pIyyhYdQhlxD/h9IUSOBI1YLEfMnTDEd+/c0rfcqTZWb/iq65u26uL7jJzk52aeEiBWIAIRZHMeA1FmcwMDQ8vmQjFPKTBAbH4UL+amHXnkkUvN4XvqqadsDlLw8LW5UNQx5ub16NHDjsm8xquvvto+r1Wrlg8EhX/xxRd9YOTZvMbggWxzlwIhacfjN5hnEogBv9deexXPmwzEig8MCH/dddf5evXq2bye9ddf3+ZMvvXWW8XzWwKD1OZoclyuY8899/T33XefnzNnjh8yZIhv0KCBnWdgvPozzjjDv/rqq/6hhx7yhx56qM3f4zuBCLP5YIEwtPmPzIvkuurWrev79etnc28CweubNGniAyPGvsPcwMCgLj6HQw45xD7jdziXNddc0wei2wdGupXxFVdcYWWajbZt29pxWrdu7ffYYw8fGLN+hx128PXr17fzHT169DLzzigHzo85qpzvyiuvbGV/5pln+k8//dTKMYLfD4SgHzlypN1XyorjMn+UOW1cT2CI2r6BkPGBELY5n5QF81H5jUmTlsyg5njcb+bDMv+T+ZWUKX8HAtX/8MMP4Z4iCYFR68866yy/yy67+ED8F88JLi8CwWS/1759+7TzwAKhYXWjZcuWNheP+rXWWmtZO9x55519ixYtbP40daAk/vjjD6tv1KFUqJO0O+akbb311tZ+AhFn/UEgKsO9injjjTf8EUccYedAfWNf5sjRZmijEcxZ4/qYW03/EQjTpdpCKg8++KBv3ry5f/fdd8MtlQ/ny/xy+h360HQwv5l+g/nNzM2m/W2wwQbWf/Ts2TPtfE7K9Oeff/aBSLd7wvz0dPe/MuA8br/9dr/vvvvafeMZwrOBfpDnBPMS0/Wj9F3MVeSZRv+ebd419YJnWLdu3TLOd+VZQJ99/PHH+1mzZoVbhRBJqcY/gfEghKhiMOrM6DNeJZo5I9B4cggFZOQegge17RMYafYe8Ejxir4HfJfRYTwMhAPxOSPifB4/Jl5Cjsm+bON7vMfzwPmwD9sjjxLfx+PHsfg99uc38BBE58h2zpH9gO18zm9E3+U3IDpH3vMZvwmcM9t5cSzOPyqTaHv0O9Gxouviu4yUB0aYLTNAqBUZAPEW4qnEg0j4LiGdeFnxKGSCfflNfjsq3+g8+D08tenCrdgnKnPOjzLgnCkHvpsK1x0vU6Bs4vtH18u+0TlE5Rfdn4j4PWJfPo/uwfIA3iq8XXh8o/lmhMeyZEo8BJnrI8z3tNNOM28V94JthNZx/1n0PF15J4Hj3XbbbW7o0KHmtWfNT8qwPOHe4unu16+fhTtHnu0I6hJ1MqqHqXCt1DX6h6g9ZoNlZfCKp67HyLGjdhe9B45P5EO8TDln+gvKHfiM/fl92gf1M4L9yGSLBw/vPHN208GxCIWmf2IJItpxoUB0A3WRrKp4pFPh2ulnuFf8HZUH/9P+KJN094b2SnZnwntvvPFGWzaoUIj3wRBdDy/qWmr/Q8Zu5soTfk9IM/0x10SodTpYEoe6SHg0Sw2lKx/6a9YaJryeOpSu3xVCZCFouEIIITJAVkg8t+eff35GjxHeF0az8YKIwgUPOp6bmjVrmjcKb0c68G6RsTYw6s2jHQjo8JPSgUcIDzjeXrz3eD/Kg0BkhH8tgUyfZK28+eabS/SQlxWiGzbaaCPzIlYEZNrkflK2eNzwtqZj+vTp5onHc1XWe5lv8KT179/fPGF4hPPFBx98YBmjyaBMpMDll19eMNlnc4WIlLvvvtuiTvCY0xf/mCE7L3X8zjvvtEzTZGxNB/sQaYOnm+zYQojcKXlIUQghVlDwXDDXk/l/mebJ4Blg/iCeLbyTojDhPnGPSEBCsiESsDD/KvKKxcGrQ7IVsuySETTVI5ILeG8nTJhgc1CZy3rGGWfY3M58g4cTTyvenTjMLTvkkEMsqQoZL8sT5uadeeaZ5vFMPY/ygEQpJOBhrtvo0aNtbm4qlD/zLikH5gSW5V6WB3jcSBqEB4y51JHntaxQ1/HokXQG793OO++cOOFXoUGCN+Z2s0YucxuZAx5lqk6FOfhEhDDHPtP8YuabknyMbNTUCSFE7khACiFEBhAdZJUkhIzQKcLzSBJCUhJeJETBOB00aJCFQikZQ+FCqCaC44ADDnDNmze38FHuKYk0UiEJEeGOhMyVBe+9hXMSNokBf8EFF+ScnCYJiCSWcyFbbqog5joxpgn3I5w1NQlVvjn//POtzTz22GN5E0OZYEkdMvQSdowAQ1jEof0ySECYaNu2bW1QoBBhCQsGKrh/9CvUm7LCYBbXTB/F4AIhsoTkL68giMlezAAQGVhJihRNUYigjROyS1h069at04bY0z4YPKKNk5CsvMPIhaiqrHwlgeJCCCGWAaMUYwThgSFGZlnW78NTgNGKsfLuu+/aumRkJ2XEXxQmLAmBAco8RubK4VlmrhQCBM9ZfJ4UnjoykmLUZ/J0JIF5VsxrY94e863IaptvEI94XMhwjIDC65JaD6nDZKNkP64Tb1x5eeLw3u66667Fc4Yp6/JqF1wXwohBAeZ3xq8JEUY2UgYJEI54YTm3QoR+Bk8h2a6Z34dIis9LLw18n0EthBRetvLwelckH3zwgXmZydTN8jf8zbzOSAAiDPFQ0h8z7zFdW2NAgXbNQArRAE2aNAk/EULkigSkEEJkASMV0YFRh5FHuByeRgx1DHaW5MCDIPFY2CAm3njjDTMuETaEeyIg8VKw/ElkiCI8CIND/LGESmmTa5D446KLLrLfZb1MhE6+wdOHB5wlYAjl5NrSCV7qJnWWa0Qcs4Yg9bq8wMvKEjwIVry4leH5QlAgFvCCsuRNkjUGKxMEH15i6h1ijzJMl/xlRYWwU7zJ3EeSmDFIgZCM2iceSta/xSu91157pe2PGWxhfWH6a9bwVZ8tROlRFlYhhBBVGkQExuVLL71ka3cCIZ89evSwUFXWJIw8Fszdw8tMiByDA6UBjzXrbeLpYM1H1lvNp7HKOeNpGT9+vHv66act7JE5lqwJms3LhgeG68IIz7Y+Xj6gzFm/kXl3ZfHilhYEJOHJXCvienmBjLIIHQR4oc3XrEyo88zjpXwYDMG7Gp/TSWg2gzWEt2Zqa9RJwpnJlC3xKETZkIAUQghRpWFu1EMPPWRenuOOO862MQfq9NNPtxBHxN7ll19uRiXij33xUpDcJFcwdEkiw3IdHPOEE04o1XIniD2EBIYxc9hI1IQgI8yRebgYwnhRmZ9L+OYtt9xiczuFEEKI8kYCUgghRJUGr8X1119vHrp4YpwhQ4aYeCTEkvA4vHKzZ8+2pEgXX3yxeYFyAa8XQm7AgAEmUJljVdp5dzyaIxHJmn6seYhYJFSPV/zRffbZZ9u6d7merxBCCFEaJCCFEEJUaUj9z0Ly991331LeQEIcDz30UMuUescdd7jTTjvNknXce++97qabbsp5Dtrw4cNtviNeQsRfRcCcXMJXTzzxRM2ZE0IIUSFIQAohhKiy8IhjzTfmP/bt2zfcWgSf9enTx1133XWWIInMrCTZIFyU8NZcYZ4liVvwGlYUzAcjQQ/ZToUQQoiKQAJSCCFElYXEGYSUbr/99rbcSiosm0DmRryRo0aNsuVa2E8LjAshhBDpUbyLEEKIKguhpISo7rHHHuGWpdliiy0sjJUEOsxf/Pzzz8tlvUYhhBCiqiABKYQQospCwhkymbL2YyaY+0giHYTmeuutV7ALzgshhBCFgASkEEKIKkm0fAfzG7MltWFNOeYRrrrqqpY5VQghhBCZkYAUQghRpWBB8TFjxrhbb73VwlJJjvPggw+66dOnh3ssDeGr559/vi0637Rp03CrEEIIIdIhASmEEKJKsXjxYlu6g9DVk08+2e2///5u7ty5tiB/Jvbbbz9b6qNu3brhlrLz/fffu8cee8zCaPMJ10fGVxL+CCGEEBWNsrAKIYQQ5QDikQyweD+33HLLcGvp+fPPP928efPcs88+6x5//HHXqVMnd8IJJ4SfCiGEEBWDPJBCCCFEObDzzju73r17uw033DDcUjbGjh3rRowYYUuPfPjhh1nndQohhBDlhQSkEEIIUQ5svfXWrnXr1m6NNdYIt5SN5s2bu2OOOSbtepZCCCFERSEBKYQQQuSZ8pgdQjZZROn6668fbhFCCCEqHglIIYQQIk8gHAcPHuzOPvts17hxY8sAK4QQQlQlJCCFEEKIPDFu3Di38soru/79+1v21UcffTT8xFnim5122sltscUWiV577bWXe+ONN8JvCyGEEIWBsrAKIYQQeWLQoEHusMMOc1988YXNfyTxTdu2bcNP88Nnn33mWrRo4fr27etOOumkcKsQQghRMcgDKYQQQuSJrl27ujp16ri77rrLbbfddu6AAw4IPyni33//df/880+il7KsCiGEKETkgRRCCCHyCAv84yG86qqrzEOIx3CXXXZxc+bMcW+99ZZbtGhRuGd2atWq5Zo2beo22mijcEsR8kAKIYSoTOSBFEIIIfLI888/72rUqOGOOuooN3nyZBON8Ouvv7pPP/3Uff7554lfCxcutO/GwYsJGv8VQghRGcgDKYQQQuSR4cOHu1tvvdV1797dzZs3z7Vr185tvvnm4aelBzE6ffp098knn7j777/ftWrVyjyRu+66q2vYsKGrXr16uKcQQghRfkhACiGEEHnkp59+clOmTLEQ1HXXXddtv/324Sdlg9DVr7/+2v32229u8eLFbtVVV3Vrr722q1u3rmVtJfurEEIIUd5IQAohhBBCCCGESITmQAohhBBCCCGESIQEpBBCCCGEEEKIREhACiGEEEIIIYRIhASkEEIIIYQQQohESEAKIYQQQgghhEiEBKQQQgghhBBCiERIQAohhBBCCCGESIQEpBBCCCGEEEKIREhACiGEEEIIIYRIhASkEEIIIYQQQohESEAKIYQQQgghhEiEBKQQQgghhBBCiERIQAohhBBCCCGESIQEpBBCCCGEEEKIREhACiGEEEIIIYRIhASkEEIIIYQQQohESEAKIYQQQgghhEiEBKQQQgghhBBCiERIQAohhBBCCCGESIQEpBBCCCGEEEKIREhACiGEEEIIIYRIhASkEEIIIYQQQohESEAKIYQQQgghhEiEBKQQQgghhBBCiERIQAohhBBCCCGESIQEpBBCCCGEEEKIREhACiGEEEIIIYRIhASkEEIIIYQQQohESEAKIYQQQgghhEiEBKQQQgghhBBCiERIQAohhBBCCCGESIQEpBBCCCGEEEKIREhACiGEEEIIIYRIhASkEEIIIYQQQohESEAKIYQQFciff/7pRo0a5Q4//HB3wQUXuNmzZ4efFPHbb7+5hx9+2L3wwgvOex9uFUIIIQoDCUghhBCiAlm0aJH7+OOP3TbbbONGjBjh3n77bfd///d/4afOLVy40M2dO9dtvPHGrlq1auFWIYQQojCQgBRCCCEqEDyQP/zwgzv++OPdTjvt5B577DE3b9688NMiD+RPP/3ktt1223CLEEIIUThIQAohhBAVyHfffefWW289E48HHHCAe/XVV9306dPNC0nI6oIFC9wqq6ziVltttfAbQgghROEgASmEEEJUIG+++abbbbfdTCQeeOCBbsstt3T333+/+/33390///zjPvnkExOXQgghRCEiASmEEEJUIO+8844JSGjQoIFr0aKFeSGnTp1qAnLGjBmuYcOG9rkQQghRaEhACiGEEBUECXSY30iCHFh11VVdhw4d3DrrrONuvvlmmx/JfMjNNtvMPhdCCCEKDQlIIYQQooLAy1i/fn230kpLHr+Eq7Zu3dq98sor7oEHHnCbbrqphbcKIYQQhYgEpBBCiBUOEtV06tTJjR8/PtxSMbz44otuv/32C98VgVg888wzTVT269fP7bnnnuEnQgghROEhASmEEKLKQ3ZTktSw/uKdd97pGjdu7B555BFbMqMiIMMqvzVq1Ci3ww472PnEYdtRRx3lFi9e7Jo2bRpuFUIIIQoPCUghhBBVHuYWPvTQQ+6qq65y8+fPd7vsskv4ScVwzz33uMMOO8zVqFHDnXXWWe6ll14KP1nCxRdf7A455BC37rrrhluEEEKIwqOaTx0GFUIIIao43bp1c3fccYcbPXq0O+KII8KtQgghhCgJeSCFEEIIIYQQQiRCAlIIIYQQQgghRCIkIIUQQgghhBBCJKLsAnLxBNejWjVXzV51XN93wu0xfnnqnPDz8HX2OPdL+NkSprkBjZbs0+PFxeH2XJnnRh695Dh93ww3l4nyOCaU13GFEEIIIYQQIv+UXUDWqO+anRD+HQiiqTNnh38vYeZ7Y8K/Qh6b5maGfxYzb7ab+l74t2vnGterEf5dRfhlpht527ighIQQQgghhBBi+SQPIay1Xd1GjcK/nRs7fbZb2nc4zU0amyKb5o1xk4rFYsjnU93I8E/XsJmrt2n493LPL27mqB5u/3r1XaeJy/pdhRBCLN/89ddf7ocffnD/+9//KuzFUiSsLVkesOQJx//777/DLUIIIcQS8rOMx+u9XLW9+xb9XbuPmzq3pyuWlJ8Pdftve6qbEL6NaDdslhtzQt3wnXOz79nfbXV6uNeF492iG1q6wvFBEmpax3V6pOhdn8ne9WxS9HeJvNnXVWvaq+jvDiPc3NEdA8kthBCiMsnnMh5Tpkxx5513nnvzzSXzEP7zn/+4DTbYIHyXnH/++ceEIeINIbdo0SL3+++/2/Y4Rx55pLvtttvcJptsEm7JD7/88ot74okn3OOPP+6OPvpoW7tyjTXWCD8VywuYdjNnznR//PGH1aVVVlnFrb322m6zzTZzNWvWDPdyVr9mz57tFixYYPVurbXWciuvvLJ9n/q30koruY033tjqMn9zvC+++ML9+uuvtl90TP5n25w5c9xvv/3mqlev7mrVquU23XRTt+aaa9pvffzxx+7HH3+0zzbaaCO3+eab2zGqEt98840NJi1evNimJlGe9AUbbrhhuEcRn332mZUX+3E/eFHm3CsGpNifcqWseP/tt9+67777zv3777+2b506dezF96Pf5P7RVukTot+bN2+e+/LLL63/4D7Uq1fPrbrqqvZZPuG8uffUD36L89hiiy2WqmuiarHylQHh36Vn1V/cZwNGu+n8vbCW2+fkY1yDWvaJ++WNe92Zo6bY340ObuPqfP6ZhXHOrH2g69Z221Ak/uImDz3TjQznT3bsdr07ZseiDqcwWOimPzLAjZ1R9K7lqVe6fZJ6SL+Z6K4aGgrjHdu7Hh0auEK6MiGEWBF57rnnTPh16NDB7bDDDuHW0lGjRg0zwj/88EMz9jAcmzdv7q699lp33HHHuXbt2iV+tWnTxrVt29btv//+bq+99nINGzZ0W2+9tRncGJMY+hiRGP477rijnTu/V1YwXjFQH374YTdt2jRXv35999Zbb7nvv//ebbXVVm711VcP9xTLA9zPUaNGufvvv98NHDjQ7iMCENEWCTpA0DGIQl197LHHbJ+5c+eawJk6dap79tln3XvvvWdiABH5008/uUcffdR17drVvfDCC2699dYzkcj/CBUGHrp06eImTZpkwgnxiZAEfuf88883wYPg3GabbUzYVhUoc657+PDh7pJLLrH+ALFGeVNGcRikGTp0qLvuuutMSEbCfPr06e7VV1+1zykj2h6fvfbaa65Hjx5uwIABbt111zVhWrduXffzzz+7l19+2XXv3t3dc889dh/WX3/94t975513XM+ePe379E2NGze2/iqfcN1PPfWUnTf1hjLg/Bn4oh+pSvdYxAhufB6Y5Ye0cngy7dX9hUXh9kV+/IVLtvecMMn3qR297+7HR7v5qbHtLf2Qz8LNEX/P9eNv7erb7FS7aJ/a9XzLzn38iMlzwx3izPUjOkTHcr7P5HBzjPkTb/ddD63na4fHanPW7X58cKhJVy/5XruR8WMve8y5E2LHcHV90+B8xswsvqCApb+z9KudH/H1svssfa5BWUX7dxgR7Dnfzxjbx3dpUrdoW+y80/LbDD/m6i6+6TZFx6jbpIvvM3aGnz97hG8XHdf1CX5FCCFWPP773//6wLDxgdEcbikbM2fO9AceeKBfeeWVrX8NjG0/ZMgQ//fff4d7lJ5//vnHf/311z4w5n2vXr38rrvu6gPD1J933nk+EADhXmWD3wgEo7/55pvtWgKR6j/55BPft29fP2HChHAvsTxB3QuEhW/QoIF//fXXw63LMmPGDN+6dWurT4FADLcW1YlnnnnG77jjjr5Pnz5+wYIFtp3j7rLLLn7//fcv3hbB92lXbdu2DbcsYc6cOf7000+3ulyVeeCBB3zNmjX9vffeG25ZFtrX5Zdf7hs1auQDkRduLSIQlL558+Z+v/32szKL6Ny5s69evbr//vvvwy1FLFy40Ldo0cIHQj3csgT6h379+vnJkyf7//u//wu35hf6i1NPPdXPnj3b3s+fP99fdtllftttt/UvvPCCbRNVjzwt41HX1Y+FdE74MEqRM81NHh7+6bq6Zo0auabFCXcmuGkfh3/OmemmRtMka7d09bcJ/4Y549w5e9dx+583yI37MNxp3kw34b5erlPTRm7/ayenzLnMzuxRnVy9vc9xg56aWZTQJjjWuMHnuP0b7e96jbNdSuSZ85u5Oi1jx3Cz3eTgfNrXa+n6vlPa7LFZ+GeGG3piPVe/XS839M0wSVHxeXdyY78p2lTMwsmub6v6rv3lQ93kz4s2zX5zqOvVrr5rfMrQ4GyFEELkk+23395dfPHF5nEBPAODBw92geFu78sCYX54FA466CB36aWXmkepY8eOFjLLiH8+wIsZGHzuxBNPNK8mnqjtttvOBULb/hfLH4Q04g3Ce53Ny45H8KuvvnI777yzebYiqHfrrLOOeZiYd0u4JFBXqI+8Z65snLvuusu8YHjV8JJHENaIx+3MM89cxhtX1aBdEiXQsmXLcMuycG/oG2rXrr1M+8LziNeSsFQ8vhH0LdwT7lecV155xQUi0jx+lHsEvzFx4kTzAgaCPy+RCul45plnzNtKGCvgcSaKgt975JFw7peocuRtHch6u3cN/wpk47TZRcLq8xluQiQMOzRzjWvVcI33jvab5sZNKZIyiz+b6sbaXwFHNnL1wj8RZkPPbusG2bSSpq7r2FluUdCR+fkz3JATmEk4z024rJ3rlXTJj/cGuE4dR4air6nrOW5u0fEWzXJjOixyExIuozE52K/4u3/PciPsXOwT1+veCeESJbVdx9HB55P72DuDOZB8x49xHXPpPx/rG1xjSzdk2nzryP0P412fSLDPG+n6PDItfAO/uHEXBWUSXkvtE4a4qT/wm97Nn9zf1ZsZCPeij4QQYoUEQwcjjH7x66+/tv/LCsbS3nvv7Xr1KprzjvFGONqdd97pZs2aZdvyAaGkhMdeddVVbs8993TvvvuuhbhlgxDEG264IXyXHgQjoXG84kRzqkoiMoiffPJJM2YrGub73X333WZEFzqIsfvuu8/qXnmCmKBcECiIunRw3xCPCDzCVOPhhrSTzz//3EQiodSIyQjEDAKRgZIIxCrH22mnneyzuPhBZBCOiZCpynDdtDfCc5nDmAnqKf0D4i4eUgyEG9OuuW8M6kQw55F2Gq83hM7Tl7EfIe7xz5hzyv3h3qWbi0gI8rhx44oHBtLBOTJXnPuaCY5NHxcfTKB+0Ffls+8ThUXeBGSteo1c8VjL8Knm5Zo3ZVxx8pyWrZpa8phajZq5dkWb3ISJ00zMzfxwSYqdlo3quXD6pHNvjnS9ng3/PreX639k3aI5k7XquS4DB7ku9sE8N+CmEYm8apOf6h9IvCIa3TDI9Tm4dtHxatR17W7o43pGOrAElvpu9bqu43nnLEmM89i0cvHwdbkjuN6GYcls0NJ1PDsqxZhgh2/GuaGDo3dd3KCBXVyjMI9DrSbd3e392hS9EUIUFKkiBmNM5JchQ4bYHCAMKuYEYeBcf/319v7ggw+2uURlAeP75JNPdp07d7b3zDlCUD300EN5FTYYkRin0Xwy5rFlAkOU+VjHH398uCX/UHeZLzl27FgTIZWRdAcDGhGPhzYfAwLlBUlNGFRgHhqewfIEQY/HijqfyfvEnNpPP/3U7hsCJQLBMHnyZBPlJ510ks3PjZKvcCy8iAxcRCKRv5lzefbZZ9vcPERJ9BmCiLl4JGSi7lZlEOx4Dlu0aJH1Wpl/DbvuuutS94b5p0QBIB4Z9Il7hBFlHJNkNYDAx9vJAE+TJk2s/2EeKiBkP/roI/NwZhKy/PaECRPc888/v0ySrgg813hTSRKWqV2dcsopbsaMGVbPIjgPBpLwaouqSf5a8jb1XctiFTXZzfj8Fzd1YuRXrO1aNggzrm7a1LVpVfSnGz7JzVg8z82eFvnEgv0aLcnMOm3ymGJh1K5p46Wzsm7QyDWNjvPsNDezxBUyZge/Ex2ttmvfYsnSI0aNlq7taeHfJdCy4RIfqVG7rmsW/skJ5z+ItaVrGmUlCqm77ZKGGvTU4R8Bc2Ys8eae0MY1S0kCWLdFp2IBL6omGIwk32A0EgOZ0U0eQhgsPKjYjoHHdv5fbbXVbGS5T5+Yt7ycIdHCUUcdZUkZOCdePBwJy8OwJ9SJa+CByGf8zzUQ2kN2OR58F154oRklGOk82PgO+2LkxK+P6422cwy2Uy5sJyMdCSEwbKLfopzwJGEMY5xffvnlZlzxGS8eyCRGoZyjUVkelCSV4EGOwYYx+8ADD9i5ZYJzZrSYhy/fw/PDg3733Xd3p556qoUAYXiJ/EG5khgEw4qyxUPDPX7//fctWQhGX1mhnpEdFVEKGHK8J8wMQyxfUBcx1KknmTIdUr8Qj7Rt2lfEG2+8YeGwGKl4QEjGg9eI9rDlllvacfmbbXzGi33xHpEgJBV+h2QttNlMoXIY1hjGtJ+oDdLmMFBHjBgR7uWsPdIeOAahcCQE4bgliXva82mnnWaC6MYbb8zqMaksEFkMJnBuhxxySLEgu/nmm6186Z8oF/pk7tdZZ52V1mjv37+/JajhmulDSYxDcpVUXnzxRStr+stM4KHCy0Q7QLDwmyTBIcsvAy7Unb59+9p9iODeICAjDyTXQ70gmzHPEj4jgysCkjo/cuRIu94omU4hQHvfd9997Zwoc9pQFHrJcyUVBB8CiTrLfvTXhx56aPjpEuhLqIMkwcoG3j/Kj+cMZU7dJaHXGWecYdmP6S/wYsahTvB8wWNMvfjggw8s4y3ikTZDfYg+Q9AxWME1ZhKy3FMEPwMatM90cL3nnnuuCdvbb789bbvimcmx+H2gntOOqccIT1FFCSpanpjvnwn6Og7Jq+vYZzIkzPF+6sBG4fbavs/E8b5n+J3U/eJJbbK/Gvn+08IvZUxME0tKU5zEZmlm3d2y+HslJdFZiq+zJKaZ3Kf4e0XJcOIkTKKT7nwzHHfuyHZLtl+dJkXOovG+e/S5kuhUSd58802bgB883PyTTz7pg4eMJcPo3bu33fc99tjDJrazjaQZ1157rQ8MRkvOUZEEBoa/55577JyCh5R/+OGHLWlDxKxZsywRA58HAs9/9tlnPjBW/KRJkywxRJ06dfx6663nr7zySksUEDzcfGAI+B49eljCiI8//thPnDjRB4LMjnHyySdb8obAWPJPP/20Dx7SlhyC8gkeipaggP223nrrZRKrUFaBYWSfn3TSSZa0IJXFixf7gQMH+kA4+MBAD7dm5r333rNr4By4dn7jpZdesuOTgCUw0mwfsfxBfXrttdd8YEhbneFFmyRZSUURGHH+wgsv9FdddZX9HfHXX3/5m266yc5n6NChlqSDRCgk9QiMVh8IPL/bbrtZ26FOBwaq/+677/x9993nA0PVP/jgg+GRiiChyvXXX+8Dw9f2LwnaKslBAqPWjpeuLQVixNoGiTjoB3KBcw1EadakMZUB5UudOOaYY3wgRsKtS6Ds7rrrLh8Y3T4Q7sskVonDPbzooousb3v88cd9IETCT5ZAX1qvXj1L0pLu8wieAVtttZUlyeFeJoH6/fzzz/tAxPrBgwdbn3rrrbcWJ3ehXlH3R40aZclb7r///rwle8o3n3/+uV9jjTUsAc2NN94Ybl0W7t8TTzzhW7Zs6a+77rplEtkA5dKtWzcfiEv/7bffhluXhWPxnCARUbxtlgTPL84zEJqWqGbYsGHFCa6o79wPnn+BcPd333132nqWDpL98KxN1xYjAgFp/QL1JRscg+RhPLPpT+LPdFG1yGMsQS1Xr+kS39aYG/q4MZHD76yWrnHMfVhvpyjYdZ6bMGxkcVipO7Kxq7uUmzEp05ZywgmxIkNYC2n/r7jiChshbdCggXm28N4Bo96MXjPiHYhJWw+P0c9s3rLygPNgRJVRS0Z08SwyuhrBiDDnCXzOSDqjvk2bNnXXXHONC4xLu1ZG7/FaMhJ7wAEHWEgiHguSmuDtiEb58UYyMo5XhVFmQt3wsjCiyog675knhGeK0VuOHYFHEa8jMKcjXeISQraYA4IXC49NNvhNroFRXTypjDhzPxi1Zr4JKdk5X+ZKieUP6hNeH+5jNKeQcELqKvW0IiD88JNPPrFlQeJp+6lT1FM8k4Qm4l3H80WdxGNB+B2eFtoPHgTaHe2wVatWdizaVBzmYOFtIESW/UsCTwWeSNolbSm1jjNvi3PHo4b3C29oLnCuhBCTaKiiyjoJeGVGjx5tfXPknY5D2QUGuoX8sZwDcw/ThRWyjcQoHA/P7eGHH77U/Y3Ao0g/RURDus8B7yAeK/p+yjnyIJUE9ZvwW77H/Sfcnvm4kZeS5w39IV4tvP08g+IezEKC+0EECnWFuYt4D1MJbGULG8VTi7cQr1rquo5Au6LMea7E54umwjOGcqGdZYoeSAe/SbshPJSkNUS+8KwD2iX3j/OMPKjZPM9xiAai7bOETyY4PuVEYjB+Nx2UISH7tGGep8zVzhZeL5Zv8hqMXrde4+K5gPPenFycrGWpeY0BNXZv6aJUOhPuGVo8T7LR3vVc/FFRo/qSB1W7kXOtEWd6lbywf21XOwp5dWPd7NTMpQHzvl4yF3N5pdYGsRKcHpsbGRF0EsrCWrXBEEHEZJr3kAr7I7zKez5OOhCMPPR4KMbFYwSGSjp46BK2Q/gbC59jUBFqQ+hV0jk2GMg8YCPjijAwhCUPQcKVWLg5gvMgvBajAHHJAxrjKw4PSowpDLZsxgPwACbUCSJhH0E4FSFDhB5JQC6/cB8xzJg7FgkrwpoJtUaslSeExrEmG6IgCr+OoF5TP5s1a7ZUm+M7hGXTjmgbkfCN4DlLXU3tJwhdZRuDUUlhYIuEKoQQP/jgg3ZsQHAQ7ohYZcAmU/svCcodcVpI84gx7N9++22ba5tJqHG/MLoJ/2ReWqoApt5wDAbMTj/99GVCHONw/yk/wvEzgcjjnjP3kfuRCwxwUa/pexmAoM5EfS/hlNQnQqX5LFsG2EKAgRTOHVEX9ctxGFRhjUzEJoMomUQf4hEhRtvKJsYpF+5lJP6SQnkzQMIAA3WAMPRogJTttF2eT9R7QpCTth/uEe3tlltuyTrowvORQal0Ib7UJdaCpH/hOcyAAvO+ma4iqiZ5FZBup6auU/jnEhq5NrunjCDWauyadQj/jtFyp6XnFtZr0qVYkI6dPHXpuYXvDXCNg8ZBA6nWJsnSFHVd/b2XCNIxE1NykS6c4MbcE/5dXvwTPKTDP8uLGoGIL/YDPzLBTUoZ/Jn94oglcyRFlQRvGQ+WTFn3UqENMQ8KQ3d5AgMdzyTw0MPo3G+//ex9EjACjj322OKU8jx8KQP+Z54c80viYGDhMWXODw9oRpEjMAZIRMF5JDGkMVaihzsGeFysAsYZcyo5F7H8Qn3B0KdOcL8RBizYjjgoT/BQYAjjzYoLQYw86i2iMlUg4tEiEQ5iAkM51QDm3Bk0iXsgMRBJnHLggQcWG7JJYN4eRjseLMoCLxjGN/PB8M5hpJcFzpFrYA5gJE4rG4xr+qx03scI+jPqCveAOXKIkQiuAw8Yc0EZ8EOUZRMI7Ec/k02kIPK45wi+XD299E3cRwYVuKb4oBl/Ux+4HgbUuO5CJu75pTzinl/qKAM/XAv1Mtu1IK6IKokS2mQiyb3JBAOdnBNzjeP3jEgByp2BTNoj9yYXmL8aXX8meFYiVBk0iLcrnn/Ml2UeLP0EiX14rjFXl/IQVZP8CsgadV3jI8O/I2q3d82W6S9ru6atUtfH6eiaNVg6zKJGi/auR+RZvO0cd859M4uWyFg8240c2D/0cNZ2Xc9qv5TnMhNNj+vjosfStIu6ul7Php3zj9Pc0LM7uQHLuOvywKZ1lwi6xya5mXj+F//iFqdPeFV2Nm3nul4YPeCHuq4XDA0TDC12857t5TqdnnCxS7HcwoMOj0C2EdBUECwYEQgjksawnh2GL+E6jJZG4CEgNJaRSB5SGKoYlRirPXv2tBAXtmPolDeItSg8BoMY4ZzqzSsJEoZw7cADnfBWXgg6Rvrj4Uw8CCOhxwOUh20EhjnbOAfOpST4TUapMQAxci+44AL7vbhnCg8kAwGpMBpO0gNGeTt37mxZPzHi8cTGwQgiFJBQIkKUEcskTCCdfvx3AE/nsGHD3EUXXWSfkSwBgwIDIErNjrGJUUCoIufF7zIqnymcSRTVKYxrEmNE9QIBRxtLFwadL2iXePcwNuP9AB5HjOV0Ay3UH0L4+E46MUGfgucwLjzZn7pDXc4VBCRGLp7Ce+65x8Qjoq9169Y5idF0cM0Y2ITSFUoIHUKZUE4M/UzQHxAVQR9Eub700kvFhjoi++mnn3aNGjWye5hOoNAXU46s3Tl+/Hi73/QV6RIQESJMe6fvpi+j/fMbSeEeIQ7pV1I9oXyGB+qEE05I1B9WNtyT9u3bW19GP0z4bwReOcqRz9M9X7g/DB7yzKQe88wYM2aMic5UnnvuOdejRw/rg6mjRCPgScwFBjI7deq0TJIe6g7PM6JXKPtc4btELWVLVsWgKwMXtKvouQCEZhNujq3AFAxsAV633nprzp5tsRwRVP68siRBTvg66xk/P/xsKab1943i+7Ua4tNOlZ89wncsTsaz7Kvp1ZP80tPDsye8mTWyow/k1VLHsNc2XXyX2PfylkTHT/X9Gy757tLHyH8SHeO34LtNou/GX7V9y84dfSDdw/dKorOiwER9EgRw30mekZqcheQJjz76qE3qDx4ANlk/MEJ9IAZtWyAsbb9AKNnfgdi0Y3300UeWOIDjc8y9997btpMsIgnBA9XXqFHDjvfqq6+GW4tg0v4pp5xixzvxxBPtfcTvv/9u1xMYKj548FkCAc4jlcBI93vttZcdo2vXruHWzARGtCWnYP/AKPYffvhh+Im3ZD2NGze2BBeBQeEDcVWcACEQBXbt48aNs/dJIDlIIDjttwJj0G+33XaWnCEQiOEeyzJ16lTfpk0b24/kJyRlOeecc/z666/vA1FiSYYibrvtNkt6EBiGdi9JdEGCntq1a/tAUFpiDa6XBBdNmza1xA+BgWsJUXgfGDiW7IT7yvUFhqL9Lr8ZGKf+kEMO8YGosOQZgeEV/qpIB/WEhDZrrLFG8f0OhLglqMk3JK0giQn3btq04uxyxaRrJzBy5EhL3BQY/RnPK/W71IfA+M4pEUicCy64wJLpBMLREsjkqx4FQsoHQipR0o+KgOuifZFwpiS4fyQPWn311S1JDtfy66+/WrKzQJRkTVTE/aFNf/vtt3727Nn2ot9Mdz9p0/Tz9EP0D7z/66+/wk9LhvMMxLn1xanwGcmMsp1rIUG5UU/+85//+EDw+meffda2k+SNOkqSqWxwnYHgt3KkPAMBaolsUuE40b1hP+5NrnWeMg/EW/huaSjzsrQhEssdcMAB4btloX6QcGefffbx77//frjV2/l88cUXaV96NlRd8uuBDFiSIKeIdns3Xmr+YzENm7n2SyJhnGtSP70XccuObsTMWe6ZW7u6dk2iPWq7eod2dbdPmOsm9W669PIeJVD3uBFu2oTbXddD6xWFx27T1HW5eoybMWWI69LAdskzjVz3x55xfTo3Lb6+uk1aukW/lWPWnzWbup7PznBjru7imtrAYFRe09z4q9umvx9ihQavCIkw8LARdkeoCp4IPA4kc2CxYWAOBiOKcQ8BI5+MTLI/cynKg8BANQ8Jo56Ex5DEgBFOvCF4RBkJ5zzKCiFAzBlipJmRaEKSGNUPDAzztuHJw3vDNsok8m4wahv0p+Y1TApeHsKF8ObhLWQUm8QmzJHCc8hvxsE70Lt3bxslxpPIyD7JGgirImyItPR4noC1vfAuMEqNF4B7g1eD0WESMTA6zogx14snCA8Zc0G511wb3otHHnnElr3gfvfr18+uD08pv9myZUsrC8ocLyVepGzwXUKq8ciV5oVne3mG9tGrV6/i9fhI0IQXAu8QZZNP8IbjveLepvN2ZWonLBvA/sxly+QlS/0ungjCRTPNCSsJ6nHkSSM0LooGSEK2cqPO0I/hDaJvq2wCQ9raFVEeJYG3iz6Gds5cbELp8Q4StkhbjubTpoP7w33n2vEo8eL+pLuf9AP08/RD9A+8zxZ2mQrnSWKcdCGdfMb9zHauhQTlRlnQX9KHUu541ZhHypIwJT3XuE7CjiPvPfc53RQSjhPdG/bj3uRS54Eyj6ZupJJrG0qF8yJsOtOatXhNOWeexXHPPufDcyLdqyznIwqbvAvIGq36W8cevcYcF1eJcQKRMzeWCOfqpuH2NNSq69qce7sbM3lWuP9cN+PJQAS2SHfs2q7j6CXHTZdcp3aLQEw9OcPNZZ/PJrkhvdu5ellVVQnH3LSjGxN+5n3P4MpS2LKN63nvJDcr3GfW5PGuTytkb7bjBuUTbvd+jOtYNE1rCU16Fn/Pj+5YJIbj1Krn2vUe4iZ9xj7ZykuIogcb8zYIP43C1whZRMQgbpj3V5kQ/oXQIryLEEoy0CEiEU1RRsd8QRgdZcF1M28JI5TQMYz+Y445xrLAYhyQVZMwRAxD1nZD+OU61wcBjDBF0BGWxvdJasF9IFwUYQjcBwQrn7FWWNwgRDxj5BC6xAOb8yGzK8diXmgcthHSijFKqBuGLXAeGEEYn4hYBAEhrIRKIaIxpDAuSNBAeDIvRD1GE2IFIcHvZgIDDcMMEVyaF2I2CZTTwoULrb7m80U4KPWhLDAoQWhwlISGwRCEASHM2couV6gzrL9Hm05aHyk3QrAxTkvKIByHASfqQGmgf2GeH8KFBDMIWO5dEig3Qqiz3RMGRBCS8VC7TPAc5Vi08aQv9k8d5MkE62RyLlxrEuh/6If4DiKbwSXabSbxX5WJnkHp7kGmF/tzT3OBe8PAGM8S6hd9OoNj3IMVBfomng1Mk0gH9Y9nA2XLc1Gs2Kw4LaNEFrtFseRT9TaromJr8aKieaRwZN1lhadYIcHYZN4MD04eIhh0zI0hqygPcB4qlQkeKLxqUXIbvJCIJuYD5fsBzygyc0gYjWfOCvNhBg0aZPM+EVokW+B3KRO8tohIRqzx1pYGDF1EMSLpnHPOsdFrxBnzT0mJDsz3RLxh3HAOcUOSeWRnnnmmeScQKYwgU0aRhyAVRCWfIYqYwxYn9diAWOeYlDnzpih3XghavJpk72OUuSSDjTrGKH9pXkk9GVwTYpy6nM8XhmQktssCdYeyQ6gDZXv33XcXe47zAcYz9QdvAfc5CYh0BgEwopmnlxSMyNJ4HxGKLEHBnGrKgzbA/GvKIwnMR8YTkk1Q0S/wwiNbEgySMG+NucS5vDjnTN6aOJQT55p0oIu2QmIz6j39EImXcvEOVhUYZGDwKl3ZZ3vRLxMVkYuIpHyJ6mBAhHbDnEY8eisSDDgxmJWtTkd9SjS4KVZcVigBOW9Ue+vEi177uwFvRlJqsfvlvaFu0I3h29o9Xcvdwr+XOya7vsXXGLxOH+nmRYO0C2e7cXcPKl42pc2hS8JqhWCknrA6vG0Yk3izCFcsBHho8XAjVCapV6W0IIYINUS4IJww8EkOwFqNgGcgWv4DgUeiAJJIYPAlBdEZN2xpq3j4CHPEA4jhgkC97rrr7EGNgMQTxuh6SV6PKLQI4ymdIYDgRMAgNDhuSTAazXHw+OAVZZAh9UUYLYIlG5wP15LrK5fBCwQDggYDPJ8v6lxSMVYSLAdDaDAGK2XCIE2mEf/SQn3KBTyBlB1hkwygJIXv5GKkA+IR7w7h0oRR423Dq494JKQ7ieDDuGe915LuCeXAOZYE58IASS4vwswZqEGsl0SSc4hD28SzT3snVLykMEDKlJB7PJ1JoW8r72zAZYWynTZtmpV1unuQ6UV0CAN/udRN+tVomgQhxETilNSOGDjk/EqC+8N50c5IjETUQVJve0WTtM3k2seIKkjQwFYcvh6TNSFP0auu7zJ2qZQ0yxmL/NR+TdNc19Kv2i36+6lLZx8SVZjgQZw1iU7w0PQDBw70rVq1smQ6geFu20lsERi6PjB47T0EhocPHq52LJLoRAQCxxK8sL28k+gkJdckOhEkOSBJDN8LjDcfGLlLJZh4/PHHfSAa7fNAjPlBgwaFnyTjhhtusMQ/6SDhBckMAuPYr7feelbeJF4gucmqq67qR48ebUkqUgkMErtvJHLgnnFeJN1IB8lvArHgn376aXv/xBNPWDKievXq2fs41BuOde6551qypXSQNCLdOcXp2bOnJfzJ9cXvkhSmKkECDRIWbbzxxv7mm2+2JCn5guQdJP4IhKolSUnCYYcdZslw+vbtG25JxkEHHWQJl5JCHR0yZIglhCHhB9A33XLLLdYPHHzwwZZ4Ix/Qx1GfH3zwwXBL5UE/V6tWLT9x4sRwS3ZIkEW5rrbaata2SmLmzJm+ffv2xe05E7RR6hqJ0E4++WR/6KGHhp8I6uY111xjycNIDBY9A7NB/b/iiivCd+n5/fff/UMPPWT935gxY+wekajs4osvTpuAqDIhMdz2229vz5BMvPzyy9Z38QwUKzYrlAeSJS5GzJzhxtzQ1bVrtbT3rfZOLV27s253z3w21Q05cnkO7KzhGl06yc2dMMR179zStdwpfi11XdNWXVyfkZPctBe6u0a5ZB8SVRpGrm+77Tb7G69j0lArRsoj+DvpnKBCB+8jXkjmGuJ9izxGEXhNWLKDUVg8ZIcffnj4STIoq5tuuslCtFLhNxn9ZhQYzxfeB0JL8Q4RXoQXMJ7AADhHwm0JhSQEi9BSjh0tWB2HME9G2fFEstRBSZD0gdBY5mriOU2FxbfxXJfkKSR8k/PK9cWcvGwLpi+PEIqNd5X5u8wzTbc8QGnBM869xbucrn6lQt1hKQHqWpI1TOPQTggnTQKeReoQnnSuOZoPiMeYkHHuNZ4jPJHp5oRSv/h+ILgtQVQ2D05g25j3iv9pO5UNXl3aYWq7zQTh6uxLX0yobkmwD+vG0mdlA293IKjtfhN+W1KbXZHA+4hHmSkcRN8keQYS3s6c9GzwbH344Yet/+M5wVQIphsQMk20TyGBV5rrpv9IB+2J/gLPfxSGL1ZcViwBCSSXufB2N+aFJUlteM2dPt6NuaOra7NN1chRWrtFF9f/3vFu/PS5xdfo/Sw36YUhrudxTV3t5EsEiipCJPYwzlJFBXN0EB+ETUXhdBhgUXbRuKGBsRuJqWgNK45J+BkGCmAcJ4HvcWyMy7gYBX43Ok9CuXifK/FrzcVYIhyzefPmJsZImHPUUUeFnxRBiCnZWglvbNGihYmsXMCgRNyRSTb1ujH6mX/KuWOcICARBYhWDBsypDI/EmOHfUhkMnDgQCt75jxyb6688kr7jLA29otD2C3iFPGS5Lz5XcJr+R3majIniTLlnpB4hflZCN6SDC7WUevcuXOpXpR1VeGdd94xAUTyo/PPPz+jsVZaqCvcVwYKkiS6IAQP45mBC0KzcwFxT3/Bb2WDvoSwVZLBUKeZ5xsPgSP8m7BB9kMkYqSmQtgf/Qr18a677rKwxkxQPwlhpK9KIsDKG9oH8xmTznVFQFKu9EFJwgkJ7acfKimhEeVOcizC0XPts6o6tAH6XaYoUE5JILFbtqRT9MG0d+4l2Y2jkGvuEwOQI0eOtPeFAvO8GajMNK+ZPh8bgUGZpAmhRNVlxROQQqyAYHhFSy0wyphq8GGA8IAjqQXZPMk2yuLgPEwQOIgGjA7mb/BwYRQVAxAB1K5dO0tyQ0ZUjgMImmwGHnBOGFQYezy8Oa+4mMKY5GEFJPngfa7w/ciIxlOWiwjl+kmqgMGVOtrKtZN1FeMfUZXrfBAEJN/B63vkkUdaWWE0MxerW7du5olhQfVrrrnG9uNFZlbmz2GIPvHEE2ZI8yBnYWeS4TC6HXlbuD8svUFyEOZRRoYrWVwvu+wyE6B4LCLjFG8OxkHqPQCMX+oEBgNig+vGKKdsmBdKOe21114lzkfjc0RmaV65lm+hQnIq2gsDEHigyyNJB/cUcUCZleTxog2SdATwJubqCeW+U19oW5mg7lHnGNSg3lNvUkURopffR8RGianicJ7Uze22285EKG0FQz8TGO6cE96kQvBec314oBCGJYGHFg81fTSZmZOQtF+j76ZuUC4ltdcVCeoLnm/qHXWU8imJJGVOn8oAHoN6DDbGYbCPXAPZPOkVDQKaKIRM/S3tkGcKbZV2LFZwgkYghKjC3HnnnT4QKb5OnTo2940XC1QHIsLm10HwYPBPPvmk33PPPW0uHPNjmIsUGGq+ZcuWtsg98yMCMWb7M18kEDo+eNjanAnmgQRizXfv3t3/97//tTk2wUPZ9k3HU089ZfMamUcYnRO/we8yT4jF7QPBVPwZr/33398W2E5CIDhtYf3gYWgL50fHYM5KYLgnnnsyYMAAH4i78N3SBMLX5oYG4jfckpzAqLb5XpQb/wfGpc1JZC7ovvvua3NPuSep/PXXX/7hhx+2e8J11a9f31999dVp54eyLwv+B4LFN2rUyBZ/Puqoo/y4cePCPbzNh2KeZCBGi8uJ+XAsoM3347zxxht2LM6T+86cq5deemmZ/QoN7hP1loXSmXdHnWe+brr6uXjxYluom32ifXmf7l7kCvNY9957b7/VVlvZHLfyJDBMbQ4v9SgwYsOtRQQixtpe48aNbQF/2uC2225r7Z73LL4fiD3/ww8/hN/ITCAefWBM2pyuVPgdfoN+hznT1C+unbYfL3vaKnN+2Y+6xXkEIsfaLvOx43AfqPslzd2jfzr88MN9r169wi2Vz3XXXWfzGpnjnA7mMfI59yIwzu1F2VKG9OHpYPF7+swjjjjC5tJm63NToT9t3bp1+G7FhPpEGdD/0vdSPylz+tUePXqkvVfMX+bZwjO1Q4cOWed+//HHH75Lly5W1qlt/swzz7Tf41lQCNBnMN+ffj4TPGdoe8zhF0ICUgghRJVl0aJFZlwj1DHKq1WrZuKEAY9USBBx3HHHmRG5/vrrm/A+/vjj/ZtvvhnuUTr4rZNOOsmSukyZMiXcWn5wzQxOnHbaaaVKPpULvXv3NgOZ3yxvXnzxRbuH/M/gB4MC6fj0009NFGRKVFUZIBARg88//3y4pWyQLAnxyADH+eef74855hgTzkmRgMwdBh5JmEZ/cO+99/qaNWvafcgE+5PMiuR0qQmtSOrGwAqCtBBgIJKBxGyC+O2337ZBDv4XQiGsQgghqiyED5LsYujQoRZuTAgfobzM30yFeXgkGTnllFNs/hmhwsOHD7ckL6WF+U+EKhMeFhhpJSY6yQdc8wEHHGC/TVg0YeLlBXNUCS8n7Lq8YdkJwuqZE8tcyenTp4efLA2JpggZzXVOZ3nCebNQPdMAkiQ3KolAPLuTTjrJ5o9Tl7ne8l7iaEWHcNOGDRtaCOfjjz9u4fvZkjQRCkpYOGHehLPG4b4RRlwI9+y7776zvo7pE9lCm0ePHm1rIFPXhJCAFEIIUeVhPizzjkiIhFF3xx13LDPfE5ifh3F34YUXmtFfFph/S6IMEsAgtJg/miQpSi4wV+7PP5dNWoV4wtglQ24+BEsmmDN23HHHWVZJ5u+VJxjrG220kYlHMgmnE/bMZaO8mbeLkC4UmH/I/Fey1pJYpaww95kBD9YWRMBH89JF+cGcZUQjCcuYD04SrGxljhijD2GOZWoSt59++snm1kd5AyoLBpcYJKM+Zcsmzjx76i0ZyZmHL4QEpBBCiCoPHhuMPYQcooeFvVnKIBU8BSScQnyVBQxGPGYYZ2RrJAFSSQvC5woCGK8AnsZUECwkvuK6EVTlBUYyiaAQ5SxLkOppySd4kM844wzLYkmir9TyJBkXSaNYfD9pApqKgoEDPDeIPryQDGiUFe7/PffcY6IGIUKdjhKkIQxKSqIkcgcxyGAJfUh0L1mqA7z3Vv7RwBTZvBnI4T3tMIL9iAwgCVVlizESuDHowoBZpgEXBmtIgkVkRpKln8SKgQSkEEKIKg0eRcQFS7KQdh/DDwYMGGD/x0E8EqKGACstGIhk0mSJE0K+zjzzzLwv1wFkR8YQzeTVJFNi9+7dLbMpy+yUFwg6BDIZUgll5frLA4z2Vq1auX333XeZJSu4x2S2RUyxzmS+Pb35AMGLlwfP07hx4xxrdZYFltYhkyfeRzKIUv5RvSWM95BDDrFBjHQwwFFe96kqQz9C6DRlzmAJ3vAojBUx1qVLF3fnnXfaZ9RB1jdlmRqWbaKOAksxIcpOP/10e19ZkFGVCAXaS6blSDhnMnq3adPGojcKsV2JymHlKxlWEEIIIaooeGIIv2rQoIGJKsQcnjsMbgxBliWJICQQcYK3qLQhgXgb8JARbnn99ddbGFu+wwsJobviiitMMPHC25EOrpXPWRO0vLwHGJUs84LAw3DGG1bRnhWENPeNMOFCnguIwENU4Kni3rB0SWlBkOJ1REQCnuAoJBLBMnz4cHuPBxwYHLnxxhttmaUpU6bY0ijMn2Q7y/VocfiSoV4TwkpIJ+sgEyrNgBNQjqx3ikeS9U5Zgoj7y5qPlDOeS7z0CM2bb77Z2mNlhh1zvtRFQsGjtZ1ToW6xDjD9ZCGFhIvKp5rXEJQQQogqDEbQiBEjLJlO5AnEE4Qxd/bZZ7tbb7212JDDY0foJ2KzNJBogwQ2CAQ8f9kWGs8VwhKZz/jyyy+7Sy65xMQanqamTZuGewixBLyMffr0seRNomLApO7bt6+74IILlNRIVGnkixZCCFFlwaBDzDF3KR5G2rVrV/OcEeKHRwEIKWT/0ia2IIkM4apz5sxxt9xyiyWm4HdzfWH4EzrG+ZBsg1BFvKV4MI499lhLxsKi9GQjxXMkRDrwkm211VbhO1ER0JeQbCdbNlMhqgLyQAohhKiyIMYQXvzPsgcRJLYgtBNhdtlll7kePXpYWB+JddiP+ZK5gHgkPBBvJss1IPRKy++//26eRkJvCTNEkCIY44lXmHfF75EUSPOSRCrUx/79+5snLD5wIsoP2u3DDz9siXOIYFC7FFUZCUghhBBVFkJKmYfInKTU9cuYr0RmTwQf60SSUZF5YMz3yWUOH7/B90maw5pqFQHrVOLlrIh1JcXyB4MOzMXDSy0qBqIFvvjiC1evXj231lprhVuFqJpIQAohhKiyYNSxXhuZEVPnJJFRcZ999jFvzTXXXGPJb/BKIs5ySW7B94YNG2bZGSvikcq5cZ6I33wvDSKEEEKUhASkEEKIKgthqWRcJdwzFeYbkg2RhDT777+/efNYjoLMhLlAMhvmWaZb0L88QEAiHJU1UwghRGUgASmEEKLKwpzETTbZxLVv3z7csjTMLSRkde7cubZIPfMhWX5DCCGEEOnRDF8hhBBVFrKsss5ZJhCXrJ+HF5GMpko4IoQQQmRHAlIIIUSVgjmNn332ma2Bx4LqLLrPPEUyr6ay9tpr20LrhK8iIJV+XwghhMiOQliFEEJUKUiY8/TTT9vC+8wX5H+SzhCiyhptqXzzzTfu1Vdfdbvttpvbfvvtw61CCCGESIcEpBBCCJFnWLPxq6++crvssourWbNmuLVsIIRfeeUVW45EobZCCCEqC4WwCiGEEHkEocfcy0GDBrkFCxaEW0sP2V1Z1++uu+6yJD+sNSeEEEJUFhKQQgghRB4hbLZJkyYWMpuPpTYeffRRN2rUKPfBBx+YV5PlR4QQQojKQiGsQgghRAHDEiMkAJo6dao766yzTFAyp1MIIYSoDOSBFEIIIfJIvsdl69Sp4zbbbDO31lprhVuEEEKIykMeSCGEEEIIIYQQiZAHUgghhBBCCCFEIuSBFEIIISqImTNnui+//NL9+OOPbt1113WtW7d21atXDz917r333nOfffaZZXLl85122sltvPHG4adCCCFE5SMPpBBCCFFB/PLLL7aW47nnnmuv999/P/ykiJ9//tk9/fTT7vbbb3fffvut++OPP8JPhBBCiMJAAlIIIYSoIJo2bWoJcc4//3xbI/LBBx+0DKsRLVu2dDvvvLM77bTTXOfOnd0222wTfiKEEEIUBhKQQgghRAUyZcoUd/bZZ7uDDjrIvfrqq7Y8R5yJEye6Aw88MHwnhBBCFBYSkEIIIUQFsXDhQpvfuP7667vzzjvPzZkzxz311FPu33//tc//+usv991337mNNtrI3gshhBCFhgSkEEIIUUGQJKdBgwauWrVqFp7atm1b80J+8MEH9jneyb333ts+F0IIIQoRCUghhBCigiBctXHjxvb3Ouus444++mg3e/Zs9/LLL7s///zTvf766xbaKoQQQhQqEpBCCCFEBUCY6tdff+222more7/yyiu7hg0bur322ss988wz7osvvnDTp093e+65p30uhBBCFCISkEIIIUQFwNzGNddc09WsWTPc4lydOnXcwQcfbHMhH3/8cbfKKqu4NdZYI/xUCCGEKDwkIIUQQqxQ4Al86623bAkNFvSvKD7++GNbwiMuEKtXr+722Wcft+OOO7rBgwe77bbbLvxECCGEKEwkIIUQQlR5vPfut99+sxDRAQMG2DqL48aNs6yoFQFrPb799tturbXWcjVq1Ai3FrH55pvbsh2LFy+2dSKFEEKIQkYCUgghRJUHT+Nhhx3mevfu7ebNm2dLabBkRkWAaEUg9u/f31100UVu4MCB4SdFMBfy8MMPd61bty6eHymEEEIUKtU8w7JCCCHECsJnn33mOnfu7GrXrm2ibssttww/EUIIIURJyAMphBBCCCGEECIREpBCCCGEEEIIIRIhASmEEEIIIYQQIhESkEIIIYQQQgghEiEBKYQQQgghhBAiERKQQgghhBBCCCESoWU8hBBCrFDkexmPSy+91F133XXhO+dWWWUVt8Yaa7iVVsptjJbHMS/WqPz333/t9ffff9v/cVgrcvz48eWy/AhrY/7+++92/quuumq4VSxPLFq0yP3xxx/uzz//tDoY3UfqFnWJbWuttZZbbbXVbHsqixcvdgsXLrS6x77Vq1e37dRLqFmzplt99dVzrt+FDuXzyy+/WBvgWmnH0TXynhfXnqlt873ffvvNyo1jReXL96L3fJd1X8sD7u2vv/5afK783pprrlluvydWbCQghRBCrFDkW0C++OKL7sQTT3Tz5s2z9/Xq1TNRyXGrVatm25KA4Y7RjxH6448/um+++cZ98cUX7uuvv3bfffedHZ991l57bdezZ0/Xo0ePvBrxCxYscM8884x79NFH3aGHHuratWtnvyWWL15++WX35JNPuttuu81tu+227vDDDzcRgcD53//+ZwJnr732cscee6zbaKONwm8tYdKkSe7OO++0Y1CXmzdvXiyuGFzYdNNNXadOnVyDBg2qlDihfPr162dt4KuvvnKtW7d2m222mX02f/58a4N169Z1Rx11lGvcuPEyAywzZsywcnvsscdMvNF+aJ+IOspugw02sG2Ufb4HZ7inL730kr24jrlz59ogwUknnWS/hxgWIq8gIIUQQogVhU8//dQHRpVv3769nz17dri19Pzxxx/+2muv9YHYYkDWB0aj7969uw/EXrhH6fn33399YPT7p59+2o652267+cAY9AcccIAPhGW4V9kJBKsPjF9/9tln27WceuqpfuDAgf77778P9xDLE7NmzfI1atTwV155ZbiliP/7v//zb7zxhtWjiy++2C9cuDD8ZGkCEekDseQDEWp1MOLLL7/0rVq18oEQykvbKTRoB2eeeaY/5JBDrJ+IQzvs0aOHfTZ16lQry1SmTZvmmzRp4i+99FL/559/hlu9nzdvnj/llFP87rvv7j/++ONwa/6YOHGiP+200+x3YM6cOf7444/3TZs29YGwtW1C5JOqFX8ghBBCVDCEteGROeywwyzcj/Cxu+++240cOTLco/TgwahTp45r27athcnecsst7vTTTzdPEp6mfBDYAu7bb7+10MeuXbu6iy66yDyobH///ffDvcTyxIQJE8zrFAiIcEsReMSbNWvmArHhxo4d6wIhFH6yhH/++cd9/vnn9n08bnEv97rrrmsh1HweiJRwa9UBL/wHH3zgtt56a2t3cXh/9NFHmzcSTx/tJRXKhUiBQCgWh/7Cf/7zH7fFFltYe/r++++tbeWTUaNGmXeYkFXgtw466CCLXnj99dfz/ntCSEAKIYRYoWB+GCFlUUhePthkk03cWWed5XbbbTd7Txjq5Zdf7t544w17nw8wSDH+Oe7xxx/vpk2b5n744Yfw0/TMmjXL3XPPPeG7zBBuS7hb/fr1TTAgEs4880y34447hntkBsFM2OMrr7xiIbYVzZQpU9zo0aPtPAoZzm/y5MnuueeeC7eUH8yRZb5dVB9T2XnnnU0ITZ8+PdyyBMKo3377bRNMqeHdtB1EJ6GdiJSqxs8//2yh44T+Un6prLfeehaK+tFHH1kbj8P9JTweUoU34a+Eo3Ncvh+FtvNbDz30kPVFmUAEElb+008/hVvSg6iNtz/6JELQEbVC5BsJSCGEKBDio8QIGwyOQjeKlyeYf3TggQe6U0891bwEH374oevSpYvNderevXu4V+nAWMRYx7OD4QYYh5dcconNR8oneDNOPvlkM+K5hkxQf2688Uabq5YNjFkMTbxLcUiUkuqFSYU6iyhi3hjGdWUk3tl+++1t/tn9998fbilMJk6c6IYOHVri/SgrCEAGLvid1Hsagfihb2HuXCqIkLfeesvqcVwkkljnmmuusXuMl3rzzTcPP6kakIQGQU2932abbdLOX6a8KJ8o0U4cBB5iDe9lvNwp6xEjRlh7vPLKK21wJqJWrVrm9XzwwQeXEaQRtHfu6U033ZT2fkHv3r1tAIfjRdDHcUxEqxD5RgJSCFEq7rjjDgvdy+W19957V1goDQ/OCy+80O20005pz4VQnx122MEdd9xx9vAmaUkqjApjgOOFwaiIf5/3GMyEKiESPv3001JdG56bgw8+2BIerLPOOmZ8HHLIIeYNuuGGGyycTOQHwryeeuopC+lC3BGC9+qrr1qykHgW1dKCYY1nkKQlUQZGvGNXX311RsOvtCDsEMMkQUk3yIB3iQRBtLldd9013OqsnhJui+jK5UU9TxeSS7IRjGPEM4Il7nWJQIxQpzFuaTMY17QfvoPXJIKkL3h9aJvRfm3atLF7lQ3E7xlnnGEhvfHjFRLUtVNOOcVCg6MBBs51v/32s/Nff/31rXzoA1q1amX1JhUEKGVMGVE+lNMxxxwTfroERBD3v2XLlmlFEBCmWaNGDRMnqdB3MjBBXUHwXHDBBdZPUpcaNWrknn76afu7MhPoIKYQYvSbUVnQFvCap6NXr15Wnyg7yhrPauqAA30t/THJtTKJLjyUhI/zW5RfHAQbHn9CVOm7SXLFPSf8HM/t8OHDbRAr6huA8yb0HXH57LPPpu3v2Z+ER9zTm2++Ody6NJwzCY+ie8J5vvDCCzYAwABZpnogRKkJDB4hhMiZ66+/3gfGjg+MCx8Y4TZRP3hg+U033RQVZdtJ5PDOO+/4YcOGWfKAnXfeeamEDBXBr7/+6oOHvZ1Tx44dLblAIAztfB944AEfGKh2HVHCiB9++GGZ5Ahc3y677GLHOOqoo3xgYFmyBZJRdO3a1W+44YaWsGLAgAE+EArht7ITGAo+MGB88OD3gRDwr7zyip3T0KFDfbNmzXwgRnxgXOYlEYuoWObOnWtJeqgvvAKxZ/c1ad0oK/zOkCFD/DnnnLNUoh3a3tixY60dBoLZknnQFqjv77//vt9ss838jjvu6J977jm/aNEiv2DBAv/dd9/ZsQLh4AMDODxSESQJufHGGy3xTpJ6SrnwG9WrV7e2yG+kcsstt/jAuLdEPiQtSQrt6bHHHvMnnHCCD0RtuLUwIMkS/cztt98eblkakrUEIsH6oUB4hFuXhfv36KOPWpKWfv36+UAkhJ8sDWVIf/T222+HW5aGsgrEpSXSCYRLuHUJI0aM8JtvvrnVFSDRDn0gfSQJZvh+IUCdu+OOO6w+NWzY0OpwJjhn2kMgsvwTTzyRtr5ynYFAtzqUrq1yjAcffNBvsMEGfuTIkcs8ywIBaHX3vvvus33/+usvHwhxf/TRR5eYdOj555/3nTp1yppgh4RW3JfJkyeHW9LDdVDXqHPUgdTnmRD5QB5IIUSpYEQVrwIeun322cdGP/GKRCOgjKQzDwTvR/BAttAnRtorGkZvozC8QOjZ35wb58vSC4888oiN6rIfI8ZXXXXVMvPK+F4UGsQ1MWrMKDbz0fDyEBLJ/DQ8kemSUqSDkep7773XvEeBwHb77ruvnRMj1oEBYqPWjCIH/XT4DbG8gDfg+uuvdxtvvLG9J4SVpDrMK0vnLcw3eDMIZ6N+RucAhMrhVTr33HMtZBfPIm0B8MDjWcHDhdce7wreHTxUeAGPOOIIu644eNUef/xx807FvSqZ4PvMEyVUMDCmzaMSJzCe3XvvvWeeSNpS1G6TQL8TiAg7D+YY5tvjWxbGjBlj5UvbTgfeLrzWhIgyr5X/U6Ef+PLLL23uHf0UXsF04ansh/eS+0p5pAOP8DvvvOOOPPLIpcIpI/Dk0r9RFwCvHX08L+439aQQ4F7vsccedp7Ua+oUdSuVQMyZ95b6P27cOPP4pauvzFOkrTI/NJ4AJ4LPqVssa8JzLe5tp77RHkg8RGgv9ZG/iXLB68h95ZUJjkkEA0uAcL7p4Dl03nnnuSuuuCJtHQG8x9Q3yqNv375ul112yds8byHiSEAKIUoFRkXHjh3ThqylA2MWQ6kyQmnSGQMRhNIRHnTxxRdbWBLreKUmHeEaM503hnaLFi0sMQJGBOGQSSDZAiFPGOmpoVDbbbedGfgYIBKQyyesvYahx/2Fd9991w0ePLjEcMyygvGJocqcKcIN4+0TwYbhycBPvE1gdDOPEaOXNpourBFBQvuIQ+g3+2LEJ4XQbL7DAEo8mQzZKQcNGmRZLjm/0oBYRkwQolwoIgeDngQ/hJoS+p4JBqHoY5jLiYhOhbBIxBt9A4I+k2BnHt7MmTMt+yr9Ryr0O4Rzss4n83VTYYCD8kMExRPoUEeow5wjfSZ9HXMBK7t/YkAP8cW5UJ8Y2IzD9SCYn3/+eVs7NTUpUBwGXbhHCMhUaE+UPyKeedNMNYiDOCXsl7mTUYgyUE6Ifu5FdM/YN7XcKFNCTZ944omsyXIIkWeAiND7VCgDxCMZlc8//3wbQKCdMaCg54jINxKQQohSgQHCgzspGNKMnhbiXAwEHNdzwAEHmMGNB4TR7KRgHETXhcGYC2TYGz58+DIj5xjlzDNKN6Iulg9IdIOxSZ1C2DH/knmE5ekRwDhNJwAwIJmviFcv1ZMYeWgYBEGgpAoPEoawT/x7XAPCaP/9988pcQ4ij4EnjGTmAOLtRzySiZI2yNIDpYXzIIssBnQu7bc8QXRR7sxXzUaTJk1M/HLeb7755lJeKIQB5UMEB+IxmxBFxBC5wH2JQ7/EnDg84wgkvFN4tFLh9yk/PGzxQQbqAOKJusFgAqKIa6sIj3o28MLuueeeNiiBdzEePUKdR4zjUcWDnir6UqF8uLa4gOQYJMZhziVtBGHGcyKKtIn49ddfbV4pAzBxzzn9N+XGPWPQlbqA+Ivf3wgGnWi/CNlMMIjDwBADlXFRiHAeOHCge/jhh62eUIfoaxiUSfX0C5EPVr6SGdJCCJEjGJupo+CMkvPQ4mGKV46wzDiRAcoDkvBN1iojZIcRUib7YwzwICSslAc2oZw80BllZjsZDEneQ/IDHsA8rNONssfhAc5v4ZHASCNBRerDHxgBxsgieyGeQUK7MEwAY5fEEYQo8ZDnGBE8xBk1ZoQbQ4919AgbKglEBeXACDFhr/w2xi/hscA58p4yiXuRMDDIeImXlHPCiOf8yMiJgRIHY5LQScqTkWnKm3JjlDx+TEKzOCbHIqkHxyY0l3IgzBGBzZpnJKG59dZb3QMPPGDGFGWPICjpHqyocA8RZISTYYTixSBME88A96A84J7RTgg3pL7H4Z4TJp0aSk6dImSUOoSHMO5BAYQEhuumm25aXG8IgcSjSvbHXEJNgf3pJ/hdjo3HlPONBnDKAh4flrBAHCHI0rX1ioR2xyAR4av0MZngPCkPRBB9Hh5E/ofbb7/d+hlCheNZNuPwGyQzoq9D3LEfnsjXXnvNhNGLL75odYNBKaYUxEObAeFIv8r3+Zv7wvkiujg37gvea7xf9MUIIfoG7mVlDgry2wwcUB8ZiCDhWZQ0ir6VvpnBOPryTP0US2QMGzbM+knKmRfPAeoRfSz9MyG9eP/o/1OfezyruM+INgQ1/SXPLP7n/OhzSWyEsKf86NcZ4EktN/p+niOULWGvmUDgI0IZcIn6fPplEoFxj/G4cr958WzlmUTbFSKvBA1FCCHyQvCQ9IEQZFjUX3XVVeHWpQnEiSXq4H8S2gRCxDdv3twHho0lHQgEnyV26NKlix2HJAkk6wgewpaEoFevXrb9sssusyQfJRGIOksWwXf++9//2rEyQRKG4OFu+3bo0CHc6i2xAQlt2H7hhReGW4uSYwRGhyUlCQwsu4Yk5wSBoWuJGAJRbccNjAf7/uOPP54xIcmXX35piSBIUPTuu+/6QJT4q6++2gfGjT/jjDOWSjry0EMPWeIfkil89tlnPjDS/VlnnWVJHk4++WRLYBKIVv/www9bQo3//Oc/lkBi4MCBlgAmMCD9/vvvb/eU5A3HHHOMJUzhOJwjn5HQgcQq2cp0RYd6+9JLL/lAMNp95kX9JwlTeUDSqp122skHQiTcsoTAuA3/WhoSeATGrA8MUkuqk47U75KEh3pHG8gV2khgjFsda9y4cdY6nyvz58/3nTt3tnbC35UJ/dlpp51m10oyr5KgTdMO6UNJZAQkX+rRo0fG+xJB+dH+ScgTCEjrKwMhYi/6Wd6TEIl+Jx30B9988431FfR39C3U0fh95xrYTmImjsX1FQJc00UXXeRr1qzpA+Ft23766SdLxDRq1KgS6xaJ0ygfyo1rj8qN/jYQoXa9gXgO914Wyo1nViDYrfxSy5k2wj3geNyjbP3lxRdfbP1qNl5++WW/ww472LMzIhCVdv7pXvlqW0LEkYAUQuSNkgQkxsjaa69tWVHJ6hdtO+6448yYjB6IPHAvv/xyO04kIAGDhYyQbC8PAcnDHYOWfffcc89w69ICEnGFiMQoRGyussoqdk1koszVYOXaMRQ32WQTOzZG/Oqrr+5POukkMzjiYEBecsklllkPQyUCw4ff32677SwLILz55puW1ZHjIMgjMIIQqYjd7t272zY+J7Mg2XMxwPr06WPCEmGMOKSMMcaPPfbY4mNx3mSwRUBsu+22JWbL5H6ut956Vla5vvgehuDyDHXu1ltv9WussYbdZ14HH3zwUsZ5PuB4ZOkkY+pbb70Vbi0Z6gL3HqGSFDJVIoRLA/UIgcv9JTvzlClTwk/KDsc+//zz/WGHHebnzZsXbq0cEBJk36S/yCZAIjhfstNSP6655hprg2TmLBShVsjQ92299dbWh7733nvW3sgUzgDO8gQDfmTgzjbggFhFZDL4J0RloTmQQogKg5AdMv8RTkT4adAHWVhfFMpDaE5lQphWdC6Z5hkRaso8G0LNCBEjox8hToSZZQovywS/ReKEjz76qDjrJCF4hIgeddRRlrWTMgJCH5kHRVgwZRdBWDBhvYGAdYH4tRAqQpkCo9PCoOIhgYQ7devWzY7JXBkSavA566gRbkVoYyDMLZSK3ydki98lXIpQTP4myQfXDYQ1BgLWtmeDsiR0i5CyXF+UTdJF/rn2xYsX5/1FCFpZIMSO5DC8AtFk21jzjTBh7ne+4L6SRZLyjsIfS4IyI9SNe8/cqqSQDCjX0NWIBQsW2Pw5zpHwVf6mvpbEH3/8YWV2yy23ZJwbTH1mvvUvv/ySuGw5Fvc4lxflVhJcJ2GfhPsnCaUlTJLweOoLfQBJigiPjOrM8gjllK78sr0y3dtsEFpK2CjQFzLdgPmKlR3CnCvUFciWbIsQWupItmQ7QpQ3EpBCiAqFeTZjx4418cS8MAxIBBnGL/PsKhPmqCBogTmZ6UDwMa+QjH4Y3dEco7KcO4Z0nz59bD4ogpT3zOnBEEIQYAgj3BCviLa4UYTwY2H4//73v5ZIguUCmPtIefI+FeY4Mr8JY5z5MXGYbxkJ6AjmFTG3lTmP/fr1K35xzQgOskumficdiGvm4eT6QiAnNaCpR9wbxHw+X8xtKivcNxY5Z0H+SNQjDtJlUywt3HPqCMfnHifhf//7n83Pos4xAJEUxBF1L1f4HkmjEIwsRcF5khCEOlYSCAvmV1OXstU5jGuEfxIhwvUzB47BmVxeJGYpSUTSl3CdnE+SNkJZ0O8wP5E2zmBOJCiWR0i0xEBJuvLL9iLbKfU4Fxg0YP4jZc0ACstGLY/Cm3OnrtBOMhG178p+XooVGwlIIUSFwoMRgw2jEY9jlLUuiYFV3nzyySfFD26SAGUCwwTRhkcJQwePCAlxko6cI94wXOMGAAYjyR4GDBhgWSoRp3hmSM7Acdmf/xmhzwYZ96J90hlheBsxwDlWNiMlAlHG+ZLyH49IuheitCQwtjGoc33l4qHD28NyFGQhzeeLLIr5APFIQgvEJGBgI97ySa7tCCEEJM5JtyZgJjBiEay5gPgjQRN1lGVzqDckFGEQhkGPkgQZIgFhQKKfSIRngs+TlAVJR/h96k0uryhhSjZyvReUJ55TyoeywaNW0jGIIpg0aVKJ5xJBmyIZVtK+qizQ/1BO6cov24tBFdpyLtDn0UfyP0uiZEtYBLQ9BtBIWFNSPWZgkWQ6ZA3mRb9Mn1ielFS/oRCemWIFJmg4QgiRF0qaAxk8tP15551nyV0Cw7x4Dhhz9apXr+7vu+8+ex88nCt8DiTnRnKamjVr+sBws/lLEfE5kFESHc6dhDIHHHCAzbshecOMGTPss5KYO3euHzx4sH0/HSTTYG4Yv8dcMxJckLQkEJm+Z8+eaedTsQ/lxrGjhC2BsA0/XRrmXDJ/MRCn9p75aHyHxAypMP8wMNytbDKROl8zFe4bSS5I4pPri/l5L7zwQnik7HBvSWhB0ot8vkpKYJIL3CPmk3J/mN9Gso58EYgCay9NmjSx5BlJOPHEE63tMb82F6j3++67b/iuZJjTRRImXtH8LsqV/mCVVVaxPiBT28yV3r1727lx7yoT5qq1bt3a9+3b19pnSdAH9evXz+7Hbbfdlqg8SLpCwrFAOIVbloW+it8nwc4NN9xgbT/JnMzlCeaC088z95s+sCQ+/PBD61tJ4BQ9h9LBvPZu3br5m266yfrJxx57zBK5jR07NtE9zRWS/qy66qpLzXNPhT6O/vrOO+8MtwhR8cgDKYSoMAiDJMQQbxtLDCQZQWVEOeir7G/+TzJXKlcYvccTQ7gVI/OEp6YL/4zDuRMydc4551g6e0baCcnDg1AShCnh7STFfDovIKGbhJMC3lk8nsxBZFSaxbKjENWIwNA0TxnhwIS8cV6cH6PlXFscfo+5Mxwfj1hJcC54fljig5DjVJj/yfqG2eC8A+OuVC/CZFleIgmEr+FJi4fA5uOVdD5hErjvlCMeJrxpSa8tCdxzwh8J30ziXcaLgseHcDiWd8gFzhvvXRLw9hC6Tr3Hk413HShXyoFjEZGQydMbGOq2TAFrGPI/15cJ2i+eLzztlR3CyHXSdmhvSTx+3DPWLcRDjfeR+lwSHTp0sFD3bB4ryp++jTaM1w1PcBSlUFVgrjTlTN8XefizQT9BuRH1ke05xHQL+na83gcffLA75JBDLGqGUNvymLPPFATOh/PLBO2B+8ecWSEqCwlIIUTeINwwEjbphB7r4SF2CAkidAhIwkKyFAysyDDE8CORCw9S5gJG4ULMk2LuHfAATRVHmcgmOjlnRBnr2ZF4gdA6jLI4nFv0W/GQSs6TOZGdO3e2sFAEGyKyJOMMo5KENnfeeWdakUc5fffddxaGRagsgpv1+xDdzEns0aOHJT7hdxCshAWyfhgLxyMGSJTDuRFqlTp/D0OSe4Ahn81IiWjWrJmtWYaxRLkwCMD5UqbcC0QQa9Zlg/MnoQ/rz+X6Yo4lAr0qgEBi6WXuG4IqSvqRL2gvzKGjjiaZU8hABEY3daWke5gKaywS3owYyQaiiCRP1BdCvlPFOEmhOBb1mPUr08GgE/Wf9TOHDRuWNWkT50MIKG2hNHM08wl9AutRkhClpD4BIgFJKHGStgmsecjc1WwiiH4EoU5oJ8lmaI9VDeoyzxXqU7ayiODe0J9mSwRFv88UAvqfaECP/hUBSVsmmVjSZ1BSeAbR30brAaeDfbin+Rx8EiJXJCCFEHkDMRiJQIy8uJcMMFJ5uCMeDzroIBvNZRQYg4bMcgMHDrREI3i1dt55Z/O6kXCDBZPJCEoGV7YBC9+TdCabNwIYrf3666/tbxLSYMxhZDJ3iLlAZBs94ogjbBuGLtlQIw9JBJ4WjBPAUImDkXreeefZIuhcLwukkxAnm8cBbwEeTs6NxcFJlkHZ8Z65lL169bLzw9vCiDpw3STKYXQdbyPlx2/jcSRjI+UTLQ6OsThkyBATB3hTI4Mb8Xn55ZdbmSNCI68F840w8LnOVEMXYxZRjAGFccuxI8OYuZrHHnus3auS4B4jVHJ9YbAlMQgLHUQN2XEpQ4RSpiRNZYV7Qx2JBmgywf2m/TA4g8Gaq5cVjyXHILlTOjCs+Yw5n4MGDbJ6TJ1JJTKEaf8kLGIeWxy8Z2xDGFDvqQ+pi+DHQTjTznfZZZfiRdYrC86VdsvgC2WVDcqL+bAMHnE/knjRUvvXTNDOab8cs7JFdXlAP8czgz4cj2ISkpQd9Yi6l1pvqbP0Z3g9kwwM5ALPl3322Sdrn0cfwv3cYYcdwi1CVDzVgkaUrAcSQogMEJZHMhW8YnglAOOf8EM8T2QWxUCEESNGWKIYDCZCgs444wwL24nCPy+99FITVXhRyMaH8clDnJF2hBWG+ODBg82bQaKbVLEXgSgiy+WECRPSGtOEhxEChKGJKOJYqRkPMUgIVSL0i1HfCM6Fa0K0RWAkIkYxYLlWjADCW3faaadwj6UhZG/8+PFmKCDwKAN+DwOP43fp0sVGyCnHCEQpIYd33XWXeWYxDClDBCxGZyp4ICk/7g8j2lwfgg9BDlFoG8dDwPI44LfbtGlj14YBHEGiDpIFIULZjqF2+umnWxhsVfRo5BNCKrkPCMe+ffvaQEj8vuYTBjpoJ9wjQj4JG42gbpJBl3rBOdEGqUO0Nf4n7JO2wABDSQKGuog4Yt/UZVYwrPF2Rd5NPN7UPwY6aG8RhFxfddVVZjTTHjkHDHIGJPCi4/2OoK7igcQjjxc3E0QT3HzzzRZRgLetsiFBD4Ni9CPpBloo+xNPPNE8WvQB9B1sI0qB6AYGlxAscbiPDBAx4INwwkuWRHACbZ2BKCIc8hmaXRkQCs7zgzqPQKf/ol6SuZn6RwRDKgj02267zcqaQQ2W+sg00MAACM8Z+nraTQTbzzrrLOsDicDIlyinDtD30m4ZXE0H10j/QfQCzzchKgsJSCGEEFUWBhxYg5LwwEgo4VXdeuutwz2WgGHIYEX0WETc4x1DKJXWC4p4wtONd515VIhuxEF5EYXd4Qm/+uqrE3mHSwtCjrVKyaqcKnLyzb333mu/x8ALHkgEJ97WOJQ1Qp0BGfbN5qmsKBjIYjCGMFO8/2UF0U/IOiG9lHnLli1tECipWK5KAjJXGJyIBjwYnGQghcHMTKGgePoYzCR0n7YUQf1iUIB7irDMl4BkgIV6TnRNphBWBioZnLzvvvvsfyEqC4WwCiGEqLLgBcNr+/DDD7v27du7tm3bmhcQsZEK3lU86Yg8jH0SaCAqyzLOilee0MwDDzzQvGflKR4BbzCGLd51vFOI5vICYUTYNd7p8oY5o3jk8aIjmNLN8SRU/YMPPrDw2qQeufIGIUA5jRs3zrxeZYUBAkIXEZCUCaHQUZi7yA4CklBovPIsFUIZpgurjsAziSefOh6H43AfuLf5Cq/Hi0oiN/qobIKU6Bs88UlDdYUoLyQghRBCVFm22WYbd+6551oyHkLR8FwhePAupIK3gfBPwscuvPBCCxEjXAyvZWnAO4fnAoOfuYCE1uUTwjrxcKUKXEQFnikybjLnt7zgdwjbJpswQr08wWuMOEaIIY5JkhOHAQHmSGL0c+2FFFbNfGW82Bj/ZYWQYEQQ953sx4RppnpiRXoQZrRx2j5TLfDgZRNriEtEIu0sDu+Ze0/9z0c9w6vMVAuOxQBXfOpAHObI4p1knn6+vJ5ClBYJSCGEEFWeN954w0JIMdAQVSwMjhchFeZSIfQwLqN5u6WBuVaIRsIMmY+X74yrGJ14URCJqSAymBuLAYy3LtWDki/4HUQ5Rja/U57eTkJSmevbvHlzE1CpS1wQpowRjrevEEJX41A+V1xxhQ1ckCQrH+Adpw7g1UYQxbMt483Kd3KXqgLl8sgjj5igZ3CJLNjRvH36g/hACCG+zOOnbsXBk4yAw/ObDwFJwjTuH8nc0s1lB+bHM7eXNsA8dSEqGwlIIYQQVRo8dCRqYV1JvJF4DzDmMdzisB9zJTEky7LGGvPLMPQwTFmqBWM13yBQWVIFQzZdGB0JcZinRQIljOTyguUmEDEkziFUuCzhvtnA40gW5/r16y8TBkxCIOaiMUBAUqd8hRXmE+bc3nDDDRZ2SlmVFe49mZ9JIsacV9YrBY6NV5i5fumIRH553adCh7ZN8ibCnCkrxHaURIfQdhKMkfgIqEck6aGfoG4DdY3BqD333NOW8yhrXUOMMq+XpWy4n+mSa0Vze6nbJEErbUSEEPlEtVAIIUSVhiy8LJvC3CeSypBpFCOSkMc4eB/JhFgWw5DwNkLMSNBBuCXhq/kWNAhTQmMxPjNl+QU8qYgWRHF5gTHLOSBWEbPl5e3MBmVN6PH++++fMfyvEEAkIFJYHqKsEJJNFlKEItlaIwGJRwxRhKiMYMCExDuUD1lDKSPmkyJGynNwoRBBoJEZnDnRZLJmUCJKAEU7RSy+9dZb9h7IGkxZ4kGmvE4++WTbTtbwfCzkj6DHy0km3njG5DhETHCP+e1M+whR0SgLqxBCiCoN6x0itvBQIXhYSua0006zFP2kzI8WbUdosVQJ8x6zCbNMMC+NbKtkU7zxxhvtOPkSjxiahLGRAZL5mSwrg9etc+fO4R5CLAEPOOvIitxgOSNENf2DECIz8kAKIYSo0hC+uv3225vnJfK+kMkQDySJKZhLBnjPyOTJ3KhcYUF+luvAW0EWVxK5MN8K4ZfLC28RXkzmYnEuM2fOtHBbRC/eJrxIeEgIiSyEdQ5F4YGHOtPahiIzhLcS8p2aoEkIsSzyQAohhKiy4BXs06ePhX8RTgrMY8JTSDghoWiXXnqpJcwgIQ0ZRdk/FxB+hKuy6DsC8PDDD7eQ2dLAfCeO98svv1goIuGOeEVYn5LtQKgoc7NYw66Qso2Kyoc6wmADYdgaYMgN2hntv0uXLuW+3I4QyzsSkEIIIaosrAvIWoyk74+yc/LYY801PHqEmOI1JDkLWQ5ZLoLMornAHDzmADKnqiKoU6eOhcm2atUq3CJEEXi9qY+sBZouIYvIDHMN8f4TrSCEyI4EpBBCiCrLo48+aqGpJM6Ih/UxJ/Liiy92w4YNM08eYpIlIJgDmesi9Kz3yNIAFfU4ZXmOc845R2GKQgghKgUJSCGEEFUSHm+33367zWk65JBDlkpow2fDhw+38FUE2XPPPWeJM0ipn2viG7K3EnpaURC2GmWOFEIIISoaCUghhBBVEpKJkNhmjz32sMQ5qZCkhiym48ePtxBUFvFGUAohhBAiM8rCKoQQokry7bffmjcxmvuYymabbeZatGhhCTPuvvtuW8hbCCGEENmRgBRCCFHlYN4jyUTIZEqG1UwcccQRJiRZFJxFw4UQQgiRHYWwCiGEqFKQoXTWrFk2rxEPJAv6H3roobaMx0orLT1uyhqQ5557ri2bwfIHQgghhMiOBKQQQogqxcMPP2yCELGIQGQ5g+bNm9vaeOkS5LBY/x9//OF23XXXcEvZQLxOnDjRdezYMW9LKfCofvDBB91uu+3m6tWrF24VQgghKh4JSCGEECKP3HPPPZbh9YUXXrBF/8sCGV5Zn27s2LFu0KBB7rbbbrOMskIIIURloTmQQgghRB455phjzAu62mqrhVtKz2uvvWZrU5JRdv78+e7ff/8NPxFCCCEqB3kghRBCiALn/fffdwcffLAbPHiwO/zww8OtQgghRMUjD6QQQghRRhiLXbhwoS0dMmfOHLd48eLwEyGEEKJqIQ+kEEIIUUZ+/fVXy/r66aefuldeecVdfPHFrlWrVvYZovKDDz6wv5Ow9dZbu+233z58V4Q8kEIIIQoFeSCFEEKIMsA4LF7Hn376ybVt29bWoPzf//5X/BnzFydPnpz49dVXX9l3hRBCiEJEHkghhBCiDEQikSQ3r7/+urvzzjvd0KFD3c477xzuUXbkgRRCCFEoyAMphBBClAHWlvzPf/7j1l13XVv/cffdd3ebbbZZ+KmztSiZE8kcyZJev//+e/gtIYQQojCRgBRCCCHywPTp093HH3/sDjroIDdv3jxbt/Gff/5xTz75pNt1111NWJb02m233dzNN98cHlEIIYQoPBTCKoQQQuSB4cOHu1GjRrm+ffu6YcOGuW7durktttgi/LR04L1k7ccpU6a4du3auVtvvdUdccQRbuWVV7aXEEIIUdFIQAohhBB5gAysDzzwgGVkZb5imzZtLLy1LLz55pvuoYcecp988olbsGCBq169uqtXr57bb7/93LHHHhvuJYQQQlQcEpBCCCGEEEIIIRKhOZBCCCGEEEIIIRIhASmEEEIIIYQQIhESkEIIIYQQQgghEiEBKYQQQgghhBAiERKQQgghhBBCCCESIQEphBBCCCGEECIREpBCCCGEEEIIIRIhASmEEEIIIYQQIhESkEIIIYQQQgghEiEBKYQQQgghhBAiERKQQgghhBBCCCESUc0HhH8LIYQQVQIebf/3f//n/v77b/fbb7+5RYsWudVWW81ttNFG4R4Vw7///uvmz5/v1l57bbfqqquGW5fAef30009urbXWcuuss064VQghhChc5IEUQghR5bj77rvdAQcc4Lp06eJGjBjhttpqK3fSSSeFn5Y/CxYscAMGDHDbbbed22yzzVzDhg3dmDFj3D///BPuUQTikfMbP358uEUIIYQobOSBFEIIUaX54osv3Pbbb2+C8rnnngu3rljgCU0Vr4BXtFq1auE7IYRYcfnzzz/Dv5aw0koruVVWWSV8JyIkIIUQQlRpJCCde++999yrr74avltCp06d3AYbbBC+E0KIFZO//vrLDRkyxKY9xCGKpFWrVq569erhFgESkEIIIao0EpDO3XLLLe7aa6+1UN6aNWuGW4tCfbfeeuvwnRBCrJj88ccfrkOHDm7x4sX2noiNb7/91u2+++7u3nvvXarfFJoDKYQQQqwQIKBHjhxp8y2jl8SjEEI4t/rqq7tnnnmmuG98+umn3WmnnRZ+KlKRgBRCCCGEEEIIkQgJSCGEEEIIIYQQiZCAFEIIIYQQQgiRCCXREUIIUaUpjyQ6vXv3djNnzgzfVQxrrLGGO/LII90RRxwRbkkOSXSmTJni+vTp47bccstwa375/fff3dixY21pkIMPPtitvfba4SdCCLF88dtvv7k77rjDMlgric6ySEAKIYSo0uRbQPLYJLnCiBEjijP2rbPOOq5r164m8nLh//7v/yx9PMfBYPnpp5/c//73Pzdnzhw3b948W78xgrXIDjvsMPfAAw/k/DvlLSB//vlnd99999lSIQsWLDABedZZZ0lECiEqHTKsPvroo+6dd96xv+lLGYzbe++9MwpDCcjsSEAKIYSo0pSHB/LTTz+1lO/Tp083QUkGv//+97/u0ksvDfdIDt9HSEaL/bMOGQtaf/PNN+6NN95wjz32mBk+wHXcfPPN7qCDDrL3SSlPATl37lw3dOhQ9+OPP7rjjjvOPJC8r1GjhrviiivcWmutFe4phBAVC33qoEGDrI8lemPRokXu4Ycfdk899ZS74IIL3FFHHWV9VSoSkNnRHEghhBAiR7bddlt3ww03mHCEyChB8CGYcnnhpatVq5Zbf/313UYbbeQ23XRTW16D0fHu3bu7l156yUbPGzZs6L788ktLNR/3TFY2XPuee+5pYb2smcZ5Xnfdda5x48Y22i+EEJXFd999515++WV3xhlnuLp167p69erZQNcWW2zhhgwZYoOBInckIIUQQlRpyiPQplq1aq5169auR48e9p7fmD17tuvbt6+JvHyw0korudVWW83CY9u3b2/e0+OPP95NnTrVXuUN15Sk7LbaaivXqlUrE8CcM2Wz5ppruo4dO5ogTkp53KdcSHq9hUahnXch3EeRmUK4P0nOIek+Je3HoB4CktB/oH/abrvt7IV3EYEpckcCUgiRd6JwPMLweCV5EIgimA8nyg5zCplPSFjl66+/bnWQuYWEs7KNeXrU07LSq1cvC43FKOE33n33XXfttdfa8fMNYuzqq692LVu2dK+99lpezj8TeA4ffPBBe/3yyy/h1vKDOZQXX3yxmzx5cril4nnkkUfc3XffbQbl8tBnRXWac3788cfDrZUHode0NTzzhF9XFieddJJ78803LXRRLIFnC4vjR4NelcXAgQMtomLhwoXhlmVhDvhtt91mwo96lQ76WOahIwyJgsgEQnHzzTdfZj42g3O0oUKK5lie0BxIIao4xPHPnz/fOuuoo4w8G4TN4d1gQnlZoIMn4QdiEcPz119/tc591qxZbsMNN7SEGvyOKDL6KKMffvjBslbyfuWVV7Z5Y8yxGD9+vIXXVK9ePfyGKA3PP/+8hSdRFyNDBZFHXafuN2/e3EKa/vOf/9hnZQGPIx64zz77zN4TgspcyFNOOSXt3JqygvcRA5mEOvxWEnKZA0m9HD16tHlUO3fubGFfQP+BYVcaw5w+Z5NNNikO+Y3z/fffu2uuucZCXvGwpvZHtBFELMIu6sPYxot2ggeUewrc66+++sr24zej9lWnTh3rg6gDmeC6MVq5Z506dXIbbLBB1v0rE66L8iBxEdfH/NuoDCoDyhvxP2zYMEswRShzKpwzAzgIGQY/KFv+5z6tu+66NkDCtbAfbSpqt3zOftQd6lBJ14moPu+88yyp1T777GPHXNHhGU2GZNo1gosIgVR4LtEWaQcR0f2hLUTRBAzO8bzHtojaB/8Tjr/ZZpuV2Gboky+77DILez/mmGMy3s+33nrLzveQQw6x/jqdnfL111+7+++/39o3EQ/p+pd08L1LLrnEbBTmOTZq1Cj8ZAmaA1kCQUMVQlRhgoe6v/LKK/3ee+/NYJG9goewDx7y/pFHHvE//vhjuGfpCIwB/8QTT/jAWPaBQe4Dw8EHHa0PHiL2W+eff74PHkrh3is2wcPYz5071w8aNMi3bt3ayqpZs2b22mOPPfwRRxzh1157bR883MJviOUB7mtgnPkNN9ywuI1xP1966SUfGG7hXvkjMOB8YIj7wFAOt5TMzTff7ANR5ANRGG5JD+352Wef9WeddZZ/4403wq1FBALZ77jjjnZtgVHnjzrqKB8YgP7II4/0DRs29IGBaZ+1a9fOH3300b5Dhw7+8MMP94Fx5nfYYQcfGIThkZYQiAQfiEcfGJT+p59+CrcuTSBO/Lhx4+yY/E6tWrV8IAr8NttsY78VtRf2e/vtt33Tpk2tD6Kfa9KkiZ3DCy+84P/880/bLxuUKX3j8OHDfWBQh1sLD87tzjvvtH43U7kB5fvOO+8U7xOIf+uPP/30Ux+IcttWVqj/n3/+uT/hhBP8qFGjwq3LQt0688wz/aGHHuo33nhju0eBkLH7FQh3HwgL24/7dPHFF1t7WnXVVf0uu+zi99tvP9+tW7dEfSPn8/rrr9t9/+ijj8KthQn17ZNPPvELFiyw8+b17bff+kC05LXveO211/z+++9v9z0T06dP94Gosv0CwegDYWf3p1WrVv6+++4L9/LWh3AvuD+0Re4P+1xxxRWJ2hgEws0fdNBBfvz48eGW9FCfunbtaveR9p2OKVOm+HPPPdc/+eSTVsdKIhDI/p577vF77bWX/U8bSQf35LrrrvPHHntsQfcFlYUEpBArCFOnTjVRh+GFIblo0aLwk7Lx6quv2sNm8ODB9sDDgKPDx9CTgFwaDCQeSJtuuqnv0qWLnzRpkp8zZ4493Lt37+4333xzu0fpDG1R2GCU9OrVy6+++upW72lnGB4YhxiFlU1SAYlhd8455/gbb7xxGWOMbQx2jBgxwo7z22+/WZtHPCAkMTivv/56EysYkpQJxjADJrVr1zYBGodyQRgiAqnzmQzEOC+++KJv0KCBlTEDY4jpOPwu59e8eXPfr18/M5hzNcQ5J8QHRnwh3LtUOCeM5gMOOMC/8sor4db0fPPNNzYYQFlQds8//7z1QdzLjz/+ONyrbFBPEA8nnnhioucK94N7R19Xv359G2hJ5eeff7bro25wPzIZ+ZmgbjIwwbMIIVCoTJgwwfqNW2+91U+cONE/9dRTvnfv3vbKl2iZN2+eDfYw4JCkLcyfP98GhVZZZRW/1VZbpS0/nvO0eQYwXn755VKdK4M0++67r//hhx/CLcvCfWRg+tprr814H+kD7rjjDn/22WdnFcjAeVKfTj75ZBu0yDb4IgGZHc2BFGIFgdCfKHyPsNJ8hNYFfYjr37+/zTUjoQjhZIQu3XTTTRZOIpYmmq9EuA3hjU2bNrVMcGTbZG4bc1MIswuM7vAbYnmB8KZTTz3VtWnTxkK+COl79tln3ciRI619LA8E4svCEJm/Rth5PGQsMKBcYDRaPaVtEwZLGBxtnjmlhBwSTrvjjju69dZbz0KyCSfbeOONXZcuXSzBTmq4LeXC3D3Cx7bZZhsrt5KgzdDH0H+RHINzjiC0dubMmS4Q7Ra+SFgn2XJzDQcPjFrrJ8eMGVOQc5IDAWlhe4QLBoI+3Joe+v2LLrrIphQMGDDADR482Ooma+CxJEw+IIsl80ep/0meK4SUErpIfaDufPDBB3ZNEYQOUvbUC0KvqYu5rntK3eOZRF0IhFm4tfCgrhGiyXkyd5rnA+GiLC+Rr5BJlqsgHDh6RpcEU1sC0WRzBukLZsyYEX5SBMv2EF5KO2SZnv32269U58qSGpwX86wzQR/Trl07SyBGPcPmSIW2utdee1kdZ244IbbpYJ4kdYF9qFPMlaUt0LeJ3JGAFGIFAqMOI43/8wFzK5lXBRgqIjMYSMx7ZF4Z9yB1Xg4GD4Y2CVIQmmL5gnk/tIFzzjnH7brrrraNuT7MCXvxxRezJnkoFEhkQ9IKxFyquMDIZ3uqYMGgo74y/xOxhqhJhbqPWEgVF8zlZLAEQxSjNQkICQzu2rVrW8KWKBstv8H8OtbM3Gmnndzhhx+eeD5UKnyvbdu2Zngz16vQYI7nCy+8YOuQppsXlgpinzlnZ555ps1pPffcc22ZmHwxfPhwGxRjTlsSoraCMGAQAYM+GjRj/h3iEZHCIEBpnyv0sdRFEqiMGzeuYEUC50m5kYyL9QgZROT+JG0PJcEzGvHFICXCNCkkBtthhx1sUOb2228vFm4IfhLxsJ3zJTlNaUEcMt//rrvuypqoi0EjRCLt8e8MCXXoexiMnTRpktWdVBgIQjxirxx44IE2gMKczVdffdXak8gdCUghRM7wMGGUj4QakWHMSB5/8+JhnamjX5FBNGI8YejincJgj4PhSgKKfAl8UbEwur/bbrtZcp7I28aAAQbYRx99tJSXpdCIhOCHH35ogi7VU/HKK6+YdzW1bmLwIx6pywjMdAY/AyckuolD/4AxhyDECE3ifYzAa1O/fn07Bh4bwFOCV4413hB/ZfXe4FVhAAADs9B44oknrB8pyfsYB2MZUU3iJf7OF3iQSHSCUZ5Lv0Vfx/mQPIfBCQYDeHYwAEA9xAOWJCFLNhBhDObQ9j7//PNwa2HCgAjinqQ/ZbnmVBhgQSAhUnNpE0QR4CVmgAIB+vHHH1t7QMQhSrl3CLayQn3EjsiWfZn6iohk/dtMEQFcGwNHJMVJFYT0uwy43HrrrTZgQbTEqFGj3J133mnb8VyK3Fn5yoDwbyFEFQZDjw4UMBDJGhlB5jUMxKFDh5qXgJHKe+65x8KHnnzySTMSyMTIKCDQCfMZnTAPFsQjo36M9PJCHDHahyFAx8/oJ6FmHIswHb7Hb+6xxx72UCLzKL/NSCShMYyYp46WYmySEY3MmhhQGK2ExfGKHriMYvNA4DhkjOPBwd+DBg2yrJzsh2GfOmrP+fM558CxOU/CdjBAOI/4Ax0jhwXjORey2XHuhFxhOGd7QHMMygCDlAcmDzruCdeKERX9BiP5HCs1ay37YmRhJHOOhIy9//77lkWUkOQ47Ev54/1iX1KmM8qPwc3vxb2f7EuZsw8PZ4x9QpBJj074IS/ODYGAp4GHLiFHnAvly/lG9UIUefm5f9Rr7g9lTtugDdEOcg3FyxfcY9ojHu503g3O86WXXrL9EMCpdYp+AQMt1YuIh+6hhx6y+sxalYi7VDFI/aHeUVci+B7tiPpFaF0u3kLaGW2OOkhYG0Y3/RVi4dBDD81LGeMdwdNCe8BTVkj07NnTyvOEE04It6QHQ7979+5W97h3cbhf9Hn0hbl4plJ55513HJlrCWVM533OBHWEfoN+nNBoyptnAvWC0EY8SqlRGrnC9xEHPBMYwEgtg8qGvpdnDuKJwZd4G+A5Q/1DDPFZaSHzKs8bxGCURTUpDOzQRrkvDCjRp3E+iPvUAaHSQl/Ec4V6SD+QCeow0wEYxEJsp4NBbaI96H8ZYIoGweiHzz77bDdt2jQ7f2wdIi14EaZLOGu6bNw8D7E7qJMI5iTe/hUJeSCFWMFhzhDGV+/evW1+DPOKTj/9dFvPjrASxFS/fv0srCiCEUGMKkad6VQxEDE6oxdzYZo0aRLuXQQGAtswyHioYXgAD82GDRvaaCaGBIIsdc4YohHxyygqo7QYomwjDXcUQsv/7MPyCTyUeTjwOaPPCEsE11VXXWXXF4cHU7du3UzU7r///maU4cUgPT7hRPGRUR6khIFxPB6iRx99tG3DoGNtK64tGxjLpJdH9JJGHDHG8TDAMYgB4zfVEOMBxrUx0s9SBywxgKcLIceyBzwYIziHm2++2bxePOTZl3PlPFln7/zzz7cHLSFIiAUMTO4Z58J5IFD5n/LgYYywwLtDOBkCmPlvPOjxVDFPh3PQCO7SYIwwv4b6RNugrBHylG0hzqkD7i1tnoELxEkq1DvacCq0VTxI1FnCItMZ/RhptPE41CnaAO2+NEv8IDIwFKl7hPwxGIU3I18CnetgPmc2z0hlgLCg79xll13CLZlh0IiBoCg8NIIBswkTJrjrr7/e5t6VBUQ8hnppxBnCFcOcssazRT0iPJnw6bKKR6DtIVAY9ChEDySDHwzcIXDic3mB/pqwVrx/pYW+G4HOYFBp2gVCjWcHA4UISc6T52O+xCNwnxs0aGDLEmUDQci+2fajD2Iwlmd+9DwF+hgGfBnYZlA1evGMY0A7n9ezIiEBKcQKDsYiogzjEDHFA40EL3379rWRZYwzHnQIMh5qwMgxxhVzJKIHPQZc/JUqgvDM0JGnzr1BgGIIMuKczjOCJw2BxgjiQQcdZHMzmCuIgGIEnfPlvHjAMP+Ma2Bkl4cFwogHBGIKg5P1nJgjERc8CE6MF/5v0aKFnTuGPw8VxCz7E5JLiB8BG/xNmCleD4551lln2YMaIcVIdzbwnOClufHGG21uDl49RkMRsBwzXZgjD0IEHWIO44oywIPMgxzDm2tC7ALnRggYnlHEOnNUKCeui3X2uMc8OBks4L5xDxmZxsDHmOeFQceaV9x3vsd+lD1C/8QTTzQPE6KU+VecP97d6dOn2+9nAwMEEcF9Ks0LsY6QXh7AcGUQgoGUyLCmXrLAeqEJkghELuG2DG6k86SnCzGlrnJPiELAW5HNEEv9PsKTdkqbL83IPt4U5jHxXaIFSKKRb+8u14T3OG6MVjaE39HO04n8VIh2QHCmzk2k3dJm6dPKGs5K2SME0w0ulATPhJ133tmiVKgPnAuRLqnh02WBfotz4xlRaIM3iHe8gzz74veBdkXoKW0rV69hHO4zcxZLmzSPfowBTu4Tz0yeE0nqXa5wzxnkoD/IBDYCbZ0B70wQdss54mWk3kcgKnlep3vxDMwWOSQyIwEpxAoOnSeeMUYbeXATIsL8H7x8dOx0ssADuCQPWxIiwZkKD6t0RioLn/NgQKzyUMCYi94zaovAQ/hEnju8PxwLIcQcIa6DhwTihQcz+0YCku8yCokY4niR4YK4w/hHMCEoKSMMf8JzKQ+ugfPAkMN44rs8tPAEZjM2OS9EHwIM4cvDGcOBssXDSygNYYRxGEHGo8o5EX4YhYtiFBE2htcFUQoYHIy0YpRznlFIFOeLMYygpgwQfYSwcQxEPQ9n9uE7/AYCmnJHhCKiEepsA66Pcud4vHig443MlPkugmtDCOMRKc0LD29qWGUhQ11C7OOxjUIEMZIZKMiWMKKyQEDSvjlX6mkSMPgQIlF9yMW4pA0iYEojPAAxgBeTYzCAE4+QKAnaAAMaDExx3ZmgL+H49BmFAv0MZArji+C8ibagX2TAKQ6hzIh+BD99fzoY8KDNETaYDc6H/iNpnYnDfSAsEpHD+SKacvEU0vdcfvnlFrnC99NBf0mfy+/EBw4rG86Xvp2+gAGyeDugXBD/PBtSPfe0OaJRGEAkmoRnF/1juuvn2NxHBoVymZ8ah8Fjng08e3k2ZRN5cTgfBDLJm4hsyAbPaNrzd999F25ZFu4jz7Wo/qcDgUmZIZxTPboi/0hACiGMyACgo45EHtt4z+glhhaGWkXCqCShqRiKzG8irTsvRtTxsiFwIf6wiEQo5x39zf+IQB4wXAMhXBDN78R7ETeAeNji3SBMFo8bn+Ep5IF83XXXFZ8HL7x8iDGMZ8oIQ6UkOA88Uwg5DF+EGg/cyAMYhffyUMVI4vo5fnyODOCRxOPIOWJ08HAlzIiHaKrY4hoQcVwb5YUojOAzjs1ILcKH+0958T9lxHkQDhy/bry9zLFCgHLNJQlIRoYR2vFj5PJi7mpUL4FzYo4QIjrfL0Kd8yEaKGu8t3jNueeA0di5c+eMBm9lwfkwOJDLaDz70z4Z0GGAIxcPIPWFOlsabxNtmPA+vFe0F9oz4cFJjUZ+lwEcRFQ2MOppG6kh9ZngmqL5zbm8qGtJ+1baHJRU1tQzvKf0banige0Y99yzKNlTBP0h/Q+RFfR1JYkuzqc0nt9IYDA4xnSIKFyY/ivqn0uCfemXs50j9Ys6zb2Je6UywW8jQPDGp7tXmV7cd8qCupUEBmv4DfpPBgPiz59IQNJnEkESwfOFsGPuLfeGuerDhg0rnrKQCgOctAme3/G+MykMsBK5wpQTzolrjD83ssG5MrhEVE5J7ZLnFccvaWCN9si9yQb3mvucbWBI5AcJSCFEwcJoNA90BFK6hzYvRtlzyUYYh2yoHD+JEUvoGA9CDNV058GLB3mqQRaBwZRqwCBsCRNFRBKiyYMeQ4f5hjxQ+T1+l/1KMgC4jmiuE99N9wDFUMEo4VwQpUnAyOP3mcOX7pp5sc5cuvDjVPjd0r5SweAmvJkkSfl+kdkzX+GylDeeLjwJ0YAG4dUYvoUEZUy9yQUMd7xG1Ktc1xTkt3L9PcAoxjOGVwUhzjxc2i/1mTUlk8D+zImm3SVp++nqXzqYY9y8eXPrj3J5MYDEYFUSkoorhD1lRf8Sh3bDQBOeJDyQqeKP+fB4HTmnJCQ9nziUJ2IEARRNA+A86fvwcmXzMsVhfh7zPBmgiQuwdGTqR1IhmgJBS1htunuV6UV5kTuAaQhJoF9HQOJ9TE3gwoAFA4e0qSh6AfC00ueRAC9KSIVgYr1T2kQ0xSSC9pW07sbhnjI/HrE6fPhwuzdEp3B8xCSDdyXBgBmDqwxGUD4lkfT+5GsfUXYkIIUQBQuCi4cBI66ZRuh52PFZaR4aPAj5HkZDJhBiPIg5F/5HUGWC42Ua+WRkn/BSjLpUCCPDAMCjgsgg5IewLn6PY/JdvAaZyiB6oEeeBjxDfD8dUcKSJIIPopAlQpkygdAtyZDEKEJs4GUozYtyj18/hi8GDkIv3y+EeGrYX1nA20zyJDx1CBaWmcBALSSod3ihk47cc7/xnGEEY8zmKiCpq5RFLiISwYrHhXpAeDl1GcOdF22EcPSSvB25ENXppB42MlMjZNPVqWwv6hsiKgl4ayBTXxCB2KAsGHyLgweH/i6aj57afxIWSV+EZzcJnE9J55IK9YZ54AgTsuYioPCUEgrLXHvaei71IhtcF8eivkVRANkgORGDO+nuU0kvBiVICJMERDIiEgEZF4lAgiPOlzLh/Clf7hNJhqjn9N3RYBTgvSUKJHXJGQYkuWa+m/T5SPvn+UNSNeb8U09op0zpoBzxKiIu8wnnF/U/2WC/ktoi+8Sjj0T5oRIWQlQKqQZC9KCPg2cDzxueSEREKuzPiC/iJsmoaCo8HDk+4WzpBBfb+G1EFMkMeBjjiUs3z5F9CKnKFPrIg5kMcsyjTL1O4FoxhHlYc048CDEiEJd8F+MBwy/VEEDYYjjwwCTMFYOOkWJEd+q+GCIY4fxGtNh9SeBR5Thcd7r5LxguXFdJ4Ud4ii+88ELLbFua14ABA4rD95Y3uN/MEcRAYn4xXs7SJLUoT6g/CLKkZYw4oU1SV3Od/wgYgtSrVK98JqhnhFMjgJhDHM3dw/NEEiqg/WXL0kibQpzQZ7BvSWI5mptH2ywUoqQqmQaIgEEq+gtC/kjQEofv8Rl9Hx5IPIH0caUV3oi/VM9XNvg92jLTEFhEPoL+iP6PeXCIyEz1kPtBHSB5DwnEEG7p+tMIngvUHdpeaefb5hv6YQZe6ItpN6nnRcI0+gfKg3On36d/5Vrx0tJ/x4lEfOr8UY6Lh5LvJhH5tAfm8eOBZq42Ypj2Rd/AHHimICB6yQyb7XnLPURocn+y1dMI9qcfYYAtE9xj7nuqtzYO+/Bspm+JBlNF+SEBKcQKBAYUnWw6wylVbMTJ9BnHy/a9dPBA4zsYHZHRwv88HHlYcn7RMZmjwwOWbcxL4+HGAxQwPHnPqC8Pqeihmul80m1nGRIMCzxjeA8IaeVBywtDhxC3yDuJx4gHNcYNYV4kouCYvPCuEZYYrbWYDh6QPNARD4QnpZ4P9wSjie14InlQYkQwukxyIEKByLbKdykvyp5zGD16tIWrcXzEHuFNlC3bUkUdRhe/ERlrSaCMgOsjCQ7H5hy5J3hFKX+MBc4nGyRnIvwJIVqaF/dneUqiE0FZIVaov9RlwpxTPQ6FAO2H+kNbSmJsRgKSebN4UZJ4d+LwPTwFGNHUpWxgOEZr4hFeGM19jiBZEefAvDLmBGc6fzwrfI4QJdyQNp4N2hdttpAEJHWIe5Vtji4DarTTaAAugnLhM+Z+4u3Dc8wyHIiC0kIfTd9dkgClHdD/MFePcG48yHG4p3jcEBHca84ptY8E+i8Se9EnkOgLr3O6ga0InheICtpcUk9yeUMbQ+xxPpFHOYI6x4Ag9Y6+H4827+lfGRigTFK9azxT+Ty1vyfMm3ZGuyjp/vA5XmvKFa8wz4i4UMXryZJReEAZpEkVqxGUNfeEe0i27yTJrbhGjp+tX6QP4JlPfcsE9YDfZ3Cp0AboqiISkEKsIPDg5WGKEUFnHB9BxIDjM/6Pi0seVmxnW/SKw3Gih3wk7IDfiB5Y/E5cXJAUgAcgoo0ECoxmIoJ4KHEsxBiGBsfmwUjoH54R5n4w3wkhwRw15s+wzAgj8oQIYihFD1mInyvbo+uInw/eIB6WjLIStkViDgx8foMlFzBiEHM85AkFY3/Oncx/CALWzUQQEo6FwOKBn7pMSURkoBP+wxIphElxrZwT/7OUCMYc+3AeXA/nhQcBjwswH4X5dFw7mfhIcIAxxWgxYDDwN0tIUF54O3ngAwYl5cb5YXhFxhT3nDKJ7lmq0UaWV+Z1Ie65btYEJbyJayeENJrjUpIo4voxEhCBpXlRF0qa51SI4PGiLlH/SNDDKH4hwog99Zd+Ils2xAgEDG2Ye5pr+CogbrivGMxRHU2FOsmACW3smWeesUGcdOVH3SBBFG2fep8uJJ1jEWnAvCyMY+bu0u6ywb2j/cdFWGVDO8N7SB+ZCTw/iAleUdnS51EuJDXheugrMMgRM/xdWoOb/hzDPZMYpz+hL8erRkZO+s+TTz55mbbMORE+ikBG4DJQlxruz7Hokwn5JYEYdZa/s4kjBAXnh5c8VXhVFtR56hbXR78aPau4FjKq0lfQNqLrY3AGIUhfTbmlll10Xal9N308zxPac2pZRnBMBgAQjjzHKCfaGYM7cagfCHzmdFP3eO7EbYgI7hv3knVwqXtEwpQExyupnUVe8nhSoVQY0KSu0R+lenVF/ln5SoKchRBVFkacmVOB9wivVCQSedhgVPA32dYQcYxUYugjynjhWWI74o6HFkKOsCceLhiPPOwIh+KYGDY8ZDDmMFJIaIFHj4cfRiaGAZ8z6s0DlAcLDxv24VwYgebBiVjjYbLNNtuYdxCDkQcphi2/xbERYTx4EXQsYcG5ckzEKOn5edBwHvwWx+O6MR4JXeM6eBhzfK4H8YlxybXjUaGsOCeEGyOueDb4DufCdzhHHsiMCmMU8fDjt0jowJyeTKEzXCPniEgEvFJ8l9BOxCcGMp5GEuhwTZFRwO9Gxg8Peq6FhzffpUyZsxStv8cDGMOc/aMwIgxlDEeuDYMSgYmxzT0jjIr7xO9z/dwf7i3lg/HBdfMg5oGMpwjRwD1D/FKv+C2MQTwK8dFqUQQeMwYjKH8SXeAdzlQ/yhvaDPWPZVpoj6lQv2g3DDogsKI6FcH9pw/h/tNG8OIRARDNsaI+cJ20qWyhaBHUM9oA54Q3PH5O1E36HbzbtGf+xzCkfVDn48YhAgivFu0IEYNRSz3lRZ3EG0E95hy5RkQKAzR8RttJNZQjuF4MagaY9t5773Br5cO10Pbpf2l7qUY3/QwZqrk3lBVGPGVM34mnB0FB26Y/pc0jHhs3bryMwc31I9zp07IZ7dxv9qMPoGzj0N9yH/FCET3BPeI5Qf8UXyeYPpV+kX0Rv4gdzpV7S52KBh25NuoG9QthRZ/ZunVrW2opnfjg2UY50feRpIzyKAQ4J8JEEWP0uQzuMVCCcOba6G/pt2lb3DsS2PAsY3CEe0+djJcf95FBPe5VfM4rdYVnBm2Wdh+1BaA9cH9Y8xevfPQs51nGfaReRPtS5uzDfeT3EeXcG45NPSFahu8BIo7f4hq5nzxvsg2aUQ8ZWGM/+p1M4NGkTrNecyZxyGAm18r8XZ7b0TO0tNCX8LzlOjlmrlEWVZ1qQYNcNkZACFFlYMQWsYZBxYMaMJ54UCGSeFAgJNiHzzGo6PB5iPAdjDyMN77DQ4zkIggMDEYeODxA6EYQcXgwCI2io+cBiCHAA5IHN0ZAFK6DoYdo5UHEefBbPEx5gPIgQqjxG9EDgJFyOnLOk795gLAPDwm+BzxEOVd+l4cjRhJzODCE2caDj3PlIcAIPnNwou9GIZ88rIEHLSIWYyt6iEZQJoTC8R3AIEKE8jvZRBQPYQQFDznKnAcwI+MY7fwG14vnkFc6o5Df4/owrDCMKG/KNG4URPDgo6y4ZgxIRAvlyrHxQFKunA/Xy73CGOM3uD9cM+XGfYkflxFgjDvqAt9HPEZlVNYHdb5gIACjkntJ3aKcuAZCqTjfONR1UtIjhqP9qDcIGQyasgo96iOGNYYXhn6U9KWyQMhSLnifMxnS3GOWHWG+ExlF41BXEY4M3FC/qD9RPaLu0G/QLukf4sZtJvgOogIjk/KOJxXiMwZnaC8cH/if4yI2aT8RDIrgPaGv4XxoO3yffoflX+iT4vUYQx1PCr+JqM8E9YIwV84vdS2+yoYBJNYBZMCMNhiH9kldo5/gXtO/RAY3bZV+k/6Q/pt7Rp9Auaa2Yb6PsLz66qttvdpMcF8QcbQvIiTiMBBHf0edidoXcK/jYpP6xLOE/oW2SD/KvvTV9FvHHHPMUufHPWceJftzftzndLAf9R5vH9Eq8XpTWdDvMAWif//+ti4vdYv6yvXR51LmPKcYoGTwkHNmG/Wa6BiygBN9gqiMIPSUe8DneP7icJ+7dOlifRCRLLQL4L5RDxDulH90fyhz2j/PyKjdsC/tIfImcq6cM/vy3OP8omc70A/zezyzaD882zLBQBQJeuib+M108PtcF30yS19F1xCHfbjX2BW0bZ7JZYVnCInvqGcI7Ugki5CgEgghhBDLPYHx6adPn+7HjRvnO3To4AMx6ANjxwfGZrjHEgKjyX/44Yc+EDE+MEB9ixYtfCD47LuBARTuVToCw8PfeeedPjCS/eWXX+6/++678JPKIzAufWBA+tmzZ4dbliUw9H2/fv2s7ALjL9xafgRizh9++OH+7rvv9osWLQq3li+XXHKJr1Onjg/EqQ9Ei584cWL4ydL06NHDB8LF7mWhEQgMq6+BQAy3LGHy5Ml+11139YFR7n/66adwa+58/fXXfsMNN/SDBw8Ot2Rm7NixPhCm/ssvvwy3lC+B2PCBYPJXXXWVD0SQf/HFF9NeayB4rH4FosMHAiPcWrl8++23PhDkvlmzZj4Qb+HWZDz77LM+EN8+EF0+EHvhVu8D4e433XRTH4jFcMsS6OeoyyeeeGKFtGmgXW+++eY+EO3W3zzzzDNLnW8E9+Soo47ygTjMen9mzJjhd999d+ub0x0HvvnmG3/KKaf4vn37Wj+WD2hn1113nT/22GP9H3/8EW4VEYUxbCyEEEKUEUbpGXkmqQoeaOa7MWrNfM3UeXaMnuOdIrQNbwiZPBnlJrw3mye5JBjNZy07fhNPS2DU2Hym5QE8VYTB4XkgIVR5gzeckDtC5CPvf3mD15n6wbXiHU6X1RHPPR4RvCiF6HWgbuMVxANJ9EAczh3PD2GdeLBKC14kCOxE+z8bhCwSDUKIc0XANeNxxntHaHYUZREHzyveKLxq0Tz3QoB5t4Tl4m1LTQZVEtxTvK14J4lwAMoBzy9e2nTHo5/D84g3mLqBp668IWQYTzJeUcJkqY/pyh/vNNE8ZNnOdn8InaWv5tpTPeUReGHx7jJfP+4NFeWHBKQQQogqBQYmAoF5NYSkEjJNqFQ6mCuK4UUoX6b5cEnBOMMgIkkSoYIkgCI8MN/GK0YxhighevkE4wwBTngcIjhVnOQbjFsMX4xgQumiEPvy5Mgjj7T6cO2116ad64nhi0GO+CccN93cusqG+4TQ514R0hiJPP5HJCCeMLhLU5+Zc0pIIQMf3A8GQjp37uwefPBBmz6QDqYCkOCM+bNMQyhvEF8MPiBYmZ+GsEBUx2GKAHNnCfVlWkWhwHkRKk4YOdMQcoFQ0O7du1vfRjI1XoSnEpLN3MBMA1/UkyOOOMJC6qkb5Q1Cl2sjVJdrJeFRah/IAAVhvNQ1+t5MMMWC+ZTkI8iUqI1pJfQftGemdRTKYEGVBzekEEIIUVUg1Ommm26ysLZzzz3XBwaF33vvvdOGPz311FMWQpmP8C7C6fbbbz/7rbfffjtjuFVZ+eSTT+ycCcFMSpIQ1gjCOwPj1EL/AhERbi0fCF176623fCDsLPw4WyhbPiBUNhDeFppKeF8qjz/+uD/99NP9Rx99VDBhj+ng3Lj/gWHtJ0yYYNuow4QfE+YYCDnbliuUDyGA8+fPt/bz888/23u2ZyuP33//3ULACc9cuHBhuLV8IFSd34jOK7WdEYIeCCp/2WWXpb3HlQXnOmTIEB8IYAudLw3cA8IpCa+kDlOXOW5JcH8CMW1turzhfkRtLFPoJ3Xl5JNPtv0ywWfdunXzd9xxh11vOrj2e++91/YjjDWfKIQ1O/JACiGEqFKQbIgEUXglzjnnHNtG2BgZ+lLBY4KHIluihyQExqy75JJLLAsh3gC8V5nCrcoCyWxIMENIWmmWz0gCXlMSsZBkg5DPwGgNP8k/eAvwWJC8h+QXZGUsT0jAQTIjvDh4QOMQUkeyEEKZ8YoUsieDcyNsFA8OnjY8j3gCWSeTJYbIdFoaKB+Og+eepC60C96zPVt5EC4biFfzDJLMBE9ueYFXmLYdnVdqOyPhCR56FhlIvceVCeeClwzPIevilgbuAWHVhGlSh6nL6ZLKpML9IQENy0WRdbs84X5EbSxdCDiZ1Ak5ZRmqTInF8JRyH+mbqVfpwlKJxCCzL+2W7OWF5GleEZCAFEIIUWXAcGU+HRmDCeFj4WnmQCG8WN4AoyNi0aJFFqaHoVOWeY8ch/UxMWaYz8M8ynzjvTdxRdgeKfcxRMuaKTYblBtZShGTqfNHy4MDDjjAsuWWd9hsNjDOyYxJ+Gohi8cIhBRLjHCfqIPUd5YTYrmYypi7idhE0B544IHFc/QqA8qB0NtCEo/A/WLeJqH16ebeljeIsLFjx+Y99D1XEJiE+ZMVOBOE+rJMF/UpU+gqdZ5rQpAzZUBULBKQQgghqgx4zUh9Hx+xZr0/QODhiYxgXzwZmQyUJCBAmeszdOhQEx/MHcsneP8QjqzpyZIFJPvh+ljOorxBPDK/DE9PRYBxzRIylQWinCWMlgfxGIExjieacy8E8FwyD40BnMoCD3J5eP+rAgwsHHfcceG7yoHBopLmf+JNpO+hPmWCgT+iF1jKSlQ8amFCCCGqDKzzh/EaNzzIzIdRGyXWiLyQJHgghCrXZBYRZFwlQyAL07dv397EHYIPL2guLxJKELKFlxSxSGIQQlRZf4xwLxK+sJA167zhKeVaEHdCCCFEZVCNiZDh30IIIcRyC4+zgQMHWjgTYaRRiCfbhw0bZuFQjFiTZZMsiHfeead581juI9dsm4hQsk6ynAIhnpdffrnNGSsNiE5EJNlImUuJ0CWUEw8pi6AjVCPIqEh4HqI4F5iXxtIULC7PtQshhMjMb7/95u644w4byGM+ZiEu6VOZSEAKIYSoEixYsMCEEmsLshRFHAQZ65KRXIM5M4RxjRw50sL/mLOVKyRbYekCEvaUZ5KZOMzpIh3/fffdt8yyBSUhASmEEMmRgMyOBKQQQogqwQcffGDrF7JQPBkq45Bw4aabbrJMn4SDsn4aHj7W00vdNwnMexw/fvxS3sHyBtHIueMxzRUJSCGESI4EZHYkIIUQQlQJyDD4888/m5cuNTEOXkIWpWauIqGtJKHh1alTp4yp5LOBR5M5ixX5CGX+I9kb06W0LwkJSCGESI4EZHYkIIUQQiz38ChjbiBLCbBuWLplOZhbyNpwQ4YMsSQ0l1122QqTsVECUgghkiMBmR1lYRVCCLHcw7pzhKmSFCfTmo5kZmUBb9K/s7A26d9XpHT/33//vYnIiRMnFr/wogohxIoOidEmTZpU3Dfy95w5c8JPRSoSkEIIIZZryIL6/+2dB5QUVdqGL4YVFlR0XXdYI4gBFBGMIAYwYwQEFQwrmEgGwICAAdE1gBHWABjwJwiCqy6gqGAEIxhWMCCYGRUFhRVUtP567tQdaorq7uqZ7pkG3uecOgzV1dVVN37pfvfJJ5+06x/ZlzFVUhsUS/b5Y93j9ttvb+rVqxd8sn7APpgXXnihTSDkjs8++yz4VAgh1l8wQP7jH/8oHRvZ03fs2LHBpyKKQliFEEKslSxdutQMGzbMhhkx+bMVBplKmzdvbhPm7LzzzsGVq+GacePGmffff99uzO+2+ljXQbGO8zbilc12CxMhhFjXQB1iH96oWrTJJpvYBGbVqlULzgiQAimEEELkADed5kPQwKu6PoXbCiGEKFw0GwkhhBAVBA8o3tD+/fubVatWBWcrBkojnkO8pfvss4/55Zdfgk+EEEKIqkMKpBBCCFFBCI39+OOPbThoLjyQKI5z5841EyZMMB06dDCLFi2q1D0nhRBCiFTkTIEsHtvOTpppj52bm8M69DBDHptnlgbfE+Wl2IzpsLpsr381OC2EEKLS2WyzzexWGayrzMWaQtbiPPPMM9azyX6VQgghRKFQuR7I+bPM9AnDTJ+2DU3TzpPMwuC0EEIIIVZTp04dc8kll5jzzjvPbLPNNsFZIYQQouqpshDWhQ90N0OelB9SCCHE2gthpXgKn3rqKXsozFQIIcS6Ts6ysBLCWqfjpJL/DJxpvAHNSv4OsfTtMab/2Z3MsLeDE2dMNItGtTVFwX+FEEKItYnHHnvMFBcX28Q5bA8yYsQI06BBA7N48WIzY8YMuy4yKY0aNTKHHHKIDYcNc9VVV5nhw4ebjz76yGy66abBWSGEEKJqqFQPZO29OprevdoG//N5eJ7CWIUQQqyVkOhm2rRp5uSTT7b7hH377bc2cypstNFGZosttjBFRUWJD+3JKIQQYm2g8kNYV4bCVveqbqoHf4YpnjHM9DihoaljE8TUMQ1bnWOuHzvLFKfMjL7SzHvsenNOs3qlyXrOuW6Smbd0YepEM1+OMe2C89U6jDHz3h5mOjWqY/9fp9FhZsjLK4MLfZbOM5OuO8c03zm43r9/u27DzJT5KUJwVxWb6Xf1MO1auXco+c5hna83k/6bKmx3ack7HNnc1HPfqdPQJh0aNqM4uCZMmiQ6r15fer7dWP+7keev0+hY0+Ou6anLc/EsM6zbsaZhHa73y/+E4BlC96XM4p5KCCHWF1ASzz33XKsojhkzxjRu3NjUq1fPfoYyePjhh5vOnTsnPg466CCriAohhBAFDSGsuWDRmLaEwpYcA2cGZ0P8tsJbNGeE17EouMY/ivo+560IPi5hgTe5Z7PV94kcRS0HeTOXBZeWssKbOTDFd+q38lrttfr/g2YFX4EvRntt3XV7NfOalT5XkdfgjNH+k5SwYs5gr3Xomcsedb0u492VActmeoMOiLvWHf53Ji0KLnYs8EafURRzrTuKvFY3z46U1SJvdPvV15R5t1mDSs+3HTCoTJmHj6IzJvp3ibBwdIrr/WdoGSrn9qPX/K4QQqyHvPLKK97WW2/tjRs3LjhTwq+//uotX77cW7ZsWcaD63777bfgm2UZMGCAV1RU5P3000/BGSGEEKLqyI8H8qrmqz1V7ti4hqnT5BwzptRt1doM6tyqjAdy4fAe5ti7Ztm/m/WcaBas8HwFd4mZe19Hu06yeEZ/03bgdBPyDZqlT/Yxba8q+Y4p6mhGzFmCUmy872aawQ3mmuluvWU63p5lZu04yMxcwu8tMnNHdTR1Ob98uul/TB8zhWcuam0GzwruvWiy6Wezqi80Izv0MCPn83cJCycMMv2tN7DIdB+/yPhKn/3OkumDTMmqUP873Yaa6aGXWDljpOn9cEnBtL51plnyW8l3Vnw82vjKnE+xmX5ZfzM69DtJmXRdfzP9iBFm9nfR5/Dv+vAgM7pM+cwxQ07rVFpHzfpONotsHawwCya1MytmBOUshBCilLvvvtuGoLZq1cq8/PLL5rnnnjMLFiwwl112mTn44IPtusZMB9cNGjTIfPPNN8FdhRBCiALFVypyQhkPZKajfltv6BtLgm86ZnqDSj1f3b3JZTyNS7yJZ7vPWnsjPg5OR7xwXSZF7vnxCK918BlHSg+kf/SeVta/B+F3avWvucHZgDmDvSbBZ2FP6syB7p5FXsdRc70VpQblFd5zl7rPjNf9idXPGv6dZgOf85aEHmXBfa1KP2ty6+zgLCTzQBrTxZv4XXDessAb3Wb19zqOD/kR/e/5+mrJZ3sN9sK/Zp+/b8hLKg+kEEJYttlmG69v377ewoULrbdw0aJF3qpVq6zH8Pvvv0984IX8/fffg7uuxldErQdy6dKlwRkhhBCi6qjcNZC7dTcj3lhgVsybaLrvUzs4GfD2TDPReSfbNzdNawV/W2qbJs1aBX9PMXPmuXWEC83cCcGfpqNp3Sxyz/qtTKc2wd9paWuaNoiuxlxqZr8UZJX1adWkQfBXwG5NjHui4qlzzLzg7+q1fLXSUmzGnNnQ1Ni4nmneoYfp/8AUs0W3FdYLyDH0+NXPWr1WneAvY2ZddZjZokbJus8+d40xCw+aWOrFnH2Ju3cWHNHMNNkq+NtS19QN3WZlaB3kwo9nl65rLOrQypT9teqmVesuwd9CCCEc7Nf44osvmhtvvNEce+yx1htJMhwypm655ZaJD9Y/brBBybS8ZMkSc/7555tDDz3U3HPPPWbFihWmRYsWplOnTubpp5+21wghhBBVQX4USLbxsErPCrNo+iDT2u3T8cEw03/gJDMvHIPqWLnSzAn+NBM6rU4+Exz1zpsefGjMzPlB7tYvF5YqbsY0NHXW2A+kjimqH/yZlrqmqIySBSvN0sXBnz79m5V9nmo1DjNDgs/M2wvNokCnbXLuMDPIhrc6FppZE4aZ6zu3M03r1jDVdj7W9Bk7r0wYbu3je5vRZ4QfvtjMmzHSDLmwkzmswRamRp2GptMts3yVthzUrmFqBH9movjT1Qpz8x1XK7WlFNUtVZqFEEKU0Lt3bxu6iqK3//77B2crBol57r33XvP888+bH3/80SxdutS89957ZvTo0eaoo44KrhJCCCEqnzx7IKubopb9zMQJ/Uq9WcVP9jGtu42p0PYdc5bHaaAVwVfS4tLBJmaRWbo8+LNWM9PvpUXmuTu7m9Z7rKHRGjN/ihnSsaFpdVupuuxT13QcNc/MnTTIdDnArr4sS/E8M+ay5qZBtynlUyKFEEIIIYQQIgdUSghr9Rb9zbCBLnWLrw893Mn0GB5RITci7UxA+9FmURC2GXsMCO61VVFJshvLbLPwy+DPUhaZ4nIknnFUDymVg2bFPEfpMdF03Da4EDYqMq16DjWT31tkVixZYGZPGW2GXtrFNAt5Q2fdPGW1x9VS2zRo08+MmLXAeMsWmbmzJpoRA8oqocV3jzbTXYxpHigqWu1fnOS8vGGKF5rVfmAhhBBCCCHE+kYlrYGsbppdMqRMaOeU8/qYMZ8G/4E9mpkuTleaMNPMdh49yxwzpIkLHz12ddbT6g1N0/bB32aSmf5GxD83f7oZ/Vjwd9YUmSYtWwd/GzN9zupgWVj62Dml4ax1rgwyw66cbvrbvRM52pkxvkJbvXZd0+SYjqb7zSPMzGdGm7b22z6+IljiR11oRrZ236lTsp9jrSLT4IC2pstAlNBJpp+9DlaWWbOYa+o2arVaiZ80M6LgrjTTnxgZ/C2EEEIIIYRYH6kkBdKnVjPT+7bVW0ig8PW+ORSSWb2VaXeZ+3SY6XHhSFOSK2elWfjwYDM42G6iqGt3067Uk1dk2p7bu1TpGdmtuxkZbNS/8ssppv8Z55gp9n/lo+7x3U334ObTB/Yw/acG7r/F082wm50y1cz06RBsR+K/Q5eBTun03+/KkWaOW0e5aqmZ88xkMzP4b1HfZkFYb13T6RL3DsWm/yX9zZQvXYjuSlM8dfJqr98xrU2zsKcz1xzQ0Qw6Jvj77T6m+5VTTDEKK88+vIvpdEse3Z9CCCGEEEKIwsfLEWW28Rg4MzgbJbrpf1Fk+4wMG+ofMMibWWZ7D4jec/VR1LKL1/GI1f9PvY2Hf9/gdJQVswZ5vlpbeo+yR5HXccyC4ErHAm9yz/jnKT3WeI8V3uxbW6/eQiPuKOrojV4YXG5JuI1HzHYbq7caMV7bMZFPF472OpZupxI+6npdzg7VsbbxEEIIIYQQYr2j8jyQlmgoa7EZctkgM6s0XLUkmcyCKUNN9/bNStc3Fu3R2nS/8zmz6KV+plmZ7T3Av+eAKWUS0Ljr50wbZI6N7OyRLdUP6GdmLpppRg/sYlqVrkesa5qdPchMfG+eGX1aNOlNXdP6zplm0fQRpvfZrUwD9xW+c0QXM2iM/9ka71HdNLlkspn33kQzuGvb0FrJItOgZVv/XSabBfNGm447BqfzyY4dzeg5z5mhXVsHz+7edbYZcV5Te4kQQgghhBBi/aQaWmTw9zpIsRnToY7pFOwVSSKcfmW22BBZ8er1plqz/iV/k+hofMfVayaFEEIIIYQQ6zyV7IGsbFaYFaWLLNuautJ2KsTKZUuCv3x2qyvlUQghhBBCiPWMtV6BnHWdy2DKcY4Z4/K8rFppFj45zAx7Jvg/CWgqIwR0bebLMaZdaVlWM4fdMqs0ydHKxXPMyOFDgv8VmX4t3c6eQgghhBBCiPWFtV6BbHJMOLPrSNPJbaOxcQ1T74QhJVtRFLUygwd2Kl1TKVKwbSvT6YzVfsXplzU3WwTKZI2/NjU9glDgumcPMz1ahjbJFEKIPDF79mxz0UUXmb/97W9m8803N/Pnr97c98cffzT33nuvadiwodlhhx3sdQsXxuxhK4QQQoicseE1PsHfayUb/f1g0+WCg812G2xslm+y0qz4dLFxOXnqHtDKtDtvkBl232DTYZeNgrMiNbVMgzbnmFMa/9WYP1aZjX5daL78IfioqIFpdcwppvfgR8ywPs3NVsFpIYTIJ3Xq1DE77bSTWbp0qfn4449NcXGxOe6448wGG2xgqlevbvbYYw+zxRZbmFatWpnLL7/c/i2EEEKI/LGOJ9ERQgixtjNhwgSz8cYbm9dff93ccccdZvr06Wb//fe3n33xxRfm2WefNY0aNTL77LOPPSeEEEKI/LGOJ9ERQgixtoPncfvttzfdunUz2223nbnhhhvM//73P/vZt99+a37++Wez445a5C6EEEJUBlIghRBCFCzLly83f/zxh6lVq5bZdtttzcUXX2w9kM8884whgOann34yv//+u9lyyy2DbwghhBAin0iBFEIIUbAsWLDAbL311mbTTTe1/z/11FPtuse7777bfPnllzaRDp+zJlIIIYQQ+UczrhBCiIJl3rx5NpEOGVihdu3apk+fPuadd94xDz30kPnmm2/MbrvtZj8TQgghRP6RAimEECIRhIqi0FUmKIibbbaZqVGjRnDGmMMOO8zsu+++Zvjw4XZ9ZP369YNPhBBCCJFvpEAKIYRIC2sN33//fdO1a1fTo0eP4Gz+WbRokfnll19MzZo17X60DhRKnoPPUCz5XAghhBCVg7bxEEIIEcunn35q7rzzThsuSpZTttNgvWF4M/988Ouvv5qpU6eaW265xXzyySfW23j77bebevXqBVeUZF+97bbbTJMmTUyHDh2Cs0IIIYTIN1IghRBCZGTZsmWmbt26di0iSp0QQggh1k8UwiqEEEIIIYQQIhFSIIUQQgghhBBCJEIKpBBCCCGEEEKIREiBFEIIIYQQQgiRCCmQQgghhBBCCCESoSysQgghMpLLLKw///yzGTNmjPnggw+CM/llq622Mt27dzebbrppcKbiMHWyT+XLL79sDjnkEPO3v/0t+EQIIYTILcybzz77rN3CauXKlWbjjTc2Bx98sNlll13MhhtuGFxVeUiBFEIIkZFcKpBMfhdffLEZNWqUWbFihT3XsmVL07x5c/t3Uv744w/zyy+/2PstXbrUfPfdd+bzzz83n332mT3nKCoqMvfdd585/vjjgzMV54cffjA33nijLYt99tnHnHfeeeYvf/lL8KkQQgiRO+69916zySabmB122MEsX77cKpOLFy82vXv3tvshV6tWLbiycpACKYQQIiO5VCCZdt566y1zwQUXmDlz5lhFcNdddzWPPvqo2WabbYKrMsN9fv/9d3s4RZLn/P77783s2bPNlClTzCuvvGIttR06dDAjR440f/rTn4Jvl59Vq1aZK664wmy22WbmsMMOM88995ypXbu2Oeuss2z5CCGEELnif//7nznwwAOt0fLoo4+2c94zzzxjBg4caE444QTTrVs3Ox9VJloDKYQQolLBUrrXXntZJcx57VBKb7nlFvPnP//ZbLHFFomOLbfc0vz1r3+1HkassiiheAOPPPJI06NHDzN69Gh7oPiiUL766qv2tyoKntPtttvO/kazZs2s4ogyO2vWrOAKIYQQIjegMOJt/PTTT+3/CVndcccd7RxIxA0KZmUjBVIIIUSls9FGG5kTTzzRnHvuudZDiFfvySefNEOHDg2uKD8oqKx33H777c3JJ59sJk2aZNeJPPHEE1bRqyinnnqqOf/88+3kvcEGG9jfOe+882wYrhBCCJFLmM/eeecda6x0sGQDpXLbbbc1tWrVCs5WHlIghRBCpITwUg4mK/5lIT+hou58RUBxvPrqq60XD5YsWWLuvvtuM336dPv/XMBvNGzY0Fx33XVWefzvf/8bfLIm8+fPN//4xz/suzp4Rxcm6965evXq9r7uPPdlbQpKsbsuFR9++KH1tBJaG0c4LDd8hBXfuGsy1QVrRAcPHmzDhMP3KjSKi4ut0v/NN98EZ+LhfbN5DwwUtK1hw4YFZ8rC/eLKtKLlng3cP/oc0WdI9Zxhos+Zy2esCr788kvbZ5566qkyZVGI8HzZPCOh9+PGjTN33XWXXdcWR5I6j7sml2WV6f5JnpHro5/n8hmrAsJI//nPf5qvvvoqOFMWxh0SxmEY/emnn4KzZUEJZGz+97//nbI8MIoSrVOjRg37f5Zq8NvMRUcccUROE8QlRQqkEOsov/32m/n6668THwhslR0GwQSCYEs2S54B4ZHBdMGCBWbevHlWWckEAy7PTWYy7sG9eBeUACx2nBPlA4GGNRfHHHOMad26tQ0bRVHad999zXHHHWduu+224Mryw5rEhx9+2IaEwsKFC+1v0gZyCR5I1oqkui+hQXhDWUtCWKw717VrV9OoUSOz//772/WORx11lP2X8KH69evbdSmcO/zww+3fe+yxhznggAPW+B3a6ccff2zuv/9+m7HVKc1h6A98TmY9wnKxKrOuZb/99jMvvfRScJWx2Wv33HNPW3Z16tQxu+++u7n00ktt2aWCNZpt27Y1M2fOtEokgk2h8cUXX1iv9CWXXJIyqy3liELBuyBwMc5l4tdff7VtlfEAz3EUyqJfv362/ignyhyB7Nhjjy0TlvzYY4/Z0GvCrGmvtIuePXsGn1acxx9/3P4m98e7/fe//90q008//bT9nFA1wr5pd/TFmjVr2rZBQioHffZf//qX2Xnnne16XJ7ztNNOswJnoUKdYpSifjDiRNsmHhb617Rp0+yB8lGIkFjr5ptvNldddVVKZSEMyiNRF2RyZjyN8yJRn/QJ+jvtkjqnPK688soySkv//v3t59xjp512MoceeqhVXHIBv8O6O9oS96ddMkbRH3gH4Pdpiyg4PEeDBg1Mr169zEcffWQ/B5YTMI6i9DBusdSApQWFiJMrkEeoV9bVI6tE2x7tkizfjC/IL1EwKlJ2fJ95Lq5d8H0SvL344ot2TEs3NvNc9OUJEybYOQbllWUbVYL/MEKIdZBXX33V8wcvzxfEvIYNG3r+BOTVrVvX84VOTFzerrvu6jVu3NjzhU/Pn5Ds4Qsewbfzjz9Ier4w6/kCkucLZfbwJyDvoIMOsv9eeOGF3ueffx5cHY8/mHv+IOr5E7bnC3/2fXzlxn7fF/LtvaZMmRJcLQoZX5DyfKHYtk1fSPJ8wdzzJ+/g0/zC79BeHnjggeBMCb5A7/mCnTd06FDvm2++8XwFz57n72rVqtk+5CuF9hz4E7vnK7/eEUccYdtlGH5j4MCBni/4eT///HNwNh7uM2TIEG/jjTf2fCHLe/vtt4NPVuMrFZ4vpHn33nuv5wslwdn08PzPP/+8d84553i+0Gr7T6HgC2meLyh7d999d3BmTXh+yvXss8/2LrvsMu+QQw6xdeQrH8EVa8J3xo0b5/lKvecLgMHZeCgPX9mydesr+N6KFSuCT0rwhWXv+uuvt3XiC3qer7wGn+SWpk2b2j4wYsSI4ExZ7rnnHu+vf/2r16JFi5R16AurXqdOnTxfAbZjbSHiC+i2/8yZM8fWO+356quvtu0/Cu85adIkr3v37rY/uL5YKNC26LOMF127drV/06ZT4ea/jh072j6Ziblz53q+8mXbBWNMtO1RlieddJLXvn17W565Lh/GmGuvvdaOSZdffnlsm+J96Tu+Auu9++67wdmyUN/II5MnTw7OFB6U3SeffGL7+hlnnOH16dPHO++887wePXp4M2bMWGO8oS74bNCgQSnHog8++MA799xzPV/ptuNIFNo3Yzq/g+wWV3+co4z/7//+z+vbt6/34YcfesuXL7fzUdw98408kEKsg/h921rdSR7iD2pm6tSp1oNBGJDLcok1DMsnFt1bb73VWgz5TmXx3nvv2cyYeA7ZYsGfRK33Bcup244Bq3Q68DTyTnhUfKHSvguZN/HG8C5Y6LAgisIHK+2FF15oLexYfrHEjh8/Pu9ecX9Sth4bLMW+sBCcLdlzizZIeBBta+utt7ZhRIClmLWP9erVs9Z+B9Z59oTEIhzO9opF+bXXXjOvv/669Qa5MKRUcJ+DDjrI9klCXrHi85wOvPN4q+6880679jJp+BLPjweN58Z7EA7VrUoYr8iQizfRV26Ds2uChd9X8q33luyDjBuUQ9g7GwWvnS8I2hDmTBlyqVM8injZ8T7jEXMwnlB/tAu8THgMaDP5gDGaMvGFyuBMWfhd6pLPXZsMg6cELwXh2LTFqtgjLgl4kh966CGblIq5CC9NqnembugTeK/+85//2HcsFHhmvGuMFw8++KDxFQ7rOWTeTTV+8fzMwYwfvFcm8Dq2adPGtkPC8Im0cdAmGS+Jihg+fLjt43HtoiLQ5vCU8a4c1EcU2hnnabvh8crBOcZOvOhEtBQqRC1dc801NiKC0FJkDELf8bASqcB4wzs6KBvmrokTJ5o33ngjOFsWErwRmcJ6fMak8PeBciOyB+8uY1qc3MI5X3m0yx/wWFPHyDuEstLfKxspkEKsg7gBnInpzDPPtEk+CCth8nUTC2FSLhyFEMVTTjmlUsPamGgJjeH5GDgR7lwoHmGEDMqZFEi2gHjhhRdKM28i5DPJEfbFmgPuVyhCskgP9c22HkyMCCJM3rQRQi7z2S4R+gj1QugLC9r8Pv2oRYsWtq+EYdsOFEQEiqighhKEsEdfcyBMEnJEyCPrMZOA8YfQWIQZBAYnUKA8InjSxgmfyhb6Gc+NEPPmm2+uIchUBSgSlA/KI+0gFRiMCJ3r2LGjVfIIS0ag43wcvBsKJ2Ncq1atgrPpIcSuefPm5scffzRjx461bY+DUDvqASGeMOU4ATpXEELNs6NQRUHxwPiG0oDxLQrCPc+KIaZx48Zpy7Oqof5Q7DFgEl7OfJQOxnaEcN4Pw0ohtF2gfVAfGGtZp4aBBmMU9RinQPLc1CHv0b59+0RtibKhXRK+TDZpt/0RcyQKB+NCEiNJeaEdEd7Nb/KuLnQ1DIZc+iXlwXr2KBjCGHeo60KFusFAwdiIsY82B7w/xkT+z7wUfT9CxjEesvwi1XyFjII8wjjCPBGFsHTGH8oJ41W4fVPed9xxh7nhhhtsmDdGLGQl/uUz+ntlIwVSiHUUhFgmp7AnJBUMPgjKWC4rC7yDwGAZHnDxpiAcMwln8ogyiHMgZLO2IDzg7rbbbnZNWyFZqkV6ELhY/4aCA+wVyebJTJj5EhbxxNHmWP8WhvaEwITlOAwC+owZM2y/YrKPQptF+QsrkDw/Ah8KYVLFgzVw9En6MQor6x45ENJQoiqS8RXPJgYlPGpxa3IqGzw1KO9x60LDMD6hNIeFJcaJTp06Bf8rC4olwiCRDknLnevwJlCPGKco83fffdd6yGgjrEXLt0eP9a8I6lEvBH0ADw6/T/uKM45hlGNspd26tbzrEhgLKRsE/BUrVgRnqxaUJgxQYQWYMQCFA6NmFMYQDCZcQ19MAoYqFG7uiRKGEoJHnszS1DfrYDMp4BWBNoeCw3OgFEcVY9Z3433jneIUSJROvGUoUfl8zoqCvICCTpQI/Sc8bnAOueL999+3Y0IUsnMTSTV37tzgTFmILGAMY91rKs80xil+h7E57FWkzaPEEg1DH8AQyUF7aNKkiW2DlY0USCHWQRj0CGch2UcSmBRcQhAsmYQUEU56++23W6uXU/awdD377LM2cyYhHi5cA2swVjksYigAmTyHgOAHZKAjfA2LvwOPabt27azwnA4mNA7CAwkxQVBnoAUEfMJhmbDCIIQxARD+RuY7rLYoKdEEJNyHUKERI0bYEEcsf1j7ECSdwosgwGROqCUZAhE2WUxPOWBhBoQcQl4IhSF0h9A7ypAJVZQFIQUBvXv37lYQoXxJIEKYW5w3pqKgJBD+g1cjOgHz+3jwo5ZdPJP0B7ySe++9d3B2NQgYTZs2LVUgaW/UN/dnok8KfRgPEn0SIwsCJ+FLnCuP5zEMQi2hc/SDqk4yhSUeoQvvbDrBkjGF96ccwsIX/ZR+Twhf1FjEuEACDDwD2cD1lDPeacY/6o+6I1KC7Lv5hgRCvFe0zTNGMd4wrmFgwLMdHmsZn6lTnhFBdF0EIZw9XxGwqdtCgDEKT3jU80R9TZ48eY0MnYz9GKHo29l4iPF+YVTCwMC4xfxFezj99NNte8gnjEeMeSg3PH+4D9KHGaPZYoJEO5RDtC+i8GK0QunJtwGmIhANwRjPs0b7OnWFUonnnzE5CnMX9YBSHwdyFkbHdOMudcvcgwcyHGFAuSNzIYdED8amaCRMZSAFUoh1FAbpbIQdrmfQQjlkU3cETKyjxPWjFDJhcA1CHtehWKFsAmEzKH0oniidceEtUVifgyDAYE3oD8oVGQ9RGpis8EKlysToYODEE8N3EC7Z2J1wROe5dBOug+sQNFEYUQx4PxRZBuEBAwZYQdRdx8SPwsi9sOYzOTBpoBzyfRReFEOeHeEBRfiee+6x/1IGrMdEwON58GQQ4kJILZZLMug98sgjBWNBLySYKFkPSQgYkzhliHECBT1Ju8oGhAUEMJSF6ARM28EIE4U2ioBE24nz8CDg0m7DQhJhuAgFvE82cC/aL0YS2i1tFeUxG6EzDr6PoIcHIy4MsjJBkGK9IYJluvEKpZ12gCAabgf0IdafMR5FFS68VNRRtp44PNJY+unjeCOoB8IHK8vKj4IfVSAZh2h71BvjHmXFNWEvJAovYxQGkaoIaasMeG/6JWN1IXjPgbXItM2wt4o5hDkAg6Lb/N2BoZG6xWiSDYwpGK2oX7xc1DVRDRhaK0OBwCjLGIYCGTaAYmBhvMTAQl+LeiAZZ3heDGv5CrHNFdQL/Z55KDyGA2VMGTAnxa1R5DvMJem2ocLAiFGR6Jq4qBrGZmQp5qa43ygkpEAKISwIYghnhJO5NN147wibwcKK0sjghqeSIwxWM6z24bC9TDB54nkkbI3BEuWTBBYobfw/CQjqhJt17tzZPhsTGcocygcW6igIgyh//DbrMBDG8XQyYOMFcR5Vwg3xaDLZkSyD9VOszbv88sutIMf6ShQaJgOUYCZLvoNFGWECSyGKLQIfCiQKEd9nTQVhxVx/0003ZVyfiZWa9V78frYH60jXVrDiYlUn0QKTOAII6coRQuIm3fKCEIphBOU+KS6BAnWdRGjjWizOzuOeDbRpPEkonyTNoCyiQk0ctFE84OkiARD06PN4cXJZptmCcI0iQPnwvqlA6MbYhDEHQc3BOyKoI7RGFUUiI1D+kpRZGBQBxj8USTwp/Eb4N1PBdRgkKir4xYWwMv7SVhFQ2QLBLU1w6z8RarnGeZfjoL5Zd5ekvhGkGR/jxpZMR9++fdfwuuUS3p92G122UBVggKFMCSsMK5CU39tvv229c9G2w1xBW6dfZwvtmfmLsYffjlN04mBO5UCxLS+0OcL6aYe0N6AemDtPOukk+xy0P97ZKZDUD5/Tphlnw2Xk4H4YiJIYBLg3Rm2iq+LaXqaDCIZ0hkj6MOMn9RMd33l2DBh8zjPHgUzAWMVzxoGsgZzkIpTiQK6hfBl7qrp9p0MKpBDCwuSAl42sjlg5GTw5sDgy6SC8AefiJizORQfcdHA9SieeQ5RGlAYmVhQrPIlJBB0GdJRZFDaXnRHBhXVtKJGEniKIAYM+66EY+PFuIhwCXgWsxHgFeR7eFY8hyh/hJijT7r0QcgnTQfHgN1Aw+X3u5fb/494otUwkvBtCxLXXXmvXdaI8spk5giFrRvDguueLA4stnlkW5md74DVOChMeCncuj2g4VzZQ3pS1a4vAM+L9dYJLLkAAo10gkCZpu9QVIcyQNCwSQYL6jlsLlQkECPoBz4igSJuLhobFQfnTnvFIpepDtFn6PIIu968q+H0UG8onTrh0oAzi9aBfhQ1VlAefoVi6Pg30Yww0JDVJd984qDPGE7yiKO7UeXRNVxy0UQwdGOIqAmVBvbEGirrBI8K9EcIRQBk7EeR5L9ow1+LJpa2QEC2VIo4XGyNYOsOCg7GN7JNxY0umo0uXLll7fbMh/O4VUYhyAUZH5pRoWDn1wTyBATYaSYORgToqz5jAHEloLN/Fw84yi1TKShjmONp02HOYLYwXtIuwB5KIG0L9mScBT2Q4hJU5jr+ZH1OFqGP4IALIRTSlg3LDuIPMENf20h3IFoR/p4t0oC+lGjM5zxyQ7hrmEsazVMZhxnHKwclTcSBz8Z7cI0ndVhl+IQgh1hN8BcrzBXNGPs+feIKzq/EHK7v32S+//GL3Iho2bJjnT4yeP1nbvYfAF4btHmzbbLON99BDD9lzjh122MHe258wgjPJ8AUa77333rN7sPkDpz2OP/54u89RUvxJy/7urbfe6vlKod2Patttt/Xuv/9++zn7OrFPFgd/h/GFEPvO/uTgFRcX272Yatasafd6C8Pn7G/FvZs3b+75E57dY65u3bp2f7JvvvkmuLJkXy5f2LV7xvFc4eOHH37wfME50d5N/GZ5jmzwhU7PF75zevgCd3D38kOdsucdbY125QvOdg+yXMG9fUHM8yfz4Ex62MPMF4ztXmg/Jdx7kf5CeaTb3zAO2o8v8Nk932iHTZo0se36pZdeSrn3n8NXOjxf6Ui7/58v+Hq+IObdfvvt9rfScdddd3m+4uJtueWWiQ9fcfOmT5+e8Vkffvhhe29fiAzOrAltib0r2ZuRccJBOx87dqznK1begw8+GJwtYfny5XZvWPqlL+wGZ5PBvrKDBw+2+/P5ArHXqFEjb+rUqcGnqWH89JW+Cu/JRpuhvfvKh+cLkd6LL77o3XHHHWX6VLt27ew4OXz4cPuuPC971KWDcZbxJ+n4EB5Psj2y5ZFHHrFzU//+/WP3gQzzwgsv2DoZPXq0bevpYB5r0aJFbBtNd3Tr1i24Q3rY15V+yVwQxs21vhK+xjPSJpkrs4W9IH1Fy+5t3KtXL89XRrxTTjnFtpdM0Ebo5+WpG8cHH3xg5zPXH3hnxqfPQ/s1s3cp4yP7W9IPRo0aZefIdGMR5cN4Sv9JSrS9JT0yMW3aNLsnNft5+op6cLYEyo9+iGzAfqVx8P6+km3LKhVHHHGE17p165TPQ5s94IAD7JyR7dhVmcgDKYQoA563iy66yFpJWadI1rBsLfiZ8AfOMp43vIBYKAkN9ZVTayHEW8izYIGPwx+/Sq2BgFUe6yieNzwGWKldaCyWPKz4hMj4k1qZ3wbeD+sqXiis8/5EYa/jt939gc+5L7+DZRBLYyr4HhZyvAgkH+A77mBNmy+kpLWEOvjN8hzZgNeEzHC5PHKRaY86pQ0SbozlljLN9t3SEa7bJJCUhfYR9mBnItrWkkDbI2wczxreHEJ5CV3kXrTndH0C6z9Q/pRfKrjWHZno2rWrDcNlbXTSg/EDL22msSPJ73MvQl0ZI+g3Dr5LVlIs9qwLDJPkvlEoX5Jd0a979+5tQ+6OPfZY6xlhTEnlueO3KHf+pZ0yllQEvKZ4ILgn5U47IDqEsceBp8d54YhmYKzDuxIH78V4xfWUVdI+FB5Psj3yiavbJHVMFAl9iRDJuHaa6mApQib4feYovK14xh3UG95/vKOs14yO8+UZE/BY4e0jfBUvM8siCFVmC490kQau7pljaZsVqRvuQRskCoT5FI82UT/O+wh4W3n/pUH0BNfhoYwbi3hmN16xZpc2n5Roe0t6ZIJxnfmaeds9m4PnZewlAoJ+FIer23RtM91nwOeZrikEpEAKISwIrQ8//LDp1auXXd/F2sDo/ndhogNcNgMeEyFZXqMTKcIh+0ISDsT9CAFKpaQR0kXSGkJ4ohD2yObhwATGBMvkh2DH91Aoo8/LZIHi6JQ9Jn++Fw354XtMRAjoCHGp4BomWyZSwo6iMBHxfunKjefhGt4x2yNdiEwUlBOE/Vwe2QgD6eA+rMVl7Q97lRKunCsQqBCqUykGUVAgqbek2Y2B9kRboH8lAWEPZYUwSLLR0sYQQFGiSZYxfvx4uyY0Cu2VZD1k+aW8UDTTvZczkCAwZaorhD/aO+056YFAmEl5BIQx7s/zpOoLhOzRFwkpxfji4J0pKxQuQljpqy7Emb7OeyUtdzf+EXpIqBsgDLN2mWfkd+LWLfHMKCeEVxM2T/lHx4zyQL1Tf6zbJnw2utk8YyXli+JIWDzbOMRBeyKUnnWJGAPdOu9MULYornFjS6aDsScqfOcS5gTuzzidpI25MT2unaY60hlfHBg2eNfo9jOEZbNem/XxJD3CcMkzu/ZNX+LvpG2Tda7MmdyPpRBAci2MCtQTCXziypv1iYStsuyCrW5opxWBPoXiRPsmBwBhtITohsuKdsu7EfpNwjjGrLCCGYa2eP7559vcAGRFTwL3pj9g1Ilre+kOjDHMx64e4mCe4b34DfpOGMqaumUMIpQ8DuQNxnvaWyoYo9J9Tr/nt5OMzVWJFEghhAUhjTVWTMgM+kwKbpLjX6fsMThyMGEhgLrBmIGZARYyWVixyrI+EeUoChOUm8AZyFN56RiAsRSTLRVrYRiejwGef5msEbZYP8RkzoSPh4wJzj07kzuCGl5PhFGsyTwHCgPr1xxcz2TO4I43hMkmFTw/axgR8NiQPDxxMQGzJxb7+7kyiwMlgv3FSBKU7XHVVVcFd1l7oR0x8WMoIOsp614wBOQK2gT3QyFzdZMK2jqGAOo+GwUSJRWhKtWamDD0Kdociazw+tEPHSSAQElC+MD4EoX7o2ThrWT9KAJWOgGVNsjvIQxVpZBCH6eM8KTFjRv0D8YmPmd9Edc6OM8YgmLEdWxt4DIgIuziGULgyzQeUab0fYxLGJ4YN4A+TOZkDCJkTUTgpR2EoT0gTGNwwzONNzAuGQhjFPWT1FhBuaAA8LsnnnhiGSEdGKc4x28zFqFcxIESyPOw9pFnSJe8IwwCNN7/uLEl0zFkyBA7vuYL3oP+6pToqoI1iLQdDBsOngsjBOv6nAKJ8se1Tsmjf9Jek4wJXIPRCCMG9eHaJv2ABG8YOZhfXDKlMKy/Z/4jERvzHnNQFNojeQPi2mwU+hTzLkoS/Y7xiDE0DGMdz4hyzdwXXRvqoE9SLkQcoWCi3GUag4EyxKNcnrZ59tlnW3kh3bjIGMN78Y6USfiZ+B59GPkF5T0OxhvqKhwpEYbyRt5IpVQDhmPaB/eQAimEKAgYAJ0wFbWSIxgxGTL5ISgzoBOeQ+gYgyjWS4Qjvs8kwSSOQMUkhaWRgdndm3MMwKlgAEZoJ9yUa92zMLjyfyYnQnUIPwoLjGFQ8BD+R40aZTdXdwIoz8pkihCOIkpYF8okgzGZUfltQmVvvfVWK3CSMIdMqZMmTbK/h0DCdxDYUSpJSOImHAZ2fguBlUmZaxnoORAk3fsDAz8bmCPk8R229iAbHVk88XSgxCLsp5sg8CQRJhROTpP0wPK8NkM90g4IKaR8SUSUbtItD4SA4Z3AEJEJFDLaLNfH7f+YCoQpDBLRVP5RUBZoswjfCEfRTJoIboStYZVmz7Wo8MnvkAkSAQvFCmWGZ00FhhE+RxGpSiEcIZu+TPk4ATsM5UL90Ac53DWMUxgW6D8I8PyfI5xRF+8IigztJw7O8x08dBhzSN4VHW94PhRIfptrEIzDUHYocAjyjBeMWyh/UfASkWWaeySBe1DXbBTOe0Rx9YbAi3CcCq7Ba8U4x/iV1PjBGM/4Hze2ZDoY61CcsoF6Zfzk30yKBOM74znju1OoqgKUe+ZMZxTguWmvZM9miw1n8GBu4lmdMZSID94z2pbC8DnKP+MBbRSDUrSfUpfMbfRl5pRwufE3iiqKDvM0GV+p0zDMWXjWMVKSnTQqE0RBgXTvwdxEW49CX0aB4rcJtUWBjYPnw7vPbyJrkIAuSV3y22zYj6Etru1lOvDE8nypYDxhXmauITye+gXaJvVBvfLu0Uz0Dq7B2JnK0IlSTXuJKzsH7YW+j3GvKtt3Jja8JpfxQEKIgoRJDcszygiTCQMYgxNhZgiRHAxUTMwMzHh9GOgQvrDis5aBz7ge5YkBmBAdBCaURxRLBjyUTCYY7o0gx99x8HsIVEx8/BaWUe6BcoUngMmFdZiE0jJpxcFAz8SDUobAzPPxzCi/KGd470gtThigew48Orwn1lgs9/wWYX88B2E+vBvwzhwM5JQb5YXygMCAZfmcc86xIWX8rluryX0RNl25MtkzCTFBogihrLLdANfye2QYxbsRFQoKASyv1DnPSnvBeu48w+EJjcmVzxFOuZ6yoR5571SKf1KoSzbKdntvotynU7bLA20WTzDtDUE9/G4IDCguCFi8F9556p/2iHJHneKlSSIoY7WmrxCqFW3PtGHKj77JnqI8C4Jh+L6cow5oq7Rv+jPKD0Yf+iLKJYIa/7K/KM+FgQOFgXPh9wK+S/vHyIMQR1uvKugreA3pJxhtouVDHeCp4J3pW9QLgjftjnGEsYO2hoKHcImy57x1tGPqjdDn8FhEuWEQoD9yb7b2oc2igFMWrrzo94xvPB/XM8Zwb4xnjCU8K/2XSATGG64jBN8JzeHoif79+9sxgDKnHWQCRRPvDqGncX2J/kG7QVnDY5IK3ofnxAPJ+/HbeJxoF1UNZUE9crAFE2VNW6fcqGPeOzqHoFih7PBOrE9lXKoK8CJhiGSOABR6npl3oHx5bp6VPsjfzC20deD/KHyMI9RJGNoWYw7lQVgnxiIMRxihwsoYv484H/gAADzCSURBVMtcTZtjPmEuQkHkb+Yh2iW/g0cMAwl9C6WOsnV9jPbN/EUINH2CZ4kzfjioG/oBfZVtojDGRqFc2EgfowUG1FTzG+dRsOmfjKWs9QbXp6oS+jPjKuVLGVGmyDt4PpFrmLuZO6JQhvRz5A7GoTgYwxkHkG+i2XmBsRn5hd9lbKZdFSpSIIVYD2CixsLPAIf1kzTYTLxMSM7SjTCGNZODiY3rELxY34GwgbJDOAqTEBMVExoDLYIu6zHatm1rJywGPYRxF0IaBxMEAzTXMokwySIIMmjyOyhz3DOdEsK9mQyx/pNAg8mN90R45r2YwBDmwhMi98Pyh8DF4db+nXvuuWW8Stwbiy2fUy4IoggDCK+UCcoj/8cyjBLFM+Ml4Lc4nNDOOxLGirUSqyTWYH6PUBoEilwrRLmC+kARRChGiEHYYWKn3YSFYgQJLK4IDAh1lAnlhUcoLOxkC9419gjl91HW2Sw7XVsoLygDGAYQ1li/Fq4P2hOGBsIaUV54f5RY2hqWewQlzsV5h8LQDrBGIyjhFQyHpQIKEkIZZce9aZcoStH7IsAgDCLk4UnnWbk3fdB5FjD4IHDyOwgnKKe0u6hAhvDJ8yAAUra006qCOqC+8dq0adOmVMh2oDAToocQzUbllD3tk/6JgErfYlxDUaJfUnYOxiO8/4xFYYs/92A8pEypQ8qdfsu4h9JGuQJKKe0boZ66p+xph9QVbdyVG+MDQjrP3rx5c9t3KH/6ggNBkLpnjOK5M8G9MSSEPapheG7uR5m5500F7YDwb6IuUDxRdDK128qAsZPypZ/xvtQv7Zm+R9nzd9S4wfNjJKGcOSiHqgDDFtEvjOPMY8xdtEPGfsKZGevpd/RT5jLexdUTbZ62h9JHeHK4/hhTMVjxnrRF5l/mauorrPQ7ozDtlnGZeZDfZ3ymbbp7Yijit3gmjFj0Bad08xzO00X7ZDxIZxDjfRjL+C36A9+Pwu9yP9Zsh/tiHPQbPKx4H1F66Tf067j7Via8J3M6dYbRiHLlWakDPJipDG7UG0tzSEqHXBMHcyntm/vEzWnMR+xzSR2i9KfyZBYE/osIIYQQa/Cf//zHO//88+02Cb5gscb2Jw5fSPf69u1rU5f7SnZwtnz4wrp377332i0Y2JLFF5SCT/KDLwja7VZ8ZTU4k3t4B19g8AYOHFjh8kmHL4h7nTt39nr37u35CoP31ltvxW6jwXYPvhLjPfnkk3l9nqTQrnzlwfOF3eBMCb7gZrda8QVbb8yYMcHZ7GDLobZt2+b1PZcsWWK3n6BMhw4darcv4dmj+ApT4u0hcokv2HoNGjTwRo4cabf78JXn4JO1j0mTJtktTGbOnFmlbZftY3ylx45VvrIbnE0Gz/3000/bbWl8BTo4mx/Gjx/vnXrqqXbsoS/9+OOPwSer+eqrr+xWG3PmzAnOVA6Mi2zd1bVrV89XvOz2FYUwHpUXxhq2xPotxXYkX3/9td2+g63FVq5cGZwtC+2iffv2djuRQi+LwoudEkIIURAQkkwYMWtC8RKRMj4OPAl4zrAeZ/KGpANLLyFZhDfjTSIMM5MVu6LgUcdbjXfGnxODs7kFb6wvFNgwX8K18gVeL0KjCKFinQ6egqj3EUs6a4HwXuFRq0h95Qq8D3jSRowYUaYOiErAQ0V4KdeUB0LjKHPCsfMF9cu6VTJK4g0imiHsqXfgVUrlvcgneE4It6Q9sL6rvGVZ1eCBx4uG14/xpirbLksv8DrivY6r63Tw3HwPrzjepnyNO8DYzZjAv3g74yJD8LLh1U8Sjp9L8H5eccUV1iNPZA4RP4UwHpUH5krmLpICpYosInSV+SzV0hzGO8JmXQRYoZeFFEghhBBrQCgVAhJhVEzwhAOyVozQsjAoj4RzEl5VkXAyhCgSKJEFk7BL1q7GrREpL3/88YcN5WKdbRjCpUieQugziZTyAQIm4XYIjYTfRcswV/A7hM4RMocAEq0PyoCQUMLvECbD4d1VCXVAqDIGBMJVHSgMCOoYJuLWWyWBEFf2dLz66qttW80HCIwIfYScoRTErcujfaMgoyhXNoSH8myENtO31kZYG+aSmqAE59uwlA6MMIRbonBhECiPoE8SoNNPP92GyGPQyRc8HyGiGOQYy6MGJRRHQmkJt67sMqXfMF6h3IZDwtc2CIln31DW5FLWcVDPrG3FuIcBJ9pmGJtpB4Rzk103mvCoEJECKYQQYg3wlqCQIICwppW1WKzXY4F/GKzXTH6sF6kIrN+78MILrRAzYMCACt8vCu9DwggE0SgoqggArLtkHUs+YI0Rnk4ENtaMUmaVDWvfKAPqE0EnKkxWJbQz9l9kzS3JigADBuWEMlxeYwLviPcXDwd7NLJ+sSpgjTB9iLVVInswJJCABCEdJb0qvTOsicXARk4ADGvlAaMJEQCs7WWdLopDZYNRA+URgxJjQiGNB2sLlCHrGlGGyaUQpwSzXpU6RlmmzcSta2RuxUPJmnTaxdpQF9X8l8+f71wIIcRaCZMZkxoWUyzXJAcgGyrCPIKcA68AnkO8lFxXHlAUSPlOmCxeQATtXAqIeAwIUSUcEgUlLoMeUyEeyjvuuMPccMMNebEAowyRMIftOghjim5Ank9I3sLWLiR3IKFGqjCrqoQ6QMnt16+fue2226zSjbeWZ61oshTaGAYCjCJkUaxs8K7SprMNdxQlW7aQLZewVRSuqk6yQj+mPfEctMuKjFUoomRgpn+SyKsiycfKAwY1jCoFnaylgCFsFc8hW4vEeRYpW+Y0kuPgcY7bH5JIC5RQPNpEhhTi2ByHFEghhBBrgLLB9EBGXAQlQjyxoOIpRGkkJBOYHNmmgnU25RGkCP/hN0iRTsZAMjHmAp4d4QillHU2bNmAZ5P080IIIYQoP/JXCyGEKANhlnh+8NQ5az+hpVjIsb6zgTvKGeuRsKDjrSuP8sh3r732Wqs4Dh8+3K4RxGKbzYECineHdZiElmHNZR82kqaQ0ACl11l3CdMSQgghRMWQB1IIIUQZCF0lzBJvIPt9OTiPksd+d+zbx3qPyZMn26yTqZIHpALlkWyreAX5DdaPlAcUWRRePKR4R8mGx2bePKtb78h+W+y9SSbKioSbCSGEEEIKpBBCiAhki3vjjTfMKaecYrdQCHPmmWfa1PO9evWy6zUIPSWDZjZJTlDsCH29/PLLbRKHfMM7oKzKAymEEEJUHCmQQgghSmFKIEsoHryePXuukfSDfdjIJLfbbrvZz0l60r9//6yyxhFyOmrUKLsvYmVkI2W7CsJZKztBhRBCCLEuIgVSCCFEKaxrJCsgXkKS20RhzSH7VKFIsn8Xf7NZuxBCCCHWD5RERwghRCkkoSFzKRujx0GKcbZBQNEk++raujG5EEIIIcqHFEghhBAWQkvnzJlj93XcbLPNgrNlIQkNCXOaNm1q9+kjlFUIIYQQ6w8bXuMT/C2EEGI9ZcqUKTapzSOPPGLef/99uz6RLKv16tVbYx0k/8cTSZhr27ZtldlUCCGEWI/QGkghhBB2D8UffvihdOsLkuKw9yN7QUYT5DBtsA3HypUrrRdSCCGEEOsPUiCFEEJUOXg8yZa67bbbBmcqxptvvmlOO+00884775g///nPwVkhhBBCVBStgRRCCFHldOzY0TzzzDPB/8rPQw89ZMNqu3fvbrciIWusEEIIIXKHPJBCCCHWOR599FHrgVy8eLHZfPPNg7NCCCGEqCjyQAohhKgS8A4uWLDAJu3BWyiEEEKIwkceSCGEEFXCa6+9Zl566SXz8ccfm6+++so8+eSTNqPrihUrzEcffWS+/vrr4MrUkOCnbt26ZpdddgnOlCAPpBBCCJEf5IEUQghR6WC7fOONN+x6RRLnfPrpp8EnxmZ3RYGcNWtWxuPVV181n332WfBNIYQQQuQbeSCFEEJUOkw9KIl4B4888kibROeKK64IPq048kAKIYQQ+UEKpBBCiCpj/PjxplevXuaVV14xy5cvNzvuuKP55ZdfzLRp0+wWHJnYaKONTIsWLcxRRx0VnClBCqQQQgiRH6RACiGEqDJOPfVUU7NmTXPbbbeZwYMHm379+pk//vjDzJ8/3xQXFwdXpYY1kDvssIOpX79+cKaEcePGmTPOOEMKpBBCCJFjpEAKIYSoMq677jq7jnH33Xc3rVu3NocccohNpFNennrqKevNfP75583MmTPN6aefbpXLDh06mF133TW4SgghhBDlRQqkEEKIKmPZsmU2dJVQ1Nq1a5uNN944+KR8cC+yuBIGu2rVKrPJJpvYe2622WbmT3/6U3CVEEIIIcqLFEghhBBCCCGEEInQNh5CCCGEEEIIIRIhBVIIIYQQQgghRCKkQAohhBBCCCGESIQUSCGEEEIIIYQQiZACKYQQQgghhBAiEVIghRBCCCGEEEIkQgqkEEIIIYQQQohESIEUQgghhBBCCJEIKZBCCCGEEEIIIRIhBVIIIYQQQgghRCKkQAohhBBCCCGESIQUSCGEEEIIIYQQiZACKYQQQgghhBAiEVIghRBCCCGEEEIkQgqkEEIIIYQQQohESIEUQgghhBBCCJEIKZBCCCGEEEIIIRIhBVIIIYQQQgghRCKkQAohhBBCCCGESIQUSCGEEGItYMmSJebqq682J5xwgtlnn31M3759g09K+PXXX81DDz1kjjzySHPAAQeY9u3bm2eeeSb4VAghhMgN1Tyf4G8hhBBCFCh//PGH+emnn8yAAQPMY489ZjbccEMzefJks8cee9jPmc5//vlnc88995gffvjBdOnSxfz973831atXt58LIYQQuUAeSCGEEGItYIMNNjC1a9c277//vrn//vvNd999Z0aOHBl8aky1atVMzZo1zY8//miOP/54s+OOO0p5FEIIkXOkQAohhBBrCYsXLzZbbrmlOfTQQ22Y6rRp06xC6Vi5cqVZtWqVqVWrllU4hRBCiFyj2UUIIYRYS5g1a5Y58MADzUYbbWQuuugiq1COGTPGKo0wf/58s9VWW5lNN93U/l8IIYTINVIghRBCiLWEmTNnmubNm1vvIv82btzYTJ8+3cybN89+/sEHH5g6derYUFchhBAiH0iBFEIIIdYC8DJ+9tlnZtddd7X/33zzzc1ZZ51lvv76a/Pkk0/a8NUvvvjCeiAJYRVCCCHygRRIIYQQYi3gyy+/NFtvvbX505/+ZP/Pv82aNTO77babmTFjhnnzzTdtJlbCV8nQKoQQQuQDKZBCCCHEWgAKYqNGjez6RwfhqieffLJd+0hmVj7DAymEEELkCymQQgghREJmz55trrjiiuB/lQu/veeee5ZRIGvUqGG9kDvvvLMNY/3tt9+sl1IIIYTIF1IghRBCiBSw7nDp0qXmnXfeMYMHDzYXXHCBmTBhQvBp5cGejwsWLLBbeES359hpp51M69atbUjrX/7yF61/FEIIkVekQAohhBApePXVV82VV15phg4dav73v//ZbKe///578Gn+WbZsmbnvvvtMhw4dzLPPPmu37iATaxi8kC1atDCnnHKK2WGHHbT/oxBCiLxSzWPFvRBCCCHW4NdffzUrVqywf3///fdm//33NzVr1jSffvqpPZdvmKJ//vln+wz8TXIcPIwukY4DT+kvv/xiz2+88cbBWSGEECL3SIEUQgghEsB2GXvttZf585//XGkKpBBCCFFoKM5FCCGEEEIIIUQipEAKIYQQQgghhEiEFEghhBBCCCGEEImQAimEEEIIIYQQIhFSIIUQQgghhBBCJEJZWIUQQogE5CML65tvvmkef/xxu8dkZXLwwQebo48+2lSvXj04I4QQQiRDCqQQQgiRgHwokM8//7w588wzzRdffGH/zz6OzZo1M02bNrX/zwa3FyR7Rv7000/mu+++s8/85Zdf2s/CHHfccebGG280u+++e3AmdyxbtsyMHTvWbLvttubwww9fY89KIYQQazdSIIUQQogE5EOBXL58uRk4cKC58847rfK34YYbmgMOOMAMHTrUbLPNNsFVyfjjjz/sgbL422+/WUXy559/Nt9//72ZPXu2ee6558yrr75qz/3lL38xt912m+nYsaP9zVzx7bffmn/9619mzpw5ZsmSJfb+559/vqlWrVpwhRBCVB6Mhy+88IKZMWOGWbp0qfnxxx9NixYtzNlnny3jVgWQAimEEEIkIB8KJCxevNicfPLJVsiBTTfd1CpdgwYNMptssok9VxFQKlEaUehQ7IYNG2Y9n506dTLXXnut2W677YIrK8Znn31m7rnnHqssnnLKKebXX3+1ivH2229vrrnmGrPxxhsHVwohRP5BxXnyySfNvHnzbDTElltuad566y1z6aWXmlatWpn77rsvpwa09Qkl0RFCCCGqkK222soKMptvvrn9P17JRx991DzyyCP2/xVlgw02MLVq1bKK4rHHHmseeOAB06tXL/P666+bjz/+OLiq4rCOk3WVl112mWnUqJHZZ599rDdyhx12qPQ1nkIIwdKAhQsXmn333dc0adLE1K1b15x00kmmXbt2Zvz48eY///lPcKXIFimQQgixFoOFVYEk+YOyJQSKY+7cuTY0tLi42HzzzTf23O+//56T8t9ll12sYoeyx/3wcA4fPty88cYbwRW5AWv73//+d3P11VebE0880SbxwTOZCt6X9YwPPvigDf9KR8OGDc0hhxxiateubd8DTyTe1PPOO8+eSwKK5gUXXGD++9//Bmcqn3//+9/muuuus+++NkB7xCDw4YcfBmeqDvrD008/be666y4bzlwVfPXVV9ZwwXPgfRclMK68+OKLNrqhKjnrrLOsFzDduDlgwADz1FNPpe2D7733nvnnP/9p232qe7H+e8KECbZPsyYcNtpoI3PCCSeYlStXmunTp9tzInsUwiqEKFhYw4XQilCSDYT9/fWvfw3+l39Yu8ZzZitwsv6C58y0PgwhCK8UwjVKC8I5igAhgUyQ/NugQQOtM8sDKHAIwwgphIG6togQQigr5Y4ytuOOO9rzFYF7owgg/FLP1PE//vEPu0YSpS/XoHjcfffd5vTTTzc777xzcHY1tGs8oShz55xzjtlpp53sedojwlh5hHPaKp7WuHBWQnnPOOMMq3C2adMmOLsaxBWUXQQ/fpt+wL+0e7LJoqRSZlxHf6S++JvP+ZffJIQt7rfDUPa33nqr7XNXXHGFredCBSUNhYAyO+aYY4KzqSG5Eu+3xRZb5Hy8YPxjne2UKVPMueeea73QUagvnjk8plM31CXtgrJ29bVo0aLS+nXgSccowfXpePvtt83o0aPNEUccYUMV6a+FDO9J8inelXfM9H7ZQnk/++yztr/ff//9th/EwfpA+g3PA9QDMFexbtr1L56Vg79dffEZ0RSZ+hdjByH7GGlYixj3rvTz7t27m9NOO81GTaQqj6lTp9oQVcZNxqdomybC4uabb7YJvXr06GHfAVgTvv/++5vOnTube++9154TWeJXuhBCFCQTJ070ttlmG88XGDx/cvB8Yd1r2LChV6dOHWY1r0aNGl69evW83Xff3dt1113ttf4k5h188MHBHSoHf2L2fGHJq1mzple3bl1vt9128/bYYw9vu+22s8/pT77e9ttvb5+TzzjPuX333dfzheHgLvH4QpnnT3aeLyB6e+21l71H06ZNvX322cc77LDDPH8S9AYMGOD5ymXwDbE28/XXX3stW7b0fIHJth1f0PcGDx7s+cJacEVueeuttzxfoPN8gTE4UwLtzlcGvAsuuMB74YUXgrMlfPLJJ94uu+xi2yFt0FdcPF/I83xh3fZR+ud+++3nHX300fY8n/tCvO27hx9+uOcrpMGdVsP7+UqHd9VVVwVn1oRn8pV1ew9fofZ8QdvzFQP7m3369PF8BdRe9+uvv3rXXnutV1RUZPsZz9qkSROvU6dO3oIFC+w1maBMunXr5t13332er0gHZwsLXxn0Tj31VO+mm24KzqSG+l24cKF34YUXeh07dvTee+89W565wldQvDlz5nhdunTxnnjiieDsmvgKitemTRs7bvnCvLfJJpvYNn7AAQd4jz/+eOl4uGLFCttmqlev7m222WZ23DvwwAO9u+66y/OVC3tNJh577DGvZ8+e9rl4vkKFepg7d659Vl/Jsc+by7oB5pDWrVt7b7zxxhp93bFq1SpbvkcddZS3ww472HnXV8i8+vXre2effbZXXFxsr+PZ7rnnHnsN/Ys5r3Hjxvb+H374ob0mE++8846dp3nvVHz00Ude8+bN7RiVjiFDhth2/cMPPwRn0kNbGDRokG1XY8aMCc6KbJECKYQoWMaOHWsnr4svvtibOXOmnZyYVBAyEa733HNPq2R++umnViAaN26ct/fee1vlqjKZOnWq/V0mWZTJefPmeZ999pn3r3/9yz7njjvu6A0fPtyeQ3ieNGmSFbwRajMpkEyeCOMIwaNGjbICMJMuE3iLFi2sEt29e3cr8Iq1H4S4559/3tY3bYcD4RmhvDIVmS+++ML2uxtuuMEqZGFuvvlma8ygPaKUoPwhVNK2ESJRCu6//34r6PPMy5cv9+bPn+9dccUVXrNmzWw/CINAy70OOugge20muB5BF+G2du3a3qOPPhp8shqeCUUJpZZxIVsFnHqYMWOGVXZef/314GzhQBkwBmCEymQ8om5ee+01r3PnznaMoh7OOeccaxj4+eefg6sqxtKlS70rr7zStplMYxrQvs4880zbvo8//njv/fffDz5ZDe2EMR6llPE/yX3D0JZ69erlDRw4MLFyUdmgKM+aNcuWG0oQ9dK1a1fvxRdfzJkSybtjnLnlllsS96+HHnrI9i3q58EHHww+WQ1tjrLF2DVixIhS401S+I1//vOf3llnnWUNIam4++677W+kMxrw2ZFHHuk98MADwZn0oExjzKI/5Kr9r49oDaQQomAhhI7F7/3797d747FOrE6dOjaECQiVIRSLJB177LGHzfzYr18/G/pamZBt0hfyTZ8+fYyvGJrddtvNbsHgkqIQPkV4HdkouY7wvMsvv9yG3fnjsL0mDn+StWvPCCEklJGsmSQBIGySkEJfILAbwhPayiHWfggD23vvvc1FF11UGobtC9c2zOqjjz4qDS3LJ77gahPsfPLJJzZ8LBySRt965ZVXbIgn4aaE7hJyRxsnJJZMtbRR2jltntC3mjVr2vAy2u/WW29t/va3vwV3K4Hv+UKoDXvk2kwQpsb2IPR7xgieNVwuhOCx/o2x4vbbbzft27e3z5gN1AP9rF69ejaMl3DWQoJ1fmTT9ZW2jCG2hCVOmjTJhgsSHs14etRRR9ktXbhPRWEMY4wii/Cpp56aKHMwbYC9SAkpXLBggQ3FD4+FhDD6ir9NeMI4x/ifbUZi2hK/QXulD1VG38kWttih/ZLg5aqrrjJ33HGHrSfa77Jly4KrKgZhxYQDk4U0STg2/Ys1grvuuqv9m3oNl52vyJuXX37ZjgvXX3+9XdPoQkOTwn0JYyXENN06RPo5z077TQXjDPMj2xKlW3dL+3r33XdtZmhf4bShrTVq1Ag+FdkiBVIIUbAgAKBsZSP8sd4lbj1XPmFSRiArKioKzmSGvf5IOpJurQuCMEoD/0YnOqdosAk9CjXXiHUD2jsJblB8XL0/88wzVslCsM43KBz8HsoTSlSYd955x/YvDBdhEDBJ/MNWHqx9Yy1UFJRMlLqoIjBt2jSrtNJ3k8IaLowoCLOs7SLTIrj/o9Ag2CIEl3c9Gb+BAYtkHSRQKiQef/xxK8Az7mSCckfAPvvss63RinGV9oVC74xxFYE1lQj4rDNDEUoCz77nnnuaAw880CoRs2bNsuszgfbHdjDcl7VtGAnLC5mAeUcSslS2YTEJ1AVGGtb6oYQxl6A0oYiHDTflBSUUBRKDDvWD4pYElDLWRnM9yqxL0ISxlLriOP7442350r7KA0YE1iFOnDgx5fy12Wab2bIZOXJkWoWa7M/cg3vFgfKIok7mVZ6Z7YtoV27cENkjBVIIUbCgZLVs2TKrzX7x+mGVr0wQmPE8MtklBaGmZ8+eaSdfJm+EX/4lE2Z0ywUEDCbg/fbbr9xCsihMULQQ+A866CBb/whu//d//2cFdZStfIGgRYZZl2QiKsTiLWjbtu0a7Q3hbv78+TZ5DcJqVIFEwcRLjmc+DAofCiT7azqPfVLwgOLRRGklkQZlxPORQAXPE8ovhpbywru7xEGUR9hDVpWgCLH9ABlvUQgzQbkSFRGGd6Muot7g8oDih5Jx6KGHZjVWE5GB0QCDAm0ATyTtCM8q9UYSlWzbRBTGWYwAKFGF5kUGFDXaWLSfEVGTrdc8DgwfGCFR7PmtbMBDSBv54YcfzJgxY6xCT1IxPJLUNeUafe5swDjG+MYzsk9jKhhvGFvI3JoKlEGe6aGHHlrD00y/fe211+zet8yVjKvM1UQ+0G5F+djwGnb3FUKIAoRB3mXlcyAksvUAHhIyUxKKQshcGCY9QlmY9LDUM3EgcBGuxXfcxEwYDhk2sW4SzoUQi0CGAEqmOs4TRkWYHgJ9+DnCcD+OsFDNpEXYFAI/ngzCh/A4hsFjmeqewOSMJwWvz+eff24nWgRzPEPut/hd3pfzYeGNSRShjPdAuOb44IMP7LNwRMv0iSeesJMvWe1IeU4Zcz/CKMNKLgIeZf/YY4/Z+uHZBg8ebGbOnGkFQhfKxLPiRcBrRhlQFlyPwJrunUUJlBFliYeCNkCGUhQHyrV58+bWm5APyNaIEka6/27dulkFLQxtAoNJVFGgfbJvJeFmKHZNmzZdo55pR4SdhjMkEyZLP8ObwXeyUfhQDvB6EqLIc/NMtEe8EQjMFRFuHSjr9AWUX8o92zDKfIA3iL6FIBwdU6LgzRs0aJAd+xo3bhycLYE98pwAHa3nbKDvk/GUzdmzyRbs6oc6Y8xFkWKsZkwjO2ZFPI9h8EzRNjFGshdqoYBCRttl+x76elSZp24o22i9ZQPeeMqWUOBsM0VTD2RMRWHESMA8Q/2gqOWiLzCHUQbMPdRLKu8188bDDz9s+ztGk1QwN1GWeE6dsuyUR4wShAszBjEXcY7QdMYilEqRPTJZCyHWObCYdunSxSpNrVu3tpMnCiApzBFW+RxYU4mll7AWJmuERCY1hFy8nwhqfIbwVRXeBwRwBCksvYBgf8kll5TZ8w2hGeEPRcOBpZ3rEOqY7AkBQjhDmUPIC1tyCYlk3z02sicskWtRylFUUCD4Dl4lQCFHaL344outsolSzvokFETW6LlnIowIoZWy5Xo8QQgArPtMt95FlAUBjRBFwtmcYo7CxVpbVye5BkWMUC+EtahhBmiL4bbmYO0jBgqMGwiDUQ8lbRlhLeoJ4zu8C20kW4WP3yA0E6MPBiDaI20XRTQXyiOgxGAYQVFFOS4EWMeFUkQIaCZQfum3tJswGJgIQ2QfPQwUFeGll16y3iTChbMFbzXKCIo6a9MwINDeMXLlCsZ5xknadaF4kQHlHgMnBjn+DoNRj0gaFKLygnJGiCb9tbzKOFvEoEjST5kLUOAIO86VIYV782zpPJD0ZcLm03kggX7vDMwOvK8oj8gCbr5iWyTmJ/aHjIboi+RIgRRCrHNgbcbyijCCdRHLJsoRQg6eM4RdQPEiTC8MQinCOlZfJ7RXJfXr17eKL2tBEcKZEJnISRhEQoy4dSEkyeA9EUAIEeMd2Q8NCzReSYRtQgcRpvr27WvDY0nawjWsDyH8j33lKC8mW5RrJmY8OyiPCKN4nAg5IxEBiR8uvPBC+6yE+vEd1maivGP1R8hHEcJ6zW/h+UgH9+Z3UDbKe/CehSQslhes76z1ox6dUoTgjyEgH++HAkn94tF26y/DRBVD4DskQeF7COt4KuKg/Ua/T13TT/EYRD2WSaDN0S7pBzwHdR/1jlYEhG/KAk9MZaw/TQJKAXWTJLwTTwvPTb8Og8KC549+TRurCCiglFGcYSETKBAkjUFBoC0g0Ic91LmASA+MDM7AVShgOCEklHkm6hll3S3Pm63XMAxeQyJxUNCSJM+JA+NJu3btSvc6Zl5MEjadFBRRno+weX4jFURcMG+nW+tPWTEmMkc6MAbfcMMNth/g7cWb6g68uyRnEuVDCqQQYp2DSQMLdnhtIAIXEx/rHsKTUKo1iHyvPAJtruE5EK7w+GExRUDn+fFCoPyhSCC8O1AOCbvt0KGD9Qi49+NvFBESi+BFYuJmUsVbiHcW5dEpKPyLpRmlBW8mXlsEaFemwN+EHRL2y1oZNlzn2YYPH24t34TWoaQixFDuCB6cx4ocnuDjQAHh3QgxwgOc7UEILgaDQqi/XED9UL4oR4CihHeZDL25Bs8UwhxCfNLyo47xIOBFQqHLJoyR0FwUj/J6DIkacAYh2tWcOXPs30kghJ3NzPG2pwLlFiXHteVCgPpB4c4U7oswjUGHeiThVhjKHSWFsTJVWCfKB5uvo2imA4NQpnD8VNCWeRZnAJgyZUpWaxUxFBEynW5dMGMdynZ4nCwEUMgIp6QOoiHpeHV5p2jIJu2QeQADHREiRIxgYIx7f8qU30BBizMGJYHfQ7EHInF4rqTQvuhfGLxSQb9nLnHPGgftivBenoW2kgpnVAkbKJl7aN/Mf9GD+aq85SKkQAoh1kHwfDHZIXSjtDCh4P0iBI1JCEFlbYIJFAsyyQQQkFm6jlDLpItyR1gOCh5MnjzZCrqEhYUFOrwyWJIJVSU8l8/w0iKAY7mNCqNM7Ch9KAMIDS7EyinkLnSW+6CkIqQxufN8JDUhqRDKJgfPwjOiCKMspLM0A8+CwEAILGF62R4oWtlYyWkjtIt8HNGEDuWBMiY8i9Bl551hPSRp/zMJ99mC0uGU/qSwtoh1VrQHFMhsvkv7o76jnskk8Jy9e/e22WrxJKDEohSmUybCoFxhcMnUHmnrjBmZrgM8eii0eI+yOUgSwvsk8SrT73mmcP+Og37I2EfbiXoHGS9QXgg5jnq5+IyoA6Ie+DdT9lI8nOXxcNHvCCvk/RmbMJRg0EJBTgoKZzoDgIP3T6WgRKFNUh/ROsp0EOacpI0A7YTnph4xtkXHX8Zcxg5Csh20QZYLEPbKWEAECiGuZJglJDPadtwYxNicydgQB4ZKMsLSvxjPUcBZI8+zJ4GkbzNmzEjrNeS5aDuUW7rrmO9oL5mMOFyXtJ5FxZACKYRYJ2GdI8Ika/MQLBGisvGMFAIIblFhmMkW7xxrClnXiFCB0EU4DgIE4W1MtEkEBpRsvo+QEQdKHBZdPkdIzKQMIWAgBFDWKJJxQhZhRCj4SeD3ynMkEcLD0EZoG3hRcn1QL7kCrwPCHAIhoLDz7LmGMswGFEjnzYpbN5mO8tQX8O54YPCCs38kxhXaPeWNYpQEwq4xuCTdeiLJcxIaR3g5IdvZHCTZYj0iyksmkpYZdcI4iHId9vBSTvRVBG0UfoTuMIT8UY5kyExCeQxyjGsY9RgPiJbA04lXCAWBMHeeMQns80lUQ3k92HGwt+ExxxwTW0/pDkL/iZpIAmM7ESAYhKKJkDDWEWGChyw8Z6Gg0l4pJxJZAcYa1imyB2LUw0obKW//YrwnuoX3Ip8AyxC4DwYrnjsJ9EnWvKN8VibleV+RPVIghRDrHFjdUbJuuukmu8cWVtyKrvOpCrDO49mJClNYrZnY8bCS7ARFEMURy7BTONN5prgGwQLhAy8GgkmcwMbnCGYcWPAzeTz4fYRJ7pfKa8HnWJvTKSkorCRtQBjHgp3tgfUepSYphLuylhMvaa4Ptw1ELsBLx/pSBEvqAkESpTKXcF/qOqkAT1vC04XwWh4F0oWQZSP00d7xuLB2joyLKEAk9sDDjVeRdWVJnz8JtFUMMkmUFELBaX/0gWwPFMioMhcHRqQkigEKJEoia6AZMxx4MCknlBPaEGVF33X3QxkhygFDUBIYg5J6pYDfQwkh/BQDAOG19BPqk3thHMu1F4nfTOolRYHGexZXR+kO1oKyt2YSGOMoA7z2LjTdQfsljJe2BG5cp4/hGeU7YQMh7Z7P8Q6Goc4xNjHmphtvo+ABpg0wzrAWnnZP/yIihHJB8c+mvtNBm6NuiGIJt9EoXMP4lym6IZt6FhVDCqQQYp2jX79+1op9wgknJE5CwEQWFsiSCGj5hlA4LNpxIV1MpAh/COwu/I/nRYhnMsYryXrPKITx4gnEU0i4J8IB18WtS0SIQdDhd/BEZlIgXeIVBJ24bKuUKYohHqJ0oV5YvwnVQqC+8cYbsz7wIPA7SesPaz7rQ/Fk5fogLC+XILiR2IJ2jTJJOHIuoY5ZM+UyFWcCjxkCL8IfbTHb92UtH20RwS8JrMciDJtkK2QPdhCKidcIxQMFDiUzDoRp+gAZOXluF/qdCtoQz+dC7QoB1ozhpUqnFGDAoQ/w3ChnYYUDLx9eO9YaoyRgAKD/p4pEyASe9nRr08LwzPy2y5iL8cZx4okn2vVqGMPImpkK6hBFCiWYKJNMYaNcT7vIdXKeikC7Qxlj7SMKYRgUS9ocXmnKi3bKelTqje+5CAQHRgf6bdTzTnvlM76XNLSWvoECT1kxJrq5hUQ/eIrp76xppPzjoL/QFuhfHKn6oQPFl7rhWTEepIL3ZoxhbEoF9cy4Fd0OReQHKZBCiLUOJgqIU/I4h/LEeTdpco6JxQld4e+g8DD5cq2b7LgGIcYJ0e73ssV9j9/jntmCYMY6RZLCIFCE4X4oeHgTEEIQEhEsEMqYiAmBwqtG+C5KBwdCIklmyJ6KYEBoEd/j+dikPvyM/I2AQ5kRioTQmgmEPwRSlFKUOLyBLiSP8iWsFcUQhTWdN4f3Zo0PyYDKc5CFl7C9TArv2gaCGSF7eJfJtIv3JtegaKCc8ltJvAy0QdLmI3BiaEiVlCoVeMH4HdpJtC9HoT2OGjXKtneSQYXBeIEyglLEHpYI03H9lvdi3znW9mFsYAuFdMqrC99GcE0nvFYmGBAor+iYEAaPGIYc+m3Ys0OZYEDCO4myT3mhsHB9efsLfR4FJ5OSQv0SskoSGBJ0oSCFYc01BhGel30uU0UxMKYxLrq9SnmXdKCgUFaE6xYCjK30GeqCfhMud8oRBY3PCK1GwWI+A8rDeevCOK9c1OiD0Y9+wfl0bcWBcYbxk/ux9jG8bhZFlC2hMNQQFcPa4bh+w+8wxmNAxIvJfMM7pIK+z/OhoKbyvtNuUGxpy+n6IIZWfqtQ6nldRwqkEGKtggnCWbudAhXFZWxDUMGaSgZTEg0gdHGg2DApM3kxKRFCxOTDejImULJbPvfcc6XKDxM6Slc2MOk5DyATf3lCshDweF8mYjLtIfghpPFuWN+ZnHlGLMOEmyGIkLCG/6MI8B3CXK+99lrrrcKjh0KIoIbFF0GUdS4I5G7rE34PAQcBnFAl0v9zP2cddoIIAo4rHwcKLCGVeKII52IvSn6bUE5+n+0+EBK4ZzpFg/dAiKFuECyyPfBqOcv5uoJLmESbZssVFKh8KMi0GzzTKE0IbemgndAvMFYgqCb19odxSXcw2MQpfIAHBYGUjI70UzxVTmh2UN8It3gmEYTpv1GBmraNVw4wnnBfxpJ0iiv9BUUM40iheDYYr6in6N6OYTAWUX+MO7yDe0f6Nd49lDT6Cv2ZcG/6WrRMk0KiLNpnOPtlGKcAYKRiayHKMpwcxoFRiayjjE0oWIS4RkFpYTzGWMGYxxibaWyljTIGEyqbjz6TLfQbvORuLnOeX7xseGZ5JzeOuTrGqEY5uiNMqneiPhnbqX/aeioYx1nzypIPEvtQN/x+GH4DYw9lyPMxN8R5F5mj6HdE/zBXcW30ecNQL1yPITPVmM338XiyZ2i6cZ05h8+TrmkWFWPDawh0F0KItQC8BWSgY49DJlunTCFAMOGxzpEJBMsrVmks1QimCCQIOUxETDJM2giuTIYoPQhPTJxY4hGwEFKwtiIQoTgxIaF0JfVAsHYPQYANvBGcEBQQ1FB4eRaeNd1E6EDBxcqOYMW78Ozu3mQfZOIlYQfKBKGrTPJcy0SL8IA1m3dC4KK82L6DNTooeE7oQBDjuygMCBGUGyFThB/hnSCBAkkeUPgQGsj6hxcBYZ9yQiGkjJy12gnaCJSUKd/B80g9IbSTbTGcGEJkhnbOth0YBKhvkr/kK/087ZJ+gtebds/6qjD0NbxDtD/aIcoIygrtCUUEwwYeUtoO/TATtB+MO3yfdVZhzzQh3CjNKB4Ydmj79CWEadqtC8vkHG2W8uH3aXv0OxQH2h4GCxQmJ8iiaKKgcNAe8aClgvBO3pEwZ9pvkn6bb+hveHn4Ny7RDe/JM6N0o9RTZ3gYeV+EfvozYxDvhkLO34yPYY8TMOagiJONlX6dCsbd+++/327pw9gThv7PZ9Qf4yFjGIoRxivaiAMFB2MfYzvtibrl96lDFHiMGrQR3o2xjTrkvjz/5ZdfbsfVVKCI0i7oN4XgRWbcRJHmfVDwqAfGSg76DG2Nc4z/jMMnnXSSLS/KAs85nvawkkT93nnnndZ7G05Qxv2ZI+g31A1zHucclDn9i3LHgMj8yhxFSC393oXKovBSF0Q/8DzMFcyhKLf0dfqPyzHAOE/f5Fnx9GPsSaXQOUMliYFYy0ydxkEdDx482C4JYB1mKngP2jnZqdNFuIjcUM3vjKlNA0IIUUBg3cSiiaDqhi4EaRRAJjGEAyZIlDUESq5DQGXiRABiUsYDwcTIpIbg5K5nImSiQtBE6GIyY0JHUWLyJtQoqfDIxIoAiwLnnpPf5PmwtDJBJ7kX1lmei8kQKzHPiTLBM/GcCNLcL04oYpJncnbeWp4foSAaMgVM5Fh48dwgtPCsCGSUQfi9uQbBAAGde1C2lBUKIX87EOipK+6HQMH9uIZ6cJ5MkQzqGqMJ3jcULIRlhM5oHeYSBHaSZ5B85eqrrw7OlkCbpG/RHqln2jfP4to5bZW2k9TgwvcQ+DBy4F0NfwfPCe3feRJpp0A7QlFxCiRlxDNzLcK5U4L5nLbXsmVL218cjANOyCTUOpVnkXvglR8yZIj1ppO4qhDguS6++GKrjPF80bZAuRF5gJcLHwF92CnQ/I0BySnYnGd8o3+G78O1rL9G0Rk1alTaDdcZkwhzZywYNmxYcLYExgxCjxkHuD91RZ3QPsJKKZ8TGslz8dsYrKhLno/xEuNX+Pl4dowprHuljbq2EIXfI8yVtoMSksSokW9QkDFeUmYotShtvCdzGXXDu9OWgb/xtPIvkTOE9pN1Nbz+l3Ge8sGD2LNnz+BsCfQLIhb4PTLdhpPJUeasR8W4CJQ7BwZFZ4R055kb6ffMD66sqQ/qkrYRLlf6K+MV9c5WI7SvOBhL7rrrLmskpY0xj8eBAYmkWSjCqfoq9cz4iOGX0HRRCfgNQwghhBABvuDq+YK51759e+/II4/0WrRo4R100EGeL8DYz8L4Qpj32GOPeUcffbTnCy9eq1atvIMPPtg76aSTPF/oCq4qP88//7z97VNPPdXzFQbPF5SCT/KHrxx6d9xxh3fCCSd4vkAfnM0fs2fP9nyB1fMVnuBM/vAVCVu3++23nzdy5Ejv9ddft7/rC/HBFatZunSpd8MNN3hnnXWW5wvZwdnC4LXXXvO22WYbz1cegjOree+992x77NChg7dw4cLgbHZQTuPHj/d8Zd2bOXNmcDYe2uTYsWNtmX7++efB2fwydOhQb9ddd/V8RcubN2+eN27cuOCTssydO9f2y3//+9/eb7/9FpytWu677z6vdu3a3oMPPhicSQbv2aZNG+/aa68t8y6PP/64t+mmm3offvhhcGY1jFe+4uz5yrb3ySefBGfzC23SV1g9X5GzY9b06dM9X6kMPl3N4sWLvWOOOca79dZbbXuLg/OHHXaY17t375TXwKxZs7yioqLYMhD5oepjMYQQQogCAg8W3jfWbuJ1IuyP8F7Cd/ECh8FzgIcLC7nz1uIlxGuVyqKeFDxMrH/FU4b3gLVvSTzXFQVPCJZ8PImEMOYbQvYoZ8Lp8g3eMrxXeMIJhyMkD09XXEgw3hs+JyyQaIVCgggKvG941aIQxsdBuVbkufE2+XKiPdJBmySsEg8koc+VAZ4zvJh4Tgmt5O84COUlSoPywotXCOA1xruXbQZlvJP0EyJjGBsALx7eO9ae855R8Bbi6SRclTBeogbyCZ5A2h6/w/uxJIJIoLjIE0KsiWY57bTT1vCiO/A6Ej6LpzbVNbRPwtfZI5foBFE5SIEUQgghQiCoEJJL6NUff/xhM0YinBHSR4hdGK4lfAsBlnVahJYh5BH+WxGBFaV16NChNhyaEDSEsVRhehUBJQnhMqwk8E6sYzr66KOtsEsocj6hnC677DIbIofAmE8IuaOeEGhRvvgX5SKqmBNWyNosQuZICJJKeK0qMCqQmIo1cYT/OqhHBHiEdsL6w6HlSWEPXTL8EgZLOCLbOSDks+Y1FZRT586d7To6QjTzDUo9ygeKBfsl0l6jEBKL0nTyySeXWW9ZlTCeoDiRIC26vjgTtF3qgSQ37FXJmkASnGEIIWwz1fiAYs/3WIPqwsHzBc+AoYvxj/BUwmMxRkXHQgw5t956qw3FThWWigGDUHMSsaVbg4uRi3ESw11lGNhEgD/YCCGEECICIahDhgzxpk6dasM5feHIu/LKK2NDqXyh3YZ9+kpQcKb8LFmyxLvuuus8X4G14W7RsNlcQahqr169vHfffTc4U5Zvv/3W85UUWwZcm29eeeUVz1fuvOLi4uBM1UBI5osvvuj5SpT32WefBWcLE0KcCZmmroCwW1+Q9vbdd1/v5Zdftucqix9//NHzlQb7+z/99FNwtmogZLJfv37enXfe6fmKZnC26iHE0lcEPV9xCs5UDrRpwkAJySbsvioh/PaSSy7xLr300uDMmjDm3XTTTd75558fnInnq6++8tq1a+dNmzYtb+OkiEdZWIUQQogYCBXD40iGSsI5CWMluQVJLPAGhMHbgXWfjJ/hRBXZQojs+PHjrXWeDLhdu3a1YbK5htA3tqvBE8DWCXEhZmTlxAtL9k68AYTQ5dPCj5eBBEEk3mCPQLxsVQHeX8KXBwwYkDZDayGAdwkvI94l6pHQSNoq2/mQWCXaTvMJv0V7wRtEBmuyvebDa54J2jQZQAmnZD/DJMmcKgvqh75G3yYbbWWBB71FixY2igIvKNvdVBW0VbKj08dStY+pU6fa8FeS8bhkPlGIEmCsIHwaL3Q+xkmRGmVhFUIIIWJgqwQy6bL1CYodKekJsyRlfvfu3YOrSsIGEYpQskhHX17FB4GXMEEyLbK+jdCtXK+9Q3hE0SWzKxkzyS5KNst0whdKNFl9yc4Y3eohH6CkI1zze1UBYY/sa5kqe2ShwRpOjB2suUUBr2oInyVbNmGjlakkOWirGAH4/UJSHgsBlGvCjI877rjgTOXDGEcIcjpjFJlZCTVP134wUpANmnEiX9saidRIgRRCCCEiIGiRPh5lkAQVwLojtn1gfQ/eSOe1Q4gZO3asFVbZV7C8vPzyy9a7yZomrPO5VGBQHFmPxDY2CHAovAherLNkmwAhhBAiKVptKoQQQkRA2UKJDHt0SFjB3ptkQMSK78BDx7UVUfjweuENxON46aWX2sQS3DPbA08pSXHYt41QQu7LRuqEq6L8ks2VzK587jJnCiGEENkgD6QQQggRgXV/ZAQlBT5r/4DpEgWMdTdkWiUMlHVfbNjOtgKEurKVR7bgFUR5JKMm65RYv1ZeSJ/P4RRJF05IuBdZKx2sN0SRbNOmjTIXCiGEyAopkEIIIUQIpkWUOdbisYVGOIkDyXKaNWtmE5VMnDjRevHYa46kED179sw6aQjeS9LPjxs3Lu97tIVhPedNN90Uu/2BEEIIkQ4pkEIIIUQIvHd4F1nbyB54YUhYwr5yU6ZMsR5HsqWyphAlk42ss4U9+wgvzff+bGHIyNiyZUubqKcys3QKIYRYN5ACKYQQQoQggyMZWBs1amQ3wY5CaCsKGFs8sK6QjfZbtWplGjduHFyRHDK3ElpKkpvKhGyqeFGFEEKIbJECKYQQQoRg/zH2S2MPRpLmRCHUlD333n//fbtece+99zZ9+/atlC0uhBBCiKpGK+eFEEKIAGyqbFC9cuVKmwk1Drb2uOCCC2ySmtdff92Gr0p5FEIIsb4gBVIIIYQIIJx03rx5dksO1gqmgo2w69evbze6btiwYXBWCCGEWPeRAimEEEL4/P777zZ89YknnrCeSBLmpKJWrVrm3HPPNbvvvrvd+F8IIYRYX9AaSCGEEEIIIYQQiZAHUgghhBBCCCFEIqRACiGEEEIIIYRIhBRIIYQQQgghhBCJkAIphBBCCCGEECIRUiCFEEIIIYQQQiRCCqQQQgghhBBCiERIgRRCCCGEEEIIkQgpkEIIIYQQQgghEiEFUgghhBBCCCFEIqRACiGEEEIIIYRIhBRIIYQQQgghhBCJkAIphBBCCCGEECIRUiCFEEIIIYQQQiRCCqQQQgghhBBCiERIgRRCCCGEEEIIkQgpkEIIIYQQQgghEiEFUgghhBBCCCFEIqRACiGEEEIIIYRIhBRIIYQQQgghhBCJkAIphBBCCCGEECIRUiCFEEIIIYQQQiRCCqQQQgghhBBCiERIgRRCCCGEEEIIkQgpkEIIIYQQQgghEiEFUgghhBBCCCFEIqRACiGEEEIIIYRIhBRIIYQQQgghhBCJkAIphBBCCCGEECIRUiCFEEIIIYQQQiRCCqQQQgghhBBCiERIgRRCCCGEEEIIkQBj/h8/wHu6i6baMAAAAABJRU5ErkJggg==)"
      ]
    },
    {
      "cell_type": "code",
      "execution_count": 12,
      "metadata": {
        "id": "jaTQoY0Ik-1o"
      },
      "outputs": [],
      "source": [
        "def print_table(header, data):\n",
        "    table_width = 79\n",
        "    header_line = f'| {header.center(table_width - 4)} |'\n",
        "    separator_line = f'+{\"-\" * (table_width - 2)}+'\n",
        "\n",
        "    print(separator_line)\n",
        "    print(header_line)\n",
        "    print(separator_line)\n",
        "\n",
        "    for row in data:\n",
        "        row_line = f'| {row[0].ljust(30)} | {row[1].ljust(15)} | {str(row[2]).ljust(24)} |'\n",
        "        print(row_line)\n",
        "\n",
        "    print(separator_line)\n",
        "\n",
        "def evaluate(estimator_name, metrics_set):\n",
        "    print(f'{\" Evaluation \":-^79}')\n",
        "    results_in = {}\n",
        "    results_out = {}\n",
        "    if dataset_name == \"Jobs\":\n",
        "        ate_in_gt, ate_out_gt = helper.load_Jobs_ground_truth(\n",
        "            datasets_folder, dataset_name, details=False\n",
        "        )\n",
        "        mu0_in, mu1_in, mu0_out, mu1_out = None, None, None, None\n",
        "        x_all, t_all, yf_all = helper.load_Jobs_observational(\n",
        "            datasets_folder, dataset_name, details=False\n",
        "        )\n",
        "        x_test_all, t_test_all, yf_test_all = helper.load_Jobs_out_of_sample(\n",
        "            datasets_folder, dataset_name, details=False\n",
        "        )\n",
        "    elif dataset_name == \"TWINS\":\n",
        "        mu0_in, mu1_in, mu0_out, mu1_out = helper.load_TWINS_ground_truth(\n",
        "            datasets_folder, dataset_name, details=False\n",
        "        )\n",
        "        ate_in_gt = np.mean(mu1_in - mu0_in)\n",
        "        ate_out_gt = np.mean(mu1_out - mu0_out)\n",
        "        x_all, t_all, yf_all = helper.load_TWINS_observational(\n",
        "            datasets_folder, dataset_name, details=False\n",
        "        )\n",
        "        x_test_all, t_test_all, yf_test_all = helper.load_TWINS_out_of_sample(\n",
        "            datasets_folder, dataset_name, details=False\n",
        "        )\n",
        "        mu0_in, mu1_in, mu0_out, mu1_out = helper.load_TWINS_ground_truth(\n",
        "            datasets_folder, dataset_name, details=False\n",
        "        )\n",
        "\n",
        "    # process in sample data\n",
        "    data_size_in = x_all.shape[0]\n",
        "    num_realizations_in = 1\n",
        "    if len(x_all.shape) == 3:\n",
        "        num_realizations_in = x_all.shape[2]\n",
        "        new_x_all = np.zeros((data_size_in * num_realizations_in, x_all.shape[1]))\n",
        "        for i in range(num_realizations_in):\n",
        "            new_x_all[i * data_size_in : (i + 1) * data_size_in, :] = x_all[:, :, i]\n",
        "        x_all = new_x_all\n",
        "\n",
        "    \n",
        "    # squeeze all eval data\n",
        "    x_all = np.reshape(x_all, (data_size_in*num_realizations_in, x_all.shape[1]))\n",
        "    t_all = np.reshape(t_all, (data_size_in * num_realizations_in), order='F')\n",
        "    yf_all = np.reshape(yf_all, (data_size_in * num_realizations_in), order='F')\n",
        "\n",
        "    indices_all = np.arange(x_all.shape[0])\n",
        "\n",
        "    x_train, x_eval_orig, t_train, t_eval_orig, yf_train, yf_eval_orig, indices_train, indices_eval = train_test_split(\n",
        "        x_all, t_all, yf_all, indices_all, test_size=0.2, random_state=seed\n",
        "        )\n",
        "    \n",
        "    # process out of sample data\n",
        "    data_size_out = x_test_all.shape[0]\n",
        "    num_realizations_out = 1\n",
        "    if len(x_test_all.shape) == 3:\n",
        "        num_realizations_out = x_test_all.shape[2]\n",
        "        new_x_test_all = np.zeros((data_size_out * num_realizations_out, x_test_all.shape[1]))\n",
        "        for i in range(num_realizations_out):\n",
        "            new_x_test_all[i * data_size_out : (i + 1) * data_size_out, :] = x_test_all[:, :, i]\n",
        "        x_test_all = new_x_test_all\n",
        "    \n",
        "    # squeeze all test data\n",
        "    x_test_all = np.reshape(x_test_all, (data_size_out*num_realizations_out, x_test_all.shape[1]))\n",
        "    t_test_all = np.reshape(t_test_all, (data_size_out * num_realizations_out), order='F')\n",
        "    yf_test_all = np.reshape(yf_test_all, (data_size_out * num_realizations_out), order='F')\n",
        "\n",
        "    #Computing relevant evaluation metric for ensemble for in sample data\n",
        "    nuisance_stats_dir= results_folder + '//..//models//' + dataset_name + '//'\n",
        "    # Nuisance Models\n",
        "    prop_prob_orig, prop_score_orig = get_nuisance_propensity_pred(x_eval_orig, t_eval_orig, save_dir=nuisance_stats_dir)\n",
        "    outcome_s_pred = get_nuisance_outome_s_pred(x_eval_orig, t_eval_orig, save_dir=nuisance_stats_dir)\n",
        "    outcome_t_pred = get_nuisance_outcome_t_pred(x_eval_orig, t_eval_orig, save_dir=nuisance_stats_dir)\n",
        "    outcome_r_pred = get_nuisance_outcome_r_pred(x_eval_orig, save_dir=nuisance_stats_dir)\n",
        "\n",
        "    outcome_s_pred_orig = np.array(outcome_s_pred)\n",
        "    outcome_t_pred_orig = np.array(outcome_t_pred)\n",
        "    outcome_r_pred_orig = np.array(outcome_r_pred)\n",
        "\n",
        "    #Computing relevant evaluation metric for ensemble for out of sample data\n",
        "    # Nuisance Models\n",
        "    prop_prob_test, prop_score_test = get_nuisance_propensity_pred(x_test_all, t_test_all, save_dir=nuisance_stats_dir)\n",
        "    outcome_s_pred = get_nuisance_outome_s_pred(x_test_all, t_test_all, save_dir=nuisance_stats_dir)\n",
        "    outcome_t_pred = get_nuisance_outcome_t_pred(x_test_all, t_test_all, save_dir=nuisance_stats_dir)\n",
        "    outcome_r_pred = get_nuisance_outcome_r_pred(x_test_all, save_dir=nuisance_stats_dir)\n",
        "\n",
        "    outcome_s_pred_test = np.array(outcome_s_pred)\n",
        "    outcome_t_pred_test = np.array(outcome_t_pred)\n",
        "    outcome_r_pred_test = np.array(outcome_r_pred)\n",
        "\n",
        "    estimation_result_folder = os.path.join(\n",
        "        results_folder, dataset_name, estimator_name\n",
        "    )\n",
        "    (\n",
        "        y0_in,\n",
        "        y1_in,\n",
        "        ate_in,\n",
        "        y0_out,\n",
        "        y1_out,\n",
        "        ate_out,\n",
        "    ) = helper.load_in_and_out_results(estimation_result_folder)\n",
        "    \n",
        "    if dataset_name == \"TWINS\":\n",
        "        y0_in = y0_in.reshape((-1, 1))\n",
        "        y1_in = y1_in.reshape((-1, 1))\n",
        "        y0_out = y0_out.reshape((-1, 1))\n",
        "        y1_out = y1_out.reshape((-1, 1))\n",
        "        ate_in = ate_in.reshape((-1, 1))\n",
        "        ate_out = ate_out.reshape((-1, 1))\n",
        "            \n",
        "    results_in[estimator_name] = {}\n",
        "    results_out[estimator_name] = {}\n",
        "\n",
        "    # process in sample data\n",
        "    ite_estimate_in = y1_in.reshape((-1, 1), order='F') - y0_in.reshape((-1, 1), order='F')\n",
        "    ite_estimate_eval = ite_estimate_in[indices_eval]\n",
        "\n",
        "    # get indices of non nan values\n",
        "    non_nan = ~np.isnan(ite_estimate_eval)\n",
        "    non_nan_inds = np.where(non_nan)[0]\n",
        "    ite_estimate_eval = ite_estimate_eval[non_nan_inds]\n",
        "    x_eval = np.take(x_eval_orig, non_nan_inds, axis=0)\n",
        "    t_eval = t_eval_orig[non_nan.squeeze()]\n",
        "    yf_eval = yf_eval_orig[non_nan.squeeze()]\n",
        "    \n",
        "    prop_score = prop_score_orig[non_nan.squeeze()]\n",
        "    outcome_s_pred = np.transpose(np.transpose(outcome_s_pred_orig)[non_nan.squeeze()])\n",
        "    outcome_t_pred = np.transpose(np.transpose(outcome_t_pred_orig)[non_nan.squeeze()])\n",
        "    outcome_r_pred = outcome_r_pred_orig[non_nan.squeeze()]\n",
        "    prop_prob = prop_prob_orig[non_nan.squeeze()]\n",
        "\n",
        "    # process out of sample data\n",
        "    ite_estimate_out = y1_out.reshape((-1, 1), order='F') - y0_out.reshape((-1, 1), order='F')\n",
        "    ite_estimate_eval_out = ite_estimate_out\n",
        "\n",
        "    # get indices of non nan values\n",
        "    non_nan = ~np.isnan(ite_estimate_eval_out)\n",
        "    non_nan_inds = np.where(non_nan)[0]\n",
        "    ite_estimate_eval_out = ite_estimate_eval_out[non_nan_inds]\n",
        "    x_eval_out = np.take(x_test_all, non_nan_inds, axis=0)\n",
        "    t_eval_out = t_test_all[non_nan.squeeze()]\n",
        "    yf_eval_out = yf_test_all[non_nan.squeeze()]\n",
        "\n",
        "    prop_score_out = prop_score_test[non_nan.squeeze()]\n",
        "    outcome_s_pred_out = np.transpose(np.transpose(outcome_s_pred_test)[non_nan.squeeze()])\n",
        "    outcome_t_pred_out = np.transpose(np.transpose(outcome_t_pred_test)[non_nan.squeeze()])\n",
        "    outcome_r_pred_out = outcome_r_pred_test[non_nan.squeeze()]\n",
        "    prop_prob_out = prop_prob_test[non_nan.squeeze()]\n",
        "\n",
        "    for metric in metrics_set:\n",
        "        metric_in = None\n",
        "        if metric in [\"MAE\", \"PEHE\"]:\n",
        "            metric_in = metrics.calculate_metrics(\n",
        "                y0_in, y1_in, ate_in, mu0_in, mu1_in, ate_in_gt, metric=metric\n",
        "            )\n",
        "            metric_out = metrics.calculate_metrics(\n",
        "                y0_out, y1_out, ate_out, mu0_out, mu1_out, ate_out_gt, metric=metric\n",
        "            )\n",
        "        elif metric == \"value_score\":\n",
        "            metric_in = metrics.calculate_value_risk(\n",
        "                ite_estimate_eval, x_eval, t_eval, yf_eval, dataset_name=dataset_name, prop_score=prop_score\n",
        "            )\n",
        "            metric_out = metrics.calculate_value_risk(\n",
        "                ite_estimate_eval_out, x_eval_out, t_eval_out, yf_eval_out, dataset_name=dataset_name, prop_score=prop_score_out\n",
        "            )\n",
        "        elif metric == \"value_dr_score\":\n",
        "            metric_in = metrics.calculate_value_dr_risk(\n",
        "                ite_estimate_eval, x_eval, t_eval, yf_eval, outcome_pred=outcome_t_pred, dataset_name=dataset_name, prop_score=prop_score\n",
        "            )\n",
        "            metric_out = metrics.calculate_value_dr_risk(\n",
        "                ite_estimate_eval_out, x_eval_out, t_eval_out, yf_eval_out, outcome_pred=outcome_t_pred_out, dataset_name=dataset_name, prop_score=prop_score_out\n",
        "            )\n",
        "        elif metric == \"value_dr_clip_prop_score\":\n",
        "            metric_in = metrics.calculate_value_dr_risk(\n",
        "                ite_estimate_eval, x_eval, t_eval, yf_eval, outcome_pred=outcome_t_pred, dataset_name=dataset_name, prop_score=prop_score, min_propensity=0.1\n",
        "            )\n",
        "            metric_out = metrics.calculate_value_dr_risk(\n",
        "                ite_estimate_eval_out, x_eval_out, t_eval_out, yf_eval_out, outcome_pred=outcome_t_pred_out, dataset_name=dataset_name, prop_score=prop_score_out, min_propensity=0.1\n",
        "            )\n",
        "        elif metric == \"tau_match_score\":\n",
        "            metric_in = metrics.calculate_tau_risk(\n",
        "                ite_estimate_eval, x_eval, t_eval, yf_eval\n",
        "            )\n",
        "            metric_out = metrics.calculate_tau_risk(\n",
        "                ite_estimate_eval_out, x_eval_out, t_eval_out, yf_eval_out\n",
        "            )\n",
        "        elif metric == \"tau_iptw_score\":\n",
        "            metric_in = metrics.calculate_tau_iptw_risk(\n",
        "                ite_estimate_eval, x_eval, t_eval, yf_eval, prop_score=prop_score\n",
        "            )\n",
        "            metric_out = metrics.calculate_tau_iptw_risk(\n",
        "                ite_estimate_eval_out, x_eval_out, t_eval_out, yf_eval_out, prop_score=prop_score_out\n",
        "            )\n",
        "        elif metric == \"tau_iptw_clip_prop_score\":\n",
        "            metric_in = metrics.calculate_tau_iptw_risk(\n",
        "                ite_estimate_eval, x_eval, t_eval, yf_eval, prop_score=prop_score, min_propensity=0.1\n",
        "            )\n",
        "            metric_out = metrics.calculate_tau_iptw_risk(\n",
        "                ite_estimate_eval_out, x_eval_out, t_eval_out, yf_eval_out, prop_score=prop_score_out, min_propensity=0.1\n",
        "            )\n",
        "        elif metric == \"tau_dr_score\":\n",
        "            metric_in = metrics.calculate_tau_dr_risk(\n",
        "                ite_estimate_eval, x_eval, t_eval, yf_eval, outcome_pred=outcome_t_pred, prop_score=prop_score\n",
        "            )\n",
        "            metric_out = metrics.calculate_tau_dr_risk(\n",
        "                ite_estimate_eval_out, x_eval_out, t_eval_out, yf_eval_out, outcome_pred=outcome_t_pred_out, prop_score=prop_score_out\n",
        "            )\n",
        "        elif metric == \"tau_dr_clip_prop_score\":\n",
        "            metric_in = metrics.calculate_tau_dr_risk(\n",
        "                ite_estimate_eval, x_eval, t_eval, yf_eval, outcome_pred=outcome_t_pred, prop_score=prop_score, min_propensity=0.1\n",
        "            )\n",
        "            metric_out = metrics.calculate_tau_dr_risk(\n",
        "                ite_estimate_eval_out, x_eval_out, t_eval_out, yf_eval_out, outcome_pred=outcome_t_pred_out, prop_score=prop_score_out, min_propensity=0.1\n",
        "            )\n",
        "        elif metric == \"tau_s_score\":\n",
        "            metric_in = metrics.calculate_tau_s_risk(\n",
        "                ite_estimate_eval, x_eval, t_eval, yf_eval, outcome_pred=outcome_s_pred\n",
        "            )\n",
        "            metric_out = metrics.calculate_tau_s_risk(\n",
        "                ite_estimate_eval_out, x_eval_out, t_eval_out, yf_eval_out, outcome_pred=outcome_s_pred_out\n",
        "            )\n",
        "        elif metric == \"tau_t_score\":\n",
        "            metric_in = metrics.calculate_tau_t_risk(\n",
        "                ite_estimate_eval, x_eval, t_eval, yf_eval, outcome_pred=outcome_t_pred\n",
        "            )\n",
        "            metric_out = metrics.calculate_tau_t_risk(\n",
        "                ite_estimate_eval_out, x_eval_out, t_eval_out, yf_eval_out, outcome_pred=outcome_t_pred_out\n",
        "            )\n",
        "        elif metric == \"influence_score\":\n",
        "            metric_in = metrics.calculate_influence_risk(\n",
        "                ite_estimate_eval, x_eval, t_eval, yf_eval, outcome_pred=outcome_t_pred, prop_prob=prop_prob\n",
        "            )\n",
        "            metric_out = metrics.calculate_influence_risk(\n",
        "                ite_estimate_eval_out, x_eval_out, t_eval_out, yf_eval_out, outcome_pred=outcome_t_pred_out, prop_prob=prop_prob_out\n",
        "            )\n",
        "        elif metric == \"influence_clip_prop_score\":\n",
        "            metric_in = metrics.calculate_influence_risk(\n",
        "                ite_estimate_eval, x_eval, t_eval, yf_eval, outcome_pred=outcome_t_pred, prop_prob=prop_prob, min_propensity=0.1\n",
        "            )\n",
        "            metric_out = metrics.calculate_influence_risk(\n",
        "                ite_estimate_eval_out, x_eval_out, t_eval_out, yf_eval_out, outcome_pred=outcome_t_pred_out, prop_prob=prop_prob_out, min_propensity=0.1\n",
        "            )\n",
        "        elif metric == \"r_score\":\n",
        "            metric_in = metrics.calculate_r_risk(\n",
        "                ite_estimate_eval, x_eval, t_eval, yf_eval, outcome_pred=outcome_r_pred, treatment_prob=prop_prob[:, 1]\n",
        "            )\n",
        "            metric_out = metrics.calculate_r_risk(\n",
        "                ite_estimate_eval_out, x_eval_out, t_eval_out, yf_eval_out, outcome_pred=outcome_r_pred_out, treatment_prob=prop_prob_out[:, 1]\n",
        "            )\n",
        "\n",
        "        if metric_in is None:\n",
        "            results_in[estimator_name][metric] = {\"mean\": None}\n",
        "        else:\n",
        "            results_in[estimator_name][metric] = {\n",
        "                \"mean\": np.mean(metric_in, where=(metric_in != 0)),\n",
        "            }\n",
        "        if metric_out is None:\n",
        "            results_out[estimator_name][metric] = {\"mean\": None}\n",
        "        else:\n",
        "            results_out[estimator_name][metric] = {\n",
        "                \"mean\": np.mean(metric_out, where=(metric_out != 0)),\n",
        "            }\n",
        "    \n",
        "    # In-sample results\n",
        "    header_in = f' In-sample results '\n",
        "    data_in = [[metric, estimator_name, results_in[estimator_name][metric][\"mean\"]] for metric in metrics_set]\n",
        "\n",
        "    # Out-of-sample results\n",
        "    header_out = f' Out-of-sample results '\n",
        "    data_out = [[metric, estimator_name, results_out[estimator_name][metric][\"mean\"]] for metric in metrics_set]\n",
        "\n",
        "    print_table(header_in, data_in)\n",
        "    print_table(header_out, data_out)"
      ]
    },
    {
      "cell_type": "markdown",
      "source": [
        "Select which estimator you want to evaluate below."
      ],
      "metadata": {
        "id": "2Uzy4JDpM0AB"
      }
    },
    {
      "cell_type": "code",
      "source": [
        "estimator = \"NN1\" #@param estimator_set = [\"OLS1\", \"OLS2\", \"NN1\", \"NN2\", \"RF1\", \"RF2\", \"Dragonnet\", \"TARNet\"]"
      ],
      "metadata": {
        "id": "FK41I9biBEa0"
      },
      "execution_count": 15,
      "outputs": []
    },
    {
      "cell_type": "markdown",
      "source": [
        "Select the metric (or \"ALL\") from below to retreive the value. Ensure you've selected an estimator at the previous step."
      ],
      "metadata": {
        "id": "sCArxGr7WoT8"
      }
    },
    {
      "cell_type": "code",
      "source": [
        "metric = \"ALL\" #@param [ \"MAE\", \"PEHE\", \"value_score\", \"value_dr_score\", \"value_dr_clip_prop_score\", \"tau_t_score\", \"tau_s_score\", \"tau_match_score\", \"tau_iptw_score\", \"tau_iptw_clip_prop_score\", \"tau_dr_score\", \"tau_dr_clip_prop_score\", \"influence_score\", \"influence_clip_prop_score\", \"r_score\", \"ALL\"]\n",
        "if metric == \"ALL\":\n",
        "  metric_set = [ \"MAE\", \"PEHE\", \"value_score\", \"value_dr_score\", \"value_dr_clip_prop_score\", \"tau_t_score\", \"tau_s_score\", \"tau_match_score\", \"tau_iptw_score\", \"tau_iptw_clip_prop_score\", \"tau_dr_score\", \"tau_dr_clip_prop_score\", \"influence_score\", \"influence_clip_prop_score\", \"r_score\"]\n",
        "else:\n",
        "  metric_set = [metric]\n",
        "\n",
        "evaluate(estimator, metric_set)"
      ],
      "metadata": {
        "colab": {
          "base_uri": "https://localhost:8080/"
        },
        "id": "GkyNYLSwdVeW",
        "outputId": "895034ca-b617-411e-fb1d-acfa16723e37"
      },
      "execution_count": 16,
      "outputs": [
        {
          "output_type": "stream",
          "name": "stdout",
          "text": [
            "--------------------------------- Evaluation ----------------------------------\n",
            "+-----------------------------------------------------------------------------+\n",
            "|                              In-sample results                              |\n",
            "+-----------------------------------------------------------------------------+\n",
            "| MAE                            | NN1             | 0.033310226133823354     |\n",
            "| PEHE                           | NN1             | 0.033310226133823354     |\n",
            "| value_score                    | NN1             | -0.42828345358835657     |\n",
            "| value_dr_score                 | NN1             | -0.0032980584014291664   |\n",
            "| value_dr_clip_prop_score       | NN1             | -0.004038355332557093    |\n",
            "| tau_t_score                    | NN1             | 0.1440715152240839       |\n",
            "| tau_s_score                    | NN1             | 0.054470807              |\n",
            "| tau_match_score                | NN1             | 0.18029569767738704      |\n",
            "| tau_iptw_score                 | NN1             | 1.0529598612459752       |\n",
            "| tau_iptw_clip_prop_score       | NN1             | 4.276664372730507        |\n",
            "| tau_dr_score                   | NN1             | 0.1616172440684425       |\n",
            "| tau_dr_clip_prop_score         | NN1             | 0.6889527032003061       |\n",
            "| influence_score                | NN1             | 0.17670320300042375      |\n",
            "| influence_clip_prop_score      | NN1             | -0.05521632168362111     |\n",
            "| r_score                        | NN1             | 0.009203097807509822     |\n",
            "+-----------------------------------------------------------------------------+\n",
            "+-----------------------------------------------------------------------------+\n",
            "|                            Out-of-sample results                            |\n",
            "+-----------------------------------------------------------------------------+\n",
            "| MAE                            | NN1             | 0.03248070186635847      |\n",
            "| PEHE                           | NN1             | 0.03248070186635847      |\n",
            "| value_score                    | NN1             | -0.42073249693367193     |\n",
            "| value_dr_score                 | NN1             | -0.00831366205604571     |\n",
            "| value_dr_clip_prop_score       | NN1             | -0.06447884778210113     |\n",
            "| tau_t_score                    | NN1             | 0.14700601991622472      |\n",
            "| tau_s_score                    | NN1             | 0.05386997               |\n",
            "| tau_match_score                | NN1             | 0.18628410437469067      |\n",
            "| tau_iptw_score                 | NN1             | 1.0224518250331838       |\n",
            "| tau_iptw_clip_prop_score       | NN1             | 3.6671418471253396       |\n",
            "| tau_dr_score                   | NN1             | 0.16378588190031318      |\n",
            "| tau_dr_clip_prop_score         | NN1             | 0.6879164192818071       |\n",
            "| influence_score                | NN1             | 0.1774956463541279       |\n",
            "| influence_clip_prop_score      | NN1             | -0.10103077912259385     |\n",
            "| r_score                        | NN1             | 0.00918614670301675      |\n",
            "+-----------------------------------------------------------------------------+\n"
          ]
        }
      ]
    },
    {
      "cell_type": "markdown",
      "source": [
        "# References\n",
        "[1] J. L. Hill, “Bayesian nonparametric modeling for causal inference,” Journal\n",
        "of Computational  and Graphical Statistics, vol. 20, no. 1, pp. 217–240, 2011.\n",
        "[Online]. Available: https://doi.org/10.1198/jcgs.2010.08162\n",
        "\n",
        "[2] R. J. LaLonde, “Evaluating the econometric evaluations of training programs\n",
        "with experimental data,” The American Economic Review, vol. 76, no. 4, pp.\n",
        "604–620, 1986. [Online]. Available: http://www.jstor.org/stable/1806062\n",
        "\n",
        "[3] U. Shalit, F. D. Johansson, and D. Sontag, “Estimating individual treatment\n",
        "effect: generalization bounds and algorithms,” in Proceedings of the 34th\n",
        "International Conference on Machine Learning, ser. Proceedings of Machine\n",
        "Learning Research, D. Precup and Y. W. Teh, Eds., vol. 70. PMLR, 06–11 Aug 2017\n",
        ", pp. 3076–3085. [Online].\n",
        "Available: https://proceedings.mlr.press/v70/shalit17a.html\n",
        "\n",
        "[4] Christos Louizos, Uri Shalit, Joris Mooij, David Sontag, Richard Zemel, and Max Welling. Causal effect inference with deep latent-variable models. In Proceedings of the 31st International Conference on Neural Information Processing Systems (NIPS'17), 6449–6459, 2017.\n",
        "\n",
        "[5] D. Almond, K. Y. Chay, and D. S. Lee. The costs of low birth weight.The Quarterly Journal of Economics,120(3):1031–1083, 2005.\n",
        "\n",
        "[6] D. Mahajan, I. Mitliagkas, B. Neal, and V. Syrgkanis, ‘Empirical Analysis of Model Selection for Heterogenous Causal Effect Estimation’, arXiv [cs.LG]. 2022.\n"
      ],
      "metadata": {
        "id": "6LqqReqIlQZg"
      }
    }
  ],
  "metadata": {
    "kernelspec": {
      "display_name": "Python 3 (ipykernel)",
      "language": "python",
      "name": "python3"
    },
    "language_info": {
      "codemirror_mode": {
        "name": "ipython",
        "version": 3
      },
      "file_extension": ".py",
      "mimetype": "text/x-python",
      "name": "python",
      "nbconvert_exporter": "python",
      "pygments_lexer": "ipython3",
      "version": "3.9.12"
    },
    "vscode": {
      "interpreter": {
        "hash": "1a0b5a31022a61b32d9bd73ec997b0a079a20f27350e8c7766473b50790ea745"
      }
    },
    "colab": {
      "provenance": [],
      "include_colab_link": true
    }
  },
  "nbformat": 4,
  "nbformat_minor": 0
}