{
  "cells": [
    {
      "cell_type": "markdown",
      "metadata": {
        "colab_type": "text",
        "id": "view-in-github"
      },
      "source": [
        "<a href=\"https://colab.research.google.com/github/VectorInstitute/Causal_Inference_Laboratory/blob/fk-lab/fairness_analysis_notebook.ipynb\" target=\"_parent\"><img src=\"https://colab.research.google.com/assets/colab-badge.svg\" alt=\"Open In Colab\"/></a>"
      ]
    },
    {
      "cell_type": "markdown",
      "metadata": {
        "id": "Cm00yLMXZW77"
      },
      "source": [
        "# Packages"
      ]
    },
    {
      "cell_type": "code",
      "execution_count": null,
      "metadata": {
        "id": "HZ0arJyAU1X2"
      },
      "outputs": [],
      "source": [
        "!git clone https://github.com/VectorInstitute/Causal_Inference_Laboratory.git\n",
        "%cd Causal_Inference_Laboratory\n",
        "!pip install flaml\n",
        "!pip install tensorflow_addons\n",
        "!pip install keras-tuner\n",
        "!pip install econml"
      ]
    },
    {
      "cell_type": "code",
      "execution_count": null,
      "metadata": {
        "id": "XYQGiIjTTXy3"
      },
      "outputs": [],
      "source": [
        "import numpy as np\n",
        "from IPython.display import Image\n",
        "import pandas as pd\n",
        "import ipywidgets as widgets\n",
        "\n",
        "from fairness.fairness_cookbook import fairness_cookbook\n",
        "from fairness_analysis import load_data, plot_confidence_intervals"
      ]
    },
    {
      "attachments": {},
      "cell_type": "markdown",
      "metadata": {
        "id": "XB9UQpPIZhbH"
      },
      "source": [
        "# Loading Data\n",
        "Select the dataset you wish to work with."
      ]
    },
    {
      "cell_type": "code",
      "execution_count": null,
      "metadata": {},
      "outputs": [],
      "source": [
        "dataset_name = widgets.Dropdown(\n",
        "    options=[('Census', 0), ('Berkeley', 1), ('Compas', 2)],\n",
        "    value=1,\n",
        "    description='Dataset:',\n",
        ")\n",
        "dataset_name"
      ]
    },
    {
      "cell_type": "code",
      "execution_count": null,
      "metadata": {
        "colab": {
          "base_uri": "https://localhost:8080/"
        },
        "id": "chiojYiMq45n",
        "outputId": "af5a00b2-103f-4cc2-d2cd-4fb8b292ecb1"
      },
      "outputs": [],
      "source": [
        "\n",
        "dataset_name = dataset_name.label\n",
        "if dataset_name == \"Census\":\n",
        "  data_addr = \"data/CFA/gov_census_numeric.csv\"\n",
        "elif dataset_name == \"Berkeley\":\n",
        "  data_addr = \"data/CFA/berkeley_numeric.csv\"\n",
        "elif dataset_name == \"Compas\":\n",
        "  data_addr = \"data/CFA/compas_numeric.csv\"\n",
        "\n",
        "data = load_data(data_addr)\n",
        "    \n",
        "data_header = list(pd.read_csv(data_addr).columns.values)[1:]\n",
        "for i in range(len(data_header)):\n",
        "  print(\"Column\", i, \": \", data_header[i])"
      ]
    },
    {
      "cell_type": "markdown",
      "metadata": {
        "id": "TbRo0rnTZsuZ"
      },
      "source": [
        "# Analyzing Data"
      ]
    },
    {
      "cell_type": "code",
      "execution_count": null,
      "metadata": {
        "colab": {
          "base_uri": "https://localhost:8080/",
          "height": 317
        },
        "id": "R7budQxPee4Z",
        "outputId": "7f0bd37c-8d05-471f-88f9-fd981faa34fe"
      },
      "outputs": [],
      "source": [
        "Image('notebook_images/standard_fairness_model.png', height=300)"
      ]
    },
    {
      "attachments": {},
      "cell_type": "markdown",
      "metadata": {
        "id": "zIdQnAM4TXy5"
      },
      "source": [
        "You should set indecis of the columns for each of the X, Z, W, Y variables in a list:\n",
        "- X: the protected attribute (e.g., gender, race, religion) \t\t\n",
        "- Z: the set of confounding variables, which are not causally influenced by X (e.g., demographic information, zip code)\n",
        "- W: mediator variables that are possibly causally influenced by X (e.g., educational level or other job-related information)\n",
        "- Y: the outcome variable (e.g., admissions, hiring, salary).\n",
        "\n",
        "*x0* and *x1* are the values of the protected arribute.\n"
      ]
    },
    {
      "cell_type": "code",
      "execution_count": null,
      "metadata": {
        "id": "JyaHDUxGTXy7"
      },
      "outputs": [],
      "source": [
        "if dataset_name == \"Census\":\n",
        "    X = [0]\n",
        "    Y = [11]\n",
        "    W = [1, 2, 3, 4, 5, 16]\n",
        "    Z = [6, 7, 8, 9, 10, 12, 13, 14, 15]\n",
        "    x0 = 0\n",
        "    x1 = 1\n",
        "elif dataset_name == \"Berkeley\":\n",
        "    X = [0]\n",
        "    Y = [11]\n",
        "    W = [1, 2, 3, 4, 5, 16]\n",
        "    Z = [6, 7, 8, 9, 10, 12, 13, 14, 15]\n",
        "    x0 = 0\n",
        "    x1 = 1\n",
        "elif dataset_name == \"Compas\":\n",
        "    X = [2]\n",
        "    Y = [8]\n",
        "    W = [3, 4, 5, 6, 7]\n",
        "    Z = [0, 1]\n",
        "    x0 = 0\n",
        "    x1 = 1 "
      ]
    },
    {
      "cell_type": "markdown",
      "metadata": {
        "id": "wicqBuQ6Z8Pq"
      },
      "source": [
        "# Experiment"
      ]
    },
    {
      "cell_type": "markdown",
      "metadata": {
        "id": "WhA7qcnZaGX0"
      },
      "source": [
        "## Initialization"
      ]
    },
    {
      "cell_type": "markdown",
      "metadata": {
        "id": "b9wjbRIWaZU6"
      },
      "source": [
        "Choose one of the estimators from the drop-down menu."
      ]
    },
    {
      "cell_type": "code",
      "execution_count": null,
      "metadata": {
        "colab": {
          "base_uri": "https://localhost:8080/",
          "height": 49,
          "referenced_widgets": [
            "909745cae5264229ae4f75e07e776246",
            "817bd802b20741938064808c79140d19",
            "e35a330636b840ad916e917c5b4f30f9"
          ]
        },
        "id": "dSJX0cSZhJLP",
        "outputId": "736abe9e-9a86-4bf0-f78d-72efc1dca2bc"
      },
      "outputs": [],
      "source": [
        "estimator = widgets.Dropdown(\n",
        "    options=[('AutoML', 10), ('OLS1', 0), ('OLS2', 1), ('RF1', 2), ('RF2', 3), ('NN1', 4), ('NN2', 5), ('IPW', 6), ('DML', 7), ('TARNet', 8), ('Dragonnet', 9)],\n",
        "    value=2,\n",
        "    description='Estimator:',\n",
        ")\n",
        "estimator"
      ]
    },
    {
      "cell_type": "markdown",
      "metadata": {
        "id": "Jgy0RD2gaakh"
      },
      "source": [
        "Write down number of runs."
      ]
    },
    {
      "cell_type": "code",
      "execution_count": null,
      "metadata": {
        "colab": {
          "base_uri": "https://localhost:8080/",
          "height": 49,
          "referenced_widgets": [
            "e4339ba65d354f848367b0cc03b23630",
            "c957f677d0c645869234bf4c40bd86d0",
            "d676b486219740a68c0012abeefac38e"
          ]
        },
        "id": "GWKfzoc8jlEx",
        "outputId": "0bd2ed6f-d166-4e12-c892-3169cd369e33"
      },
      "outputs": [],
      "source": [
        "num_run_text = widgets.Text(\n",
        "    value='',\n",
        "    placeholder='Enter number of runs',\n",
        "    description='Runs:',\n",
        "    disabled=False\n",
        ")\n",
        "num_run_text"
      ]
    },
    {
      "cell_type": "code",
      "execution_count": null,
      "metadata": {},
      "outputs": [],
      "source": [
        "num_rows_2_sample_text = widgets.Text(\n",
        "    value='',\n",
        "    placeholder='Enter number of rows to sample in each run',\n",
        "    description='Number of samples:',\n",
        "    disabled=False\n",
        ")\n",
        "num_rows_2_sample_text"
      ]
    },
    {
      "cell_type": "markdown",
      "metadata": {
        "id": "qYXXVMqKaqgD"
      },
      "source": [
        "## Running the experiments\n",
        "By running the cell below, you will get the fairness metrics estimation for each run."
      ]
    },
    {
      "cell_type": "code",
      "execution_count": null,
      "metadata": {
        "colab": {
          "base_uri": "https://localhost:8080/"
        },
        "id": "G9kFbkqKTXy7",
        "outputId": "339f771e-a83e-4213-9fe1-6b6b79418dbb"
      },
      "outputs": [],
      "source": [
        "estimator_name = estimator.label\n",
        "num_run = int(num_run_text.value)\n",
        "num_rows_2_sample = int(num_rows_2_sample_text.value)\n",
        "all_metrics = np.zeros((num_run, 4))\n",
        "for i in range(num_run):\n",
        "    print(\"-\" * 15 + \" Run \" + str(i) + \" \" + \"-\" * 15)\n",
        "    data_ck = data[np.random.choice(data.shape[0], num_rows_2_sample, replace=False)]\n",
        "    metrics = fairness_cookbook(data_ck, X = X, Z = Z, Y = Y, W = W,\n",
        "                                x0 = x0, x1 = x1, estimator_name = estimator_name)\n",
        "    all_metrics[i][0] = metrics[\"tv\"]\n",
        "    all_metrics[i][1] = metrics[\"ctfde\"]\n",
        "    all_metrics[i][2] = metrics[\"ctfie\"]\n",
        "    all_metrics[i][3] = metrics[\"ctfse\"]"
      ]
    },
    {
      "cell_type": "markdown",
      "metadata": {
        "id": "MvoOuYf2beU8"
      },
      "source": [
        "# Plots"
      ]
    },
    {
      "cell_type": "markdown",
      "metadata": {
        "id": "NDaV2tofcQz4"
      },
      "source": [
        "By running the cell below, you will get the plot showing the estimation of the fairness metrics with 95% confidence interval."
      ]
    },
    {
      "cell_type": "code",
      "execution_count": null,
      "metadata": {
        "colab": {
          "base_uri": "https://localhost:8080/",
          "height": 459
        },
        "id": "twSTYmocb1Pg",
        "outputId": "2c09b31c-fcc1-4da4-f04e-4896b770a16c"
      },
      "outputs": [],
      "source": [
        "plot_confidence_intervals(all_metrics)"
      ]
    },
    {
      "cell_type": "code",
      "execution_count": null,
      "metadata": {
        "colab": {
          "base_uri": "https://localhost:8080/",
          "height": 317
        },
        "id": "Dc1YjC1miWVu",
        "outputId": "359c08e4-58c8-463d-f918-205375229039"
      },
      "outputs": [],
      "source": [
        "Image('notebook_images/causal_effects.png', height=300)"
      ]
    },
    {
      "cell_type": "markdown",
      "metadata": {
        "id": "Y1QlsZ1nTXy8"
      },
      "source": [
        "TV: It is the total variation.\n",
        "\n",
        "DE: It is the direct effect of X on Y.\n",
        "\n",
        "IE: It is the indirect effect of X to Y through W.\n",
        "\n",
        "SE: It is the spurious effect because of the confounder Z."
      ]
    }
  ],
  "metadata": {
    "colab": {
      "collapsed_sections": [
        "XB9UQpPIZhbH"
      ],
      "include_colab_link": true,
      "provenance": []
    },
    "kernelspec": {
      "display_name": "cfa_notebook",
      "language": "python",
      "name": "python3"
    },
    "language_info": {
      "codemirror_mode": {
        "name": "ipython",
        "version": 3
      },
      "file_extension": ".py",
      "mimetype": "text/x-python",
      "name": "python",
      "nbconvert_exporter": "python",
      "pygments_lexer": "ipython3",
      "version": "3.9.16"
    },
    "orig_nbformat": 4,
    "vscode": {
      "interpreter": {
        "hash": "8443c39d101aad9172be71a3e42e0c955420e3003084512d84e370a1925b1a9b"
      }
    },
    "widgets": {
      "application/vnd.jupyter.widget-state+json": {
        "817bd802b20741938064808c79140d19": {
          "model_module": "@jupyter-widgets/base",
          "model_module_version": "1.2.0",
          "model_name": "LayoutModel",
          "state": {
            "_model_module": "@jupyter-widgets/base",
            "_model_module_version": "1.2.0",
            "_model_name": "LayoutModel",
            "_view_count": null,
            "_view_module": "@jupyter-widgets/base",
            "_view_module_version": "1.2.0",
            "_view_name": "LayoutView",
            "align_content": null,
            "align_items": null,
            "align_self": null,
            "border": null,
            "bottom": null,
            "display": null,
            "flex": null,
            "flex_flow": null,
            "grid_area": null,
            "grid_auto_columns": null,
            "grid_auto_flow": null,
            "grid_auto_rows": null,
            "grid_column": null,
            "grid_gap": null,
            "grid_row": null,
            "grid_template_areas": null,
            "grid_template_columns": null,
            "grid_template_rows": null,
            "height": null,
            "justify_content": null,
            "justify_items": null,
            "left": null,
            "margin": null,
            "max_height": null,
            "max_width": null,
            "min_height": null,
            "min_width": null,
            "object_fit": null,
            "object_position": null,
            "order": null,
            "overflow": null,
            "overflow_x": null,
            "overflow_y": null,
            "padding": null,
            "right": null,
            "top": null,
            "visibility": null,
            "width": null
          }
        },
        "909745cae5264229ae4f75e07e776246": {
          "model_module": "@jupyter-widgets/controls",
          "model_module_version": "1.5.0",
          "model_name": "DropdownModel",
          "state": {
            "_dom_classes": [],
            "_model_module": "@jupyter-widgets/controls",
            "_model_module_version": "1.5.0",
            "_model_name": "DropdownModel",
            "_options_labels": [
              "AutoML",
              "OLS1",
              "OLS2",
              "RF1",
              "RF2",
              "NN1",
              "NN2",
              "IPW",
              "DML",
              "TARNet",
              "Dragonnet"
            ],
            "_view_count": null,
            "_view_module": "@jupyter-widgets/controls",
            "_view_module_version": "1.5.0",
            "_view_name": "DropdownView",
            "description": "Estimator:",
            "description_tooltip": null,
            "disabled": false,
            "index": 1,
            "layout": "IPY_MODEL_817bd802b20741938064808c79140d19",
            "style": "IPY_MODEL_e35a330636b840ad916e917c5b4f30f9"
          }
        },
        "c957f677d0c645869234bf4c40bd86d0": {
          "model_module": "@jupyter-widgets/base",
          "model_module_version": "1.2.0",
          "model_name": "LayoutModel",
          "state": {
            "_model_module": "@jupyter-widgets/base",
            "_model_module_version": "1.2.0",
            "_model_name": "LayoutModel",
            "_view_count": null,
            "_view_module": "@jupyter-widgets/base",
            "_view_module_version": "1.2.0",
            "_view_name": "LayoutView",
            "align_content": null,
            "align_items": null,
            "align_self": null,
            "border": null,
            "bottom": null,
            "display": null,
            "flex": null,
            "flex_flow": null,
            "grid_area": null,
            "grid_auto_columns": null,
            "grid_auto_flow": null,
            "grid_auto_rows": null,
            "grid_column": null,
            "grid_gap": null,
            "grid_row": null,
            "grid_template_areas": null,
            "grid_template_columns": null,
            "grid_template_rows": null,
            "height": null,
            "justify_content": null,
            "justify_items": null,
            "left": null,
            "margin": null,
            "max_height": null,
            "max_width": null,
            "min_height": null,
            "min_width": null,
            "object_fit": null,
            "object_position": null,
            "order": null,
            "overflow": null,
            "overflow_x": null,
            "overflow_y": null,
            "padding": null,
            "right": null,
            "top": null,
            "visibility": null,
            "width": null
          }
        },
        "d676b486219740a68c0012abeefac38e": {
          "model_module": "@jupyter-widgets/controls",
          "model_module_version": "1.5.0",
          "model_name": "DescriptionStyleModel",
          "state": {
            "_model_module": "@jupyter-widgets/controls",
            "_model_module_version": "1.5.0",
            "_model_name": "DescriptionStyleModel",
            "_view_count": null,
            "_view_module": "@jupyter-widgets/base",
            "_view_module_version": "1.2.0",
            "_view_name": "StyleView",
            "description_width": ""
          }
        },
        "e35a330636b840ad916e917c5b4f30f9": {
          "model_module": "@jupyter-widgets/controls",
          "model_module_version": "1.5.0",
          "model_name": "DescriptionStyleModel",
          "state": {
            "_model_module": "@jupyter-widgets/controls",
            "_model_module_version": "1.5.0",
            "_model_name": "DescriptionStyleModel",
            "_view_count": null,
            "_view_module": "@jupyter-widgets/base",
            "_view_module_version": "1.2.0",
            "_view_name": "StyleView",
            "description_width": ""
          }
        },
        "e4339ba65d354f848367b0cc03b23630": {
          "model_module": "@jupyter-widgets/controls",
          "model_module_version": "1.5.0",
          "model_name": "TextModel",
          "state": {
            "_dom_classes": [],
            "_model_module": "@jupyter-widgets/controls",
            "_model_module_version": "1.5.0",
            "_model_name": "TextModel",
            "_view_count": null,
            "_view_module": "@jupyter-widgets/controls",
            "_view_module_version": "1.5.0",
            "_view_name": "TextView",
            "continuous_update": true,
            "description": "Runs:",
            "description_tooltip": null,
            "disabled": false,
            "layout": "IPY_MODEL_c957f677d0c645869234bf4c40bd86d0",
            "placeholder": "Enter number of runs",
            "style": "IPY_MODEL_d676b486219740a68c0012abeefac38e",
            "value": "2"
          }
        }
      }
    }
  },
  "nbformat": 4,
  "nbformat_minor": 0
}
