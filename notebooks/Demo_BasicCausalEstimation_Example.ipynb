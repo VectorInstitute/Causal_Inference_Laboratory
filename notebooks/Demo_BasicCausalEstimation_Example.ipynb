{
  "nbformat": 4,
  "nbformat_minor": 0,
  "metadata": {
    "colab": {
      "provenance": [],
      "authorship_tag": "ABX9TyPATHX2O+Q77IlPOM3xPkqq",
      "include_colab_link": true
    },
    "kernelspec": {
      "name": "python3",
      "display_name": "Python 3"
    },
    "language_info": {
      "name": "python"
    }
  },
  "cells": [
    {
      "cell_type": "markdown",
      "metadata": {
        "id": "view-in-github",
        "colab_type": "text"
      },
      "source": [
        "<a href=\"https://colab.research.google.com/github/VectorInstitute/Causal_Inference_Laboratory/blob/main/notebooks/Demo_BasicCausalEstimation_Example.ipynb\" target=\"_parent\"><img src=\"https://colab.research.google.com/assets/colab-badge.svg\" alt=\"Open In Colab\"/></a>"
      ]
    },
    {
      "cell_type": "markdown",
      "source": [
        "Estimating the causal effect of sodium on blood pressure in a simulated example\n",
        "adapted from Luque-Fernandez et al. (2018):\n",
        "    https://academic.oup.com/ije/article/48/2/640/5248195"
      ],
      "metadata": {
        "id": "7hg2GPXDzWXX"
      }
    },
    {
      "cell_type": "code",
      "source": [
        "import numpy as np\n",
        "import pandas as pd\n",
        "from sklearn.linear_model import LinearRegression"
      ],
      "metadata": {
        "id": "3Rtz0rrEzZIL"
      },
      "execution_count": 1,
      "outputs": []
    },
    {
      "cell_type": "code",
      "source": [
        "# Functions\n",
        "def generate_data(n=1000, seed=0, beta1=1.05, alpha1=0.4, alpha2=0.3, binary_treatment=True, binary_cutoff=3.5):\n",
        "    np.random.seed(seed)\n",
        "    age = np.random.normal(65, 5, n)\n",
        "    sodium = age / 18 + np.random.normal(size=n)\n",
        "    if binary_treatment:\n",
        "        if binary_cutoff is None:\n",
        "            binary_cutoff = sodium.mean()\n",
        "        sodium = (sodium > binary_cutoff).astype(int)\n",
        "    blood_pressure = beta1 * sodium + 2 * age + np.random.normal(size=n)\n",
        "    proteinuria = alpha1 * sodium + alpha2 * blood_pressure + np.random.normal(size=n)\n",
        "    hypertension = (blood_pressure >= 140).astype(int)  # not used, but could be used for binary outcomes\n",
        "    return pd.DataFrame({'blood_pressure': blood_pressure, 'sodium': sodium,\n",
        "                         'age': age, 'proteinuria': proteinuria})\n",
        "    \n",
        "def estimate_causal_effect(Xt, y, model=LinearRegression(), treatment_idx=0, regression_coef=False):\n",
        "    model.fit(Xt, y)\n",
        "    if regression_coef:\n",
        "        return model.coef_[treatment_idx]\n",
        "    else:\n",
        "        Xt1 = pd.DataFrame.copy(Xt)\n",
        "        Xt1[Xt.columns[treatment_idx]] = 1\n",
        "        Xt0 = pd.DataFrame.copy(Xt)\n",
        "        Xt0[Xt.columns[treatment_idx]] = 0\n",
        "        return (model.predict(Xt1) - model.predict(Xt0)).mean()\n"
      ],
      "metadata": {
        "id": "l0t3blmUzbeN"
      },
      "execution_count": 2,
      "outputs": []
    },
    {
      "cell_type": "code",
      "source": [
        "if __name__ == '__main__':\n",
        "    binary_t_df = generate_data(beta1=1.05, alpha1=.4, alpha2=.3, binary_treatment=True, n=10000000)\n",
        "    continuous_t_df = generate_data(beta1=1.05, alpha1=.4, alpha2=.3, binary_treatment=False, n=10000000)\n",
        "\n",
        "    ate_est_naive = None\n",
        "    ate_est_adjust_all = None\n",
        "    ate_est_adjust_age = None\n",
        "\n",
        "    for df, name in zip([binary_t_df],\n",
        "                        ['Binary Treatment Data', 'Continuous Treatment Data']):\n",
        "        print()\n",
        "        print('### {} ###'.format(name))\n",
        "        print()\n",
        "\n",
        "        # Adjustment formula estimates\n",
        "        ate_est_naive = estimate_causal_effect(df[['sodium']], df['blood_pressure'], treatment_idx=0)\n",
        "        ate_est_adjust_all = estimate_causal_effect(df[['sodium', 'age', 'proteinuria']],\n",
        "                                                    df['blood_pressure'], treatment_idx=0)\n",
        "        ate_est_adjust_age = estimate_causal_effect(df[['sodium', 'age']], df['blood_pressure'])\n",
        "        print('# Adjustment Formula Estimates #')\n",
        "        print('Naive ATE estimate:\\t\\t\\t\\t\\t\\t\\t', ate_est_naive)\n",
        "        print('ATE estimate adjusting for all covariates:\\t', ate_est_adjust_all)\n",
        "        print('ATE estimate adjusting for age:\\t\\t\\t\\t', ate_est_adjust_age)\n",
        "        print()\n",
        "\n",
        "        # Linear regression coefficient estimates\n",
        "        ate_est_naive = estimate_causal_effect(df[['sodium']], df['blood_pressure'], treatment_idx=0,\n",
        "                                               regression_coef=True)\n",
        "        ate_est_adjust_all = estimate_causal_effect(df[['sodium', 'age', 'proteinuria']],\n",
        "                                                    df['blood_pressure'], treatment_idx=0,\n",
        "                                                    regression_coef=True)\n",
        "        ate_est_adjust_age = estimate_causal_effect(df[['sodium', 'age']], df['blood_pressure'],\n",
        "                                                    regression_coef=True)\n",
        "        print('# Regression Coefficient Estimates #')\n",
        "        print('Naive ATE estimate:\\t\\t\\t\\t\\t\\t\\t', ate_est_naive)\n",
        "        print('ATE estimate adjusting for all covariates:\\t', ate_est_adjust_all)\n",
        "        print('ATE estimate adjusting for age:\\t\\t\\t\\t', ate_est_adjust_age)\n",
        "        print()"
      ],
      "metadata": {
        "colab": {
          "base_uri": "https://localhost:8080/"
        },
        "id": "dvDVZ_dozM9h",
        "outputId": "8f04d65d-801e-4d55-82f1-b0981eb1ca9d"
      },
      "execution_count": 4,
      "outputs": [
        {
          "output_type": "stream",
          "name": "stdout",
          "text": [
            "\n",
            "### Binary Treatment Data ###\n",
            "\n",
            "# Adjustment Formula Estimates #\n",
            "Naive ATE estimate:\t\t\t\t\t\t\t 5.328501680864975\n",
            "ATE estimate adjusting for all covariates:\t 0.8537946431496021\n",
            "ATE estimate adjusting for age:\t\t\t\t 1.0502124539714488\n",
            "\n",
            "# Regression Coefficient Estimates #\n",
            "Naive ATE estimate:\t\t\t\t\t\t\t 5.328501680864978\n",
            "ATE estimate adjusting for all covariates:\t 0.8537946431495851\n",
            "ATE estimate adjusting for age:\t\t\t\t 1.0502124539714823\n",
            "\n"
          ]
        }
      ]
    }
  ]
}